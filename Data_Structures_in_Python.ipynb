{
  "nbformat": 4,
  "nbformat_minor": 0,
  "metadata": {
    "colab": {
      "provenance": [],
      "authorship_tag": "ABX9TyOx2Bt5WOs41NBjwkzrduSt",
      "include_colab_link": true
    },
    "kernelspec": {
      "name": "python3",
      "display_name": "Python 3"
    },
    "language_info": {
      "name": "python"
    }
  },
  "cells": [
    {
      "cell_type": "markdown",
      "metadata": {
        "id": "view-in-github",
        "colab_type": "text"
      },
      "source": [
        "<a href=\"https://colab.research.google.com/github/pushpitab18/PW_PYTHON_ASSIGNMENTS/blob/main/Data_Structures_in_Python.ipynb\" target=\"_parent\"><img src=\"https://colab.research.google.com/assets/colab-badge.svg\" alt=\"Open In Colab\"/></a>"
      ]
    },
    {
      "cell_type": "markdown",
      "source": [
        "#\"**Assignments**: Data Structures in Python \""
      ],
      "metadata": {
        "id": "8JpyCZGFFS9j"
      }
    },
    {
      "cell_type": "markdown",
      "source": [
        "#Q1 : Write a code to reverse a string.\n",
        "\n",
        "###ans :   Here are a few ways to reverse a string in Python:\n"
      ],
      "metadata": {
        "id": "-dUdg9tcFx3l"
      }
    },
    {
      "cell_type": "code",
      "source": [
        "#Method 1: Using Slicing\n",
        "\n",
        "\n",
        "def reverse_string(s):\n",
        "    return s[::-1]\n",
        "\n",
        "# Test the function\n",
        "print(reverse_string(\"Hello World\"))\n",
        "\n",
        "\n",
        "#Method 2: Using the reversed Function\n",
        "\n",
        "\n",
        "def reverse_string(s):\n",
        "    return \"\".join(reversed(s))\n",
        "\n",
        "# Test the function\n",
        "print(reverse_string(\"Hello World\"))\n",
        "\n",
        "\n",
        "#Method 3: Using a Loop\n",
        "\n",
        "\n",
        "def reverse_string(s):\n",
        "    reversed_s = \"\"\n",
        "    for char in s:\n",
        "        reversed_s = char + reversed_s\n",
        "    return reversed_s\n",
        "\n",
        "# Test the function\n",
        "print(reverse_string(\"Hello World\"))\n",
        "\n",
        "\n",
        "#Method 4: Using Recursion\n",
        "\n",
        "\n",
        "def reverse_string(s):\n",
        "    if len(s) == 0:\n",
        "        return s\n",
        "    else:\n",
        "        return reverse_string(s[1:]) + s[0]\n",
        "\n",
        "# Test the function\n",
        "print(reverse_string(\"Hello World\"))\n"
      ],
      "metadata": {
        "colab": {
          "base_uri": "https://localhost:8080/"
        },
        "id": "cmUaOBYaGbLA",
        "outputId": "bf253499-6077-4629-e5ec-d3c8bfb32700"
      },
      "execution_count": null,
      "outputs": [
        {
          "output_type": "stream",
          "name": "stdout",
          "text": [
            "dlroW olleH\n",
            "dlroW olleH\n",
            "dlroW olleH\n",
            "dlroW olleH\n"
          ]
        }
      ]
    },
    {
      "cell_type": "markdown",
      "source": [
        "#Q2 : Write a code to count the number of vowels in a string.\n",
        "\n",
        "\n",
        "###ans : Here is a simple Python code that counts the number of vowels in a given string:\n",
        "\n"
      ],
      "metadata": {
        "id": "YJMGlr1KG366"
      }
    },
    {
      "cell_type": "code",
      "source": [
        "def count_vowels(s):\n",
        "    s = s.lower()\n",
        "    vowels = 'aeiou'\n",
        "    count = 0\n",
        "    for char in s:\n",
        "        if char in vowels:\n",
        "            count += 1\n",
        "    return count\n",
        "\n",
        "# Test the function\n",
        "s = input(\"Enter a string: \")\n",
        "print(\"Number of vowels:\", count_vowels(s))\n"
      ],
      "metadata": {
        "colab": {
          "base_uri": "https://localhost:8080/"
        },
        "id": "qpq7H2elHbwg",
        "outputId": "8ea4a787-f589-47b0-d35d-544e96bdc2c9"
      },
      "execution_count": null,
      "outputs": [
        {
          "output_type": "stream",
          "name": "stdout",
          "text": [
            "Enter a string: henry\n",
            "Number of vowels: 1\n"
          ]
        }
      ]
    },
    {
      "cell_type": "markdown",
      "source": [
        "#Q3 : Write a code to check if a given string is a palindrome or not.\n",
        "\n",
        "\n",
        "###ans :  Here is a simple Python code that checks if a given string is a palindrome or not:\n",
        "\n",
        "\n"
      ],
      "metadata": {
        "id": "CIueaqjiHwze"
      }
    },
    {
      "cell_type": "code",
      "source": [
        "def is_palindrome(s):\n",
        "    s = ''.join(c for c in s if c.isalnum()).lower()\n",
        "    return s == s[::-1]\n",
        "\n",
        "# Test the function\n",
        "s = input(\"Enter a string: \")\n",
        "if is_palindrome(s):\n",
        "    print(f\"'{s}' is a palindrome.\")\n",
        "else:\n",
        "    print(f\"'{s}' is not a palindrome.\")\n",
        "\n"
      ],
      "metadata": {
        "colab": {
          "base_uri": "https://localhost:8080/"
        },
        "id": "Jwv5mOF6IAKY",
        "outputId": "3e81ae8e-c26b-40df-cef1-ce0041d40f49"
      },
      "execution_count": null,
      "outputs": [
        {
          "output_type": "stream",
          "name": "stdout",
          "text": [
            "Enter a string: 12321\n",
            "'12321' is a palindrome.\n"
          ]
        }
      ]
    },
    {
      "cell_type": "markdown",
      "source": [
        "#Q4 : Write a code to check if two given strings are anagrams of each other.\n",
        "\n",
        "###ans : Here the Python code that checks if two given strings are anagrams of each other:\n"
      ],
      "metadata": {
        "id": "paDA_WdSIYKA"
      }
    },
    {
      "cell_type": "code",
      "source": [
        "def are_anagrams(str1, str2):\n",
        "    # Remove any white spaces and convert to lower case\n",
        "    str1 = str1.replace(\" \", \"\").lower()\n",
        "    str2 = str2.replace(\" \", \"\").lower()\n",
        "\n",
        "    # Check if both strings have the same length\n",
        "    if len(str1) != len(str2):\n",
        "        return False\n",
        "\n",
        "    # Sort both strings and compare them\n",
        "    return sorted(str1) == sorted(str2)\n",
        "\n",
        "# Test the function\n",
        "str1 = input(\"Enter the first string: \")\n",
        "str2 = input(\"Enter the second string: \")\n",
        "\n",
        "if are_anagrams(str1, str2):\n",
        "    print(f\"'{str1}' and '{str2}' are anagrams.\")\n",
        "else:\n",
        "    print(f\"'{str1}' and '{str2}' are not anagrams.\")\n",
        "\n"
      ],
      "metadata": {
        "colab": {
          "base_uri": "https://localhost:8080/"
        },
        "id": "ZhsX5Rm1I0-h",
        "outputId": "5d424b2a-248e-4ed6-8943-fd6942f68fd8"
      },
      "execution_count": null,
      "outputs": [
        {
          "output_type": "stream",
          "name": "stdout",
          "text": [
            "Enter the first string: listen\n",
            "Enter the second string: silent\n",
            "'listen' and 'silent' are anagrams.\n"
          ]
        }
      ]
    },
    {
      "cell_type": "markdown",
      "source": [
        "#Q5 : Write a code to find all occurrences of a given substring within another string.\n",
        "\n",
        "\n",
        "###ans : Here's the Python code that finds all occurrences of a given substring within another string:\n"
      ],
      "metadata": {
        "id": "tO1pX2GiLbzs"
      }
    },
    {
      "cell_type": "code",
      "source": [
        "def find_substring(main_string, sub_string):\n",
        "    # Initialize an empty list to store the indices\n",
        "    indices = []\n",
        "\n",
        "    # Initialize a variable to keep track of the current index\n",
        "    index = 0\n",
        "\n",
        "    # Loop until the substring is not found\n",
        "    while index < len(main_string):\n",
        "        # Find the index of the substring\n",
        "        index = main_string.find(sub_string, index)\n",
        "\n",
        "        # If the substring is not found, break the loop\n",
        "        if index == -1:\n",
        "            break\n",
        "\n",
        "        # Add the index to the list\n",
        "        indices.append(index)\n",
        "# Increment the index to continue searching from the next position\n",
        "        index += 1\n",
        "\n",
        "    return indices\n",
        "\n",
        "# Test the function\n",
        "main_string = \"Hello, World! Hello again!\"\n",
        "sub_string = \"Hello\"\n",
        "\n",
        "indices = find_substring(main_string, sub_string)\n",
        "\n",
        "if indices:\n",
        "    print(f\"The substring '{sub_string}' is found at the following indices:\")\n",
        "    for index in indices:\n",
        "        print(index)\n",
        "else:\n",
        "    print(f\"The substring '{sub_string}' is not found in the main string.\")\n"
      ],
      "metadata": {
        "colab": {
          "base_uri": "https://localhost:8080/"
        },
        "id": "mquFCjFbLwRV",
        "outputId": "23e7d367-4dfc-4d38-f672-48d42f535be8"
      },
      "execution_count": null,
      "outputs": [
        {
          "output_type": "stream",
          "name": "stdout",
          "text": [
            "The substring 'Hello' is found at the following indices:\n",
            "0\n",
            "14\n"
          ]
        }
      ]
    },
    {
      "cell_type": "markdown",
      "source": [
        "#Q6 : Write a code to perform basic string compression using the counts of repeated characters.\n",
        "\n",
        "\n",
        "###ans :  Here is a Python code that performs basic string compression using the counts of repeated characters:"
      ],
      "metadata": {
        "id": "oPtTtZM7MkXu"
      }
    },
    {
      "cell_type": "code",
      "source": [
        "def compress_string(s):\n",
        "    # Initialize an empty string to store the compressed string\n",
        "    compressed = \"\"\n",
        "\n",
        "    # Initialize variables to keep track of the current character and its count\n",
        "    current_char = s[0]\n",
        "    current_count = 1\n",
        "\n",
        "    # Iterate over the string starting from the second character\n",
        "    for char in s[1:]:\n",
        "        # If the current character is the same as the previous one, increment the count\n",
        "        if char == current_char:\n",
        "            current_count += 1\n",
        "        # If the current character is different from the previous one, append the previous character and its count to the compressed string, and reset the count\n",
        "        else:\n",
        "            compressed += current_char + str(current_count)\n",
        "            current_char = char\n",
        "            current_count = 1\n",
        "\n",
        "    # Append the last character and its count to the compressed string\n",
        "    compressed += current_char + str(current_count)\n",
        "\n",
        "    return compressed\n",
        "\n",
        "# Test the function\n",
        "s = \"AAABBBCCCDDDD\"\n",
        "print(\"Original string:\", s)\n",
        "print(\"Compressed string:\", compress_string(s))\n"
      ],
      "metadata": {
        "colab": {
          "base_uri": "https://localhost:8080/"
        },
        "id": "BYQOsVT9M1sM",
        "outputId": "b93659ec-5abd-438e-df55-a73c77f46dd3"
      },
      "execution_count": null,
      "outputs": [
        {
          "output_type": "stream",
          "name": "stdout",
          "text": [
            "Original string: AAABBBCCCDDDD\n",
            "Compressed string: A3B3C3D4\n"
          ]
        }
      ]
    },
    {
      "cell_type": "markdown",
      "source": [
        "#Q7 : Write a code to determine if a string has all unique characters.\n",
        "\n",
        "\n",
        "###ans :"
      ],
      "metadata": {
        "id": "SQ8RfiehM8xH"
      }
    },
    {
      "cell_type": "code",
      "source": [
        "def has_unique_chars(s):\n",
        "    # Convert the string to a set, which automatically removes duplicates\n",
        "    char_set = set(s)\n",
        "\n",
        "    # If the length of the set is equal to the length of the string, all characters are unique\n",
        "    return len(char_set) == len(s)\n",
        "\n",
        "# Test the function\n",
        "s = \"abcdefg\"\n",
        "print(f\"Does '{s}' have all unique characters? {has_unique_chars(s)}\")\n",
        "\n",
        "s = \"aabbcc\"\n",
        "print(f\"Does '{s}' have all unique characters? {has_unique_chars(s)}\")\n"
      ],
      "metadata": {
        "colab": {
          "base_uri": "https://localhost:8080/"
        },
        "id": "9xsN9fNONQOx",
        "outputId": "b7599ce8-8c31-4e7c-e967-b5e669e92063"
      },
      "execution_count": null,
      "outputs": [
        {
          "output_type": "stream",
          "name": "stdout",
          "text": [
            "Does 'abcdefg' have all unique characters? True\n",
            "Does 'aabbcc' have all unique characters? False\n"
          ]
        }
      ]
    },
    {
      "cell_type": "markdown",
      "source": [
        "#Q8 : Write a code to convert a given string to uppercase or lowercase.\n"
      ],
      "metadata": {
        "id": "VY5AA-NxNTYI"
      }
    },
    {
      "cell_type": "code",
      "source": [
        "#ans :\n",
        "\n",
        "def convert_case(s, case):\n",
        "    if case.lower() == 'upper':\n",
        "        return s.upper()\n",
        "    elif case.lower() == 'lower':\n",
        "        return s.lower()\n",
        "    else:\n",
        "        return \"Invalid case. Please enter 'upper' or 'lower'.\"\n",
        "\n",
        "# Test the function\n",
        "s = \"Henry Cavill.\"\n",
        "print(\"Original string:\", s)\n",
        "\n",
        "print(\"Uppercase string:\", convert_case(s, 'upper'))\n",
        "print(\"Lowercase string:\", convert_case(s, 'lower'))\n",
        "\n"
      ],
      "metadata": {
        "colab": {
          "base_uri": "https://localhost:8080/"
        },
        "id": "2AdEx0muNbPI",
        "outputId": "b522ab38-6c6f-4c32-c2e7-e2fe90acf33d"
      },
      "execution_count": null,
      "outputs": [
        {
          "output_type": "stream",
          "name": "stdout",
          "text": [
            "Original string: Henry Cavill.\n",
            "Uppercase string: HENRY CAVILL.\n",
            "Lowercase string: henry cavill.\n"
          ]
        }
      ]
    },
    {
      "cell_type": "markdown",
      "source": [
        "#Q9 : Write a code to count the number of words in a string."
      ],
      "metadata": {
        "id": "xNeGjqyZOHnB"
      }
    },
    {
      "cell_type": "code",
      "source": [
        "#ans :\n",
        "def count_words(s):\n",
        "    # Remove leading and trailing whitespaces\n",
        "    s = s.strip()\n",
        "\n",
        "    # Split the string into words\n",
        "    words = s.split()\n",
        "\n",
        "    # Return the number of words\n",
        "    return len(words)\n",
        "\n",
        "# Test the function\n",
        "s = \"This is a sample string with multiple words.\"\n",
        "print(\"String:\", s)\n",
        "print(\"Number of words:\", count_words(s))\n",
        "\n"
      ],
      "metadata": {
        "colab": {
          "base_uri": "https://localhost:8080/"
        },
        "id": "wf-42Se-ONm9",
        "outputId": "b0d6003c-6a10-45ed-afc4-1ae190fd295f"
      },
      "execution_count": null,
      "outputs": [
        {
          "output_type": "stream",
          "name": "stdout",
          "text": [
            "String: This is a sample string with multiple words.\n",
            "Number of words: 8\n"
          ]
        }
      ]
    },
    {
      "cell_type": "markdown",
      "source": [
        "#Q10 :  Write a code to concatenate two strings without using the + operator.\n"
      ],
      "metadata": {
        "id": "KVtEk0ZyOcGj"
      }
    },
    {
      "cell_type": "code",
      "source": [
        "#ans :\n",
        "def concatenate_strings(str1, str2):\n",
        "    # Use the join() method to concatenate the strings\n",
        "    return ''.join([str1, str2])\n",
        "\n",
        "# Test the function\n",
        "str1 = \"Hello\"\n",
        "str2 = \"World\"\n",
        "print(\"Concatenated string:\", concatenate_strings(str1, str2))"
      ],
      "metadata": {
        "colab": {
          "base_uri": "https://localhost:8080/"
        },
        "id": "ZFCKuJUgOiqE",
        "outputId": "38a475b9-39c6-4926-d6a0-6f047b8324d3"
      },
      "execution_count": null,
      "outputs": [
        {
          "output_type": "stream",
          "name": "stdout",
          "text": [
            "Concatenated string: HelloWorld\n"
          ]
        }
      ]
    },
    {
      "cell_type": "markdown",
      "source": [
        "#Q11 : Write a code to remove all occurrences of a specific element from a list."
      ],
      "metadata": {
        "id": "2DZxzaH7GBNb"
      }
    },
    {
      "cell_type": "code",
      "source": [
        "#ans :\n",
        "def remove_element(lst, elem):\n",
        "    # Use a list comprehension to create a new list without the element\n",
        "    return [x for x in lst if x != elem]\n",
        "\n",
        "# Test the function\n",
        "lst = [1, 2, 3, 2, 4, 2, 5]\n",
        "elem = 2\n",
        "print(\"Original list:\", lst)\n",
        "print(\"List after removing\", elem, \":\", remove_element(lst, elem))\n"
      ],
      "metadata": {
        "colab": {
          "base_uri": "https://localhost:8080/"
        },
        "id": "ZoDs2d0zGYVN",
        "outputId": "6d80e61b-e796-4c61-87f1-1d197ea1ab4d"
      },
      "execution_count": null,
      "outputs": [
        {
          "output_type": "stream",
          "name": "stdout",
          "text": [
            "Original list: [1, 2, 3, 2, 4, 2, 5]\n",
            "List after removing 2 : [1, 3, 4, 5]\n"
          ]
        }
      ]
    },
    {
      "cell_type": "markdown",
      "source": [
        "#Q12 : Implement a code to find the second largest number in a given list of integers.\n"
      ],
      "metadata": {
        "id": "8KW2dtzTGc9Z"
      }
    },
    {
      "cell_type": "code",
      "source": [
        "#ans :\n",
        "def find_second_largest(lst):\n",
        "    # Check if the list has less than 2 elements\n",
        "    if len(lst) < 2:\n",
        "        return None\n",
        "\n",
        "    # Initialize max and second_max variables\n",
        "    max_num = second_max = float('-inf')\n",
        "\n",
        "    # Iterate through the list to find max and second_max\n",
        "    for num in lst:\n",
        "        if num > max_num:\n",
        "            second_max = max_num\n",
        "            max_num = num\n",
        "        elif num > second_max and num != max_num:\n",
        "            second_max = num\n",
        "\n",
        "    # Check if second_max is still -inf (i.e., no second largest number)\n",
        "    if second_max == float('-inf'):\n",
        "        return None\n",
        "\n",
        "    return second_max\n",
        "\n",
        "# Test the function\n",
        "lst = [10, 20, 30, 40, 50]\n",
        "print(\"List:\", lst)\n",
        "print(\"Second largest number:\", find_second_largest(lst))\n"
      ],
      "metadata": {
        "colab": {
          "base_uri": "https://localhost:8080/"
        },
        "id": "aKQChyzqGnTf",
        "outputId": "80f6014b-c340-483b-8621-506cc2bc5728"
      },
      "execution_count": null,
      "outputs": [
        {
          "output_type": "stream",
          "name": "stdout",
          "text": [
            "List: [10, 20, 30, 40, 50]\n",
            "Second largest number: 40\n"
          ]
        }
      ]
    },
    {
      "cell_type": "markdown",
      "source": [
        "#Q13 : Create a code to count the occurrences of each element in a list and return a dictionary with elements as keys and their counts as values."
      ],
      "metadata": {
        "id": "K-IzUNAOHXeJ"
      }
    },
    {
      "cell_type": "code",
      "source": [
        "#ans :\n",
        "def count_elements(lst):\n",
        "    # Initialize an empty dictionary to store the counts\n",
        "    counts = {}\n",
        "\n",
        "    # Iterate through the list to count the occurrences of each element\n",
        "    for elem in lst:\n",
        "        if elem in counts:\n",
        "            counts[elem] += 1\n",
        "        else:\n",
        "            counts[elem] = 1\n",
        "\n",
        "    return counts\n",
        "\n",
        "# Test the function\n",
        "lst = [1, 2, 2, 3, 3, 3, 4, 4, 4, 4]\n",
        "print(\"List:\", lst)\n",
        "print(\"Element counts:\", count_elements(lst))\n"
      ],
      "metadata": {
        "colab": {
          "base_uri": "https://localhost:8080/"
        },
        "id": "NkesznIuJ9IM",
        "outputId": "4bb3167e-8350-400d-c45d-f2b2e13f53f2"
      },
      "execution_count": null,
      "outputs": [
        {
          "output_type": "stream",
          "name": "stdout",
          "text": [
            "List: [1, 2, 2, 3, 3, 3, 4, 4, 4, 4]\n",
            "Element counts: {1: 1, 2: 2, 3: 3, 4: 4}\n"
          ]
        }
      ]
    },
    {
      "cell_type": "markdown",
      "source": [
        "#Q14 :  Write a code to reverse a list in-place without using any built-in reverse functions.\n"
      ],
      "metadata": {
        "id": "0WpmU2cEKX3N"
      }
    },
    {
      "cell_type": "code",
      "source": [
        "#ans :\n",
        "\n",
        "def reverse_list(lst):\n",
        "    # Initialize two pointers, one at the start and one at the end of the list\n",
        "    left = 0\n",
        "    right = len(lst) - 1\n",
        "\n",
        "    # Iterate through the list, swapping elements at the left and right pointers\n",
        "    while left < right:\n",
        "        # Swap elements at the left and right pointers\n",
        "        lst[left], lst[right] = lst[right], lst[left]\n",
        "\n",
        "        # Move the pointers towards the center of the list\n",
        "        left += 1\n",
        "        right -= 1\n",
        "\n",
        "    return lst\n",
        "\n",
        "# Test the function\n",
        "lst = [1, 2, 3, 4, 5]\n",
        "print(\"Original list:\", lst)\n",
        "print(\"Reversed list:\", reverse_list(lst))\n"
      ],
      "metadata": {
        "colab": {
          "base_uri": "https://localhost:8080/"
        },
        "id": "pF7EzyjuKiMI",
        "outputId": "2c628142-13d9-4b19-92ae-66af5c48a207"
      },
      "execution_count": null,
      "outputs": [
        {
          "output_type": "stream",
          "name": "stdout",
          "text": [
            "Original list: [1, 2, 3, 4, 5]\n",
            "Reversed list: [5, 4, 3, 2, 1]\n"
          ]
        }
      ]
    },
    {
      "cell_type": "markdown",
      "source": [
        "#Q15 : Implement a code to find and remove duplicates from a list while preserving the original order of elements."
      ],
      "metadata": {
        "id": "ugJ6nzWQL7Yl"
      }
    },
    {
      "cell_type": "code",
      "source": [
        "#ans :\n",
        "\n",
        "def remove_duplicates(lst):\n",
        "    # Initialize an empty list to store the unique elements\n",
        "    unique_lst = []\n",
        "\n",
        "    # Iterate through the original list\n",
        "    for elem in lst:\n",
        "        # Check if the element is not already in the unique list\n",
        "        if elem not in unique_lst:\n",
        "            # Add the element to the unique list\n",
        "            unique_lst.append(elem)\n",
        "\n",
        "    return unique_lst\n",
        "\n",
        "# Test the function\n",
        "lst = [1, 2, 3, 2, 4, 5, 6, 2, 3, 7, 8, 9]\n",
        "print(\"Original list:\", lst)\n",
        "print(\"List without duplicates:\", remove_duplicates(lst))\n"
      ],
      "metadata": {
        "colab": {
          "base_uri": "https://localhost:8080/"
        },
        "id": "4M2VZKQhMGb5",
        "outputId": "0964bc25-f93c-483e-ab62-6a4a7cbf7d0a"
      },
      "execution_count": null,
      "outputs": [
        {
          "output_type": "stream",
          "name": "stdout",
          "text": [
            "Original list: [1, 2, 3, 2, 4, 5, 6, 2, 3, 7, 8, 9]\n",
            "List without duplicates: [1, 2, 3, 4, 5, 6, 7, 8, 9]\n"
          ]
        }
      ]
    },
    {
      "cell_type": "markdown",
      "source": [
        " #Q16 : Create a code to check if a given list is sorted (either in ascending or descending order) or not."
      ],
      "metadata": {
        "id": "8isfTbSFMfJB"
      }
    },
    {
      "cell_type": "code",
      "source": [
        "#ans :\n",
        "def is_sorted(lst):\n",
        "    # Check if the list is sorted in ascending order\n",
        "    if lst == sorted(lst):\n",
        "        return \"List is sorted in ascending order\"\n",
        "\n",
        "    # Check if the list is sorted in descending order\n",
        "    elif lst == sorted(lst, reverse=True):\n",
        "        return \"List is sorted in descending order\"\n",
        "\n",
        "    else:\n",
        "        return \"List is not sorted\"\n",
        "\n",
        "# Test the function\n",
        "lst1 = [1, 2, 3, 4, 5]\n",
        "lst2 = [5, 4, 3, 2, 1]\n",
        "lst3 = [1, 3, 2, 4, 5]\n",
        "\n",
        "print(is_sorted(lst1))\n",
        "print(is_sorted(lst2))\n",
        "print(is_sorted(lst3))\n"
      ],
      "metadata": {
        "colab": {
          "base_uri": "https://localhost:8080/"
        },
        "id": "HiSFeNaPOTZF",
        "outputId": "01e76f12-dfd9-43bb-c4b7-8dd5e78caf63"
      },
      "execution_count": null,
      "outputs": [
        {
          "output_type": "stream",
          "name": "stdout",
          "text": [
            "List is sorted in ascending order\n",
            "List is sorted in descending order\n",
            "List is not sorted\n"
          ]
        }
      ]
    },
    {
      "cell_type": "markdown",
      "source": [
        "#Q17 : Write a code to merge two sorted lists into a single sorted list.\n"
      ],
      "metadata": {
        "id": "dLp7D1iOOpR9"
      }
    },
    {
      "cell_type": "code",
      "source": [
        "#ans :\n",
        "def merge_sorted_lists(list1, list2):\n",
        "    # Initialize an empty list to store the merged result\n",
        "    merged_list = []\n",
        "\n",
        "    # Initialize two pointers, one for each list\n",
        "    i = j = 0\n",
        "\n",
        "    # Merge the two lists\n",
        "    while i < len(list1) and j < len(list2):\n",
        "        if list1[i] < list2[j]:\n",
        "            merged_list.append(list1[i])\n",
        "            i += 1\n",
        "        else:\n",
        "            merged_list.append(list2[j])\n",
        "            j += 1\n",
        "\n",
        "    # Append any remaining elements from list1\n",
        "    while i < len(list1):\n",
        "        merged_list.append(list1[i])\n",
        "        i += 1\n",
        "\n",
        "    # Append any remaining elements from list2\n",
        "    while j < len(list2):\n",
        "        merged_list.append(list2[j])\n",
        "        j += 1\n",
        "\n",
        "    return merged_list\n",
        "\n",
        "# Test the function\n",
        "list1 = [1, 3, 5, 7]\n",
        "list2 = [2, 4, 6, 8]\n",
        "print(\"List 1:\", list1)\n",
        "print(\"List 2:\", list2)\n",
        "print(\"Merged list:\", merge_sorted_lists(list1, list2))\n"
      ],
      "metadata": {
        "colab": {
          "base_uri": "https://localhost:8080/"
        },
        "id": "S0ULmYiXOvWt",
        "outputId": "6cdb943c-e50b-47e7-ba51-93207eacb561"
      },
      "execution_count": null,
      "outputs": [
        {
          "output_type": "stream",
          "name": "stdout",
          "text": [
            "List 1: [1, 3, 5, 7]\n",
            "List 2: [2, 4, 6, 8]\n",
            "Merged list: [1, 2, 3, 4, 5, 6, 7, 8]\n"
          ]
        }
      ]
    },
    {
      "cell_type": "markdown",
      "source": [
        "#Q18 : Implement a code to find the intersection of two given lists."
      ],
      "metadata": {
        "id": "Uf5znJFLPFCR"
      }
    },
    {
      "cell_type": "code",
      "source": [
        "#ans :\n",
        "def find_intersection(list1, list2):\n",
        "    # Convert the lists to sets\n",
        "    set1 = set(list1)\n",
        "    set2 = set(list2)\n",
        "\n",
        "    # Find the intersection of the two sets\n",
        "    intersection = set1 & set2\n",
        "\n",
        "    # Convert the intersection set back to a list\n",
        "    intersection_list = list(intersection)\n",
        "\n",
        "    return intersection_list\n",
        "\n",
        "# Test the function\n",
        "list1 = [1, 2, 3, 4, 5]\n",
        "list2 = [4, 5, 6, 7, 8]\n",
        "print(\"List 1:\", list1)\n",
        "print(\"List 2:\", list2)\n",
        "print(\"Intersection:\", find_intersection(list1, list2))\n"
      ],
      "metadata": {
        "colab": {
          "base_uri": "https://localhost:8080/"
        },
        "id": "PX2jRejtPS8_",
        "outputId": "99594fe7-715c-442b-c09c-f50fa7b971dd"
      },
      "execution_count": null,
      "outputs": [
        {
          "output_type": "stream",
          "name": "stdout",
          "text": [
            "List 1: [1, 2, 3, 4, 5]\n",
            "List 2: [4, 5, 6, 7, 8]\n",
            "Intersection: [4, 5]\n"
          ]
        }
      ]
    },
    {
      "cell_type": "markdown",
      "source": [
        "#Q19 : Create a code to find the union of two lists without duplicates."
      ],
      "metadata": {
        "id": "AaCtyTe_P5Wo"
      }
    },
    {
      "cell_type": "code",
      "source": [
        "#ans :\n",
        "def find_union(list1, list2):\n",
        "    # Convert the lists to sets\n",
        "    set1 = set(list1)\n",
        "    set2 = set(list2)\n",
        "\n",
        "    # Find the union of the two sets\n",
        "    union = set1 | set2\n",
        "\n",
        "    # Convert the union set back to a list\n",
        "    union_list = list(union)\n",
        "\n",
        "    return union_list\n",
        "\n",
        "# Test the function\n",
        "list1 = [1, 2, 3, 4, 5]\n",
        "list2 = [4, 5, 6, 7, 8]\n",
        "print(\"List 1:\", list1)\n",
        "print(\"List 2:\", list2)\n",
        "print(\"Union:\", find_union(list1, list2))"
      ],
      "metadata": {
        "colab": {
          "base_uri": "https://localhost:8080/"
        },
        "id": "7uWeuKTKQAue",
        "outputId": "9819c783-1d5a-4f54-fb73-6eca31588b9e"
      },
      "execution_count": null,
      "outputs": [
        {
          "output_type": "stream",
          "name": "stdout",
          "text": [
            "List 1: [1, 2, 3, 4, 5]\n",
            "List 2: [4, 5, 6, 7, 8]\n",
            "Union: [1, 2, 3, 4, 5, 6, 7, 8]\n"
          ]
        }
      ]
    },
    {
      "cell_type": "markdown",
      "source": [
        "#Q20 : Write a code to shuffle a given list randomly without using any built-in shuffle functions.\n"
      ],
      "metadata": {
        "id": "aJi4wAPDQTDt"
      }
    },
    {
      "cell_type": "code",
      "source": [
        "#ans :\n",
        "import random\n",
        "\n",
        "def shuffle_list(lst):\n",
        "    # Loop through the list from the last element to the first\n",
        "    for i in range(len(lst) - 1, 0, -1):\n",
        "        # Generate a random index j such that 0 <= j <= i\n",
        "        j = random.randint(0, i)\n",
        "\n",
        "        # Swap the elements at indices i and j\n",
        "        lst[i], lst[j] = lst[j], lst[i]\n",
        "\n",
        "    return lst\n",
        "\n",
        "# Test the function\n",
        "lst = [1, 2, 3, 4, 5, 6, 7, 8, 9]\n",
        "print(\"Original list:\", lst)\n",
        "print(\"Shuffled list:\", shuffle_list(lst))\n"
      ],
      "metadata": {
        "colab": {
          "base_uri": "https://localhost:8080/"
        },
        "id": "Z5pOPu7VQa5-",
        "outputId": "92b39ba7-3405-4a22-ef24-361ba3ec3cde"
      },
      "execution_count": null,
      "outputs": [
        {
          "output_type": "stream",
          "name": "stdout",
          "text": [
            "Original list: [1, 2, 3, 4, 5, 6, 7, 8, 9]\n",
            "Shuffled list: [2, 4, 9, 6, 3, 1, 5, 8, 7]\n"
          ]
        }
      ]
    },
    {
      "cell_type": "markdown",
      "source": [
        "#Q21 : Write a code that takes two tuples as input and returns a new tuple containing elements that are common to both input tuples."
      ],
      "metadata": {
        "id": "kc6rd4a6QnsU"
      }
    },
    {
      "cell_type": "code",
      "source": [
        "#ans :\n",
        "def common_elements(tuple1, tuple2):\n",
        "    # Convert the tuples to sets\n",
        "    set1 = set(tuple1)\n",
        "    set2 = set(tuple2)\n",
        "\n",
        "    # Find the intersection of the two sets\n",
        "    intersection = set1 & set2\n",
        "\n",
        "    # Convert the intersection set back to a tuple\n",
        "    common_tuple = tuple(intersection)\n",
        "\n",
        "    return common_tuple\n",
        "\n",
        "# Test the function\n",
        "tuple1 = (1, 2, 3, 4, 5)\n",
        "tuple2 = (4, 5, 6, 7, 8)\n",
        "print(\"Tuple 1:\", tuple1)\n",
        "print(\"Tuple 2:\", tuple2)\n",
        "print(\"Common elements:\", common_elements(tuple1, tuple2))"
      ],
      "metadata": {
        "colab": {
          "base_uri": "https://localhost:8080/"
        },
        "id": "gCB2b0oiQzDH",
        "outputId": "efb6c1a3-4fbd-47ca-ce34-b9472af05405"
      },
      "execution_count": null,
      "outputs": [
        {
          "output_type": "stream",
          "name": "stdout",
          "text": [
            "Tuple 1: (1, 2, 3, 4, 5)\n",
            "Tuple 2: (4, 5, 6, 7, 8)\n",
            "Common elements: (4, 5)\n"
          ]
        }
      ]
    },
    {
      "cell_type": "markdown",
      "source": [
        "#Q22 : Create a code that prompts the user to enter two sets of integers separated by commas. Then, print the intersection of these two sets.\n"
      ],
      "metadata": {
        "id": "f6LGCh0oSYqB"
      }
    },
    {
      "cell_type": "code",
      "source": [
        "#ans :\n",
        "def get_set_from_user(prompt):\n",
        "    # Prompt the user to enter a set of integers\n",
        "    user_input = input(prompt)\n",
        "\n",
        "    # Split the user input into a list of strings\n",
        "    str_list = user_input.split(',')\n",
        "\n",
        "    # Convert the list of strings to a set of integers\n",
        "    num_set = set(int(x.strip()) for x in str_list)\n",
        "\n",
        "    return num_set\n",
        "\n",
        "def main():\n",
        "    # Prompt the user to enter two sets of integers\n",
        "    set1 = get_set_from_user(\"Enter the first set of integers (separated by commas): \")\n",
        "    set2 = get_set_from_user(\"Enter the second set of integers (separated by commas): \")\n",
        "\n",
        "    # Calculate the intersection of the two sets\n",
        "    intersection = set1 & set2\n",
        "\n",
        "    # Print the intersection\n",
        "    print(\"The intersection of the two sets is:\", intersection)\n",
        "\n",
        "if __name__ == \"__main__\":\n",
        "    main()\n"
      ],
      "metadata": {
        "colab": {
          "base_uri": "https://localhost:8080/"
        },
        "id": "9yJhD2BRSjvd",
        "outputId": "e0ee8c1a-d72c-4a93-e6e1-e773c7b7296a"
      },
      "execution_count": null,
      "outputs": [
        {
          "output_type": "stream",
          "name": "stdout",
          "text": [
            "Enter the first set of integers (separated by commas): 1,2,3,4,5\n",
            "Enter the second set of integers (separated by commas): 4,5,6,7,8\n",
            "The intersection of the two sets is: {4, 5}\n"
          ]
        }
      ]
    },
    {
      "cell_type": "markdown",
      "source": [
        "#Q23 : Write a code to concatenate two tuples. The function should take two tuples as input and return a new tuple containing elements from both input tuples."
      ],
      "metadata": {
        "id": "lNd9Q0ApEZPr"
      }
    },
    {
      "cell_type": "code",
      "source": [
        "#ans :\n",
        "def concatenate_tuples(tuple1, tuple2):\n",
        "    # Use the + operator to concatenate the two tuples\n",
        "    result_tuple = tuple1 + tuple2\n",
        "\n",
        "    return result_tuple\n",
        "\n",
        "# Test the function\n",
        "tuple1 = (1, 2, 3)\n",
        "tuple2 = (4, 5, 6)\n",
        "print(\"Tuple 1:\", tuple1)\n",
        "print(\"Tuple 2:\", tuple2)\n",
        "print(\"Concatenated tuple:\", concatenate_tuples(tuple1, tuple2))\n"
      ],
      "metadata": {
        "id": "sKvdepA8Ei8c",
        "colab": {
          "base_uri": "https://localhost:8080/"
        },
        "outputId": "ff332fed-414c-4f84-ce7b-6cf0ad959e5e"
      },
      "execution_count": 1,
      "outputs": [
        {
          "output_type": "stream",
          "name": "stdout",
          "text": [
            "Tuple 1: (1, 2, 3)\n",
            "Tuple 2: (4, 5, 6)\n",
            "Concatenated tuple: (1, 2, 3, 4, 5, 6)\n"
          ]
        }
      ]
    },
    {
      "cell_type": "markdown",
      "source": [
        "#Q24 : Develop a code that prompts the user to input two sets of strings. Then, print the elements that are present in the first set but not in the second set.\n"
      ],
      "metadata": {
        "id": "qk7ytqRRGsJe"
      }
    },
    {
      "cell_type": "code",
      "source": [
        "def get_set_from_user(prompt):\n",
        "    # Prompt the user to enter a set of strings\n",
        "    user_input = input(prompt)\n",
        "\n",
        "    # Split the user input into a list of strings\n",
        "    str_list = user_input.split(',')\n",
        "\n",
        "    # Strip leading and trailing whitespace from each string\n",
        "    str_list = [x.strip() for x in str_list]\n",
        "\n",
        "    # Convert the list of strings to a set\n",
        "    string_set = set(str_list)\n",
        "\n",
        "    return string_set\n",
        "\n",
        "def main():\n",
        "    # Prompt the user to enter two sets of strings\n",
        "    set1 = get_set_from_user(\"Enter the first set of strings (separated by commas): \")\n",
        "    set2 = get_set_from_user(\"Enter the second set of strings (separated by commas): \")\n",
        "\n",
        "    # Calculate the difference between the two sets\n",
        "    difference = set1 - set2\n",
        "\n",
        "    # Print the difference\n",
        "    print(\"The elements present in the first set but not in the second set are:\")\n",
        "    for elem in difference:\n",
        "        print(elem)\n",
        "\n",
        "if __name__ == \"__main__\":\n",
        "    main()"
      ],
      "metadata": {
        "colab": {
          "base_uri": "https://localhost:8080/"
        },
        "id": "xcO0sqgdHxCU",
        "outputId": "0f3a1cc2-66ef-47c5-c5bd-317e9177ee34"
      },
      "execution_count": 2,
      "outputs": [
        {
          "output_type": "stream",
          "name": "stdout",
          "text": [
            "Enter the first set of strings (separated by commas): apple, banana, cherry\n",
            "Enter the second set of strings (separated by commas): banana, cherry, date\n",
            "The elements present in the first set but not in the second set are:\n",
            "apple\n"
          ]
        }
      ]
    },
    {
      "cell_type": "markdown",
      "source": [
        "#Q25 : Create a code that takes a tuple and two integers as input. The function should return a new tuple containing elements from the original tuple within the specified range of indices."
      ],
      "metadata": {
        "id": "byAg3WvaLonS"
      }
    },
    {
      "cell_type": "code",
      "source": [
        "#ans :\n",
        "def slice_tuple(tup, start, end):\n",
        "    # Check if the start and end indices are valid\n",
        "    if start < 0 or end > len(tup) or start > end:\n",
        "        raise ValueError(\"Invalid start or end index\")\n",
        "\n",
        "    # Return a new tuple containing elements from the original tuple within the specified range of indices\n",
        "    return tup[start:end]\n",
        "\n",
        "# Test the function\n",
        "tup = (1, 2, 3, 4, 5, 6, 7, 8, 9)\n",
        "start = 3\n",
        "end = 7\n",
        "print(\"Original tuple:\", tup)\n",
        "print(\"Start index:\", start)\n",
        "print(\"End index:\", end)\n",
        "print(\"Sliced tuple:\", slice_tuple(tup, start, end))"
      ],
      "metadata": {
        "colab": {
          "base_uri": "https://localhost:8080/"
        },
        "id": "xRnRncntLzih",
        "outputId": "4806fe80-a801-4e2f-cd96-0a37a1aa6ea3"
      },
      "execution_count": 3,
      "outputs": [
        {
          "output_type": "stream",
          "name": "stdout",
          "text": [
            "Original tuple: (1, 2, 3, 4, 5, 6, 7, 8, 9)\n",
            "Start index: 3\n",
            "End index: 7\n",
            "Sliced tuple: (4, 5, 6, 7)\n"
          ]
        }
      ]
    },
    {
      "cell_type": "markdown",
      "source": [
        "#Q26 : Write a code that prompts the user to input two sets of characters. Then, print the union of these two sets."
      ],
      "metadata": {
        "id": "AWxo0x57MLXj"
      }
    },
    {
      "cell_type": "code",
      "source": [
        "#ans :\n",
        "def get_set_from_user(prompt):\n",
        "    # Prompt the user to enter a set of characters\n",
        "    user_input = input(prompt)\n",
        "\n",
        "    # Convert the user input to a set of characters\n",
        "    char_set = set(user_input)\n",
        "\n",
        "    return char_set\n",
        "\n",
        "def main():\n",
        "    # Prompt the user to enter two sets of characters\n",
        "    set1 = get_set_from_user(\"Enter the first set of characters: \")\n",
        "    set2 = get_set_from_user(\"Enter the second set of characters: \")\n",
        "\n",
        "    # Calculate the union of the two sets\n",
        "    union = set1 | set2\n",
        "\n",
        "    # Print the union\n",
        "    print(\"The union of the two sets is:\", union)\n",
        "\n",
        "if __name__ == \"__main__\":\n",
        "    main()\n"
      ],
      "metadata": {
        "colab": {
          "base_uri": "https://localhost:8080/"
        },
        "id": "YS0i9V0wMTqs",
        "outputId": "05d48f29-01cc-4045-fff9-96b6dbb4bdbf"
      },
      "execution_count": 4,
      "outputs": [
        {
          "output_type": "stream",
          "name": "stdout",
          "text": [
            "Enter the first set of characters: abc\n",
            "Enter the second set of characters: cde\n",
            "The union of the two sets is: {'c', 'e', 'b', 'a', 'd'}\n"
          ]
        }
      ]
    },
    {
      "cell_type": "markdown",
      "source": [
        "#Q27 : Develop a code that takes a tuple of integers as input. The function should return the maximum and minimum values from the tuple using tuple unpacking."
      ],
      "metadata": {
        "id": "3jPx9xvfMvpJ"
      }
    },
    {
      "cell_type": "code",
      "source": [
        "#ans :\n",
        "def find_max_min(tup):\n",
        "    # Check if the tuple is empty\n",
        "    if len(tup) == 0:\n",
        "        raise ValueError(\"Tuple is empty\")\n",
        "\n",
        "    # Use the built-in min and max functions to find the minimum and maximum values\n",
        "    min_val, *_, max_val = sorted(tup)\n",
        "\n",
        "    # Return the minimum and maximum values as a tuple\n",
        "    return min_val, max_val\n",
        "\n",
        "# Test the function\n",
        "tup = (10, 20, 30, 40, 50)\n",
        "print(\"Tuple:\", tup)\n",
        "print(\"Minimum and maximum values:\", find_max_min(tup))\n"
      ],
      "metadata": {
        "colab": {
          "base_uri": "https://localhost:8080/"
        },
        "id": "ORk49o3kM3e0",
        "outputId": "2da9e666-82e0-4ca7-f2ed-c95f93c059de"
      },
      "execution_count": 5,
      "outputs": [
        {
          "output_type": "stream",
          "name": "stdout",
          "text": [
            "Tuple: (10, 20, 30, 40, 50)\n",
            "Minimum and maximum values: (10, 50)\n"
          ]
        }
      ]
    },
    {
      "cell_type": "markdown",
      "source": [
        "#Q28 : Create a code that defines two sets of integers. Then, print the union, intersection, and difference of these two sets."
      ],
      "metadata": {
        "id": "BZD-FRJgNCGz"
      }
    },
    {
      "cell_type": "code",
      "source": [
        "#ans :\n",
        "def main():\n",
        "    # Define two sets of integers\n",
        "    set1 = {1, 2, 3, 4, 5}\n",
        "    set2 = {4, 5, 6, 7, 8}\n",
        "\n",
        "    # Print the sets\n",
        "    print(\"Set 1:\", set1)\n",
        "    print(\"Set 2:\", set2)\n",
        "\n",
        "    # Calculate and print the union of the two sets\n",
        "    union = set1 | set2\n",
        "    print(\"Union:\", union)\n",
        "\n",
        "    # Calculate and print the intersection of the two sets\n",
        "    intersection = set1 & set2\n",
        "    print(\"Intersection:\", intersection)\n",
        "\n",
        "    # Calculate and print the difference of the two sets\n",
        "    difference1 = set1 - set2\n",
        "    difference2 = set2 - set1\n",
        "    print(\"Difference (Set 1 - Set 2):\", difference1)\n",
        "    print(\"Difference (Set 2 - Set 1):\", difference2)\n",
        "\n",
        "if __name__ == \"__main__\":\n",
        "    main()\n"
      ],
      "metadata": {
        "colab": {
          "base_uri": "https://localhost:8080/"
        },
        "id": "NGcinlerNKSS",
        "outputId": "45d214c3-27d3-4a56-d4f3-a2403c17a629"
      },
      "execution_count": 6,
      "outputs": [
        {
          "output_type": "stream",
          "name": "stdout",
          "text": [
            "Set 1: {1, 2, 3, 4, 5}\n",
            "Set 2: {4, 5, 6, 7, 8}\n",
            "Union: {1, 2, 3, 4, 5, 6, 7, 8}\n",
            "Intersection: {4, 5}\n",
            "Difference (Set 1 - Set 2): {1, 2, 3}\n",
            "Difference (Set 2 - Set 1): {8, 6, 7}\n"
          ]
        }
      ]
    },
    {
      "cell_type": "markdown",
      "source": [
        "#Q29 : Write a code that takes a tuple and an element as input. The function should return the count of occurrences of the given element in the tuple."
      ],
      "metadata": {
        "id": "xyx-CtPENhxJ"
      }
    },
    {
      "cell_type": "code",
      "source": [
        "#ans :\n",
        "def count_element(tup, elem):\n",
        "    # Use the count method of the tuple to count the occurrences of the element\n",
        "    count = tup.count(elem)\n",
        "\n",
        "    return count\n",
        "\n",
        "# Test the function\n",
        "tup = (1, 2, 2, 3, 3, 3, 4, 4, 4, 4)\n",
        "elem = 4\n",
        "print(\"Tuple:\", tup)\n",
        "print(\"Element:\", elem)\n",
        "print(\"Count:\", count_element(tup, elem))\n"
      ],
      "metadata": {
        "colab": {
          "base_uri": "https://localhost:8080/"
        },
        "id": "dHUTZLSDNt6X",
        "outputId": "7ace8bac-3717-402a-9b4a-18150e0e99c4"
      },
      "execution_count": 7,
      "outputs": [
        {
          "output_type": "stream",
          "name": "stdout",
          "text": [
            "Tuple: (1, 2, 2, 3, 3, 3, 4, 4, 4, 4)\n",
            "Element: 4\n",
            "Count: 4\n"
          ]
        }
      ]
    },
    {
      "cell_type": "markdown",
      "source": [
        "#Q30 :  Develop a code that prompts the user to input two sets of strings. Then, print the symmetric difference of these two sets."
      ],
      "metadata": {
        "id": "nRqO85wsN5BI"
      }
    },
    {
      "cell_type": "code",
      "source": [
        "#ans :\n",
        "def get_set_from_user(prompt):\n",
        "    # Prompt the user to enter a set of strings\n",
        "    user_input = input(prompt)\n",
        "\n",
        "    # Split the user input into a list of strings\n",
        "    str_list = user_input.split(',')\n",
        "\n",
        "    # Strip leading and trailing whitespace from each string\n",
        "    str_list = [x.strip() for x in str_list]\n",
        "\n",
        "    # Convert the list of strings to a set\n",
        "    string_set = set(str_list)\n",
        "\n",
        "    return string_set\n",
        "\n",
        "def main():\n",
        "    # Prompt the user to enter two sets of strings\n",
        "    set1 = get_set_from_user(\"Enter the first set of strings (separated by commas): \")\n",
        "    set2 = get_set_from_user(\"Enter the second set of strings (separated by commas): \")\n",
        "\n",
        "    # Calculate the symmetric difference of the two sets\n",
        "    symmetric_diff = set1 ^ set2\n",
        "\n",
        "    # Print the symmetric difference\n",
        "    print(\"Symmetric difference:\", symmetric_diff)\n",
        "\n",
        "if __name__ == \"__main__\":\n",
        "    main()\n"
      ],
      "metadata": {
        "colab": {
          "base_uri": "https://localhost:8080/"
        },
        "id": "w-8sL7L0OANx",
        "outputId": "3105ed7f-d1af-4043-f7c9-aed3cd7d08b7"
      },
      "execution_count": 8,
      "outputs": [
        {
          "output_type": "stream",
          "name": "stdout",
          "text": [
            "Enter the first set of strings (separated by commas): apple, banana, cherry\n",
            "Enter the second set of strings (separated by commas): banana, cherry, date \n",
            "Symmetric difference: {'apple', 'date'}\n"
          ]
        }
      ]
    },
    {
      "cell_type": "markdown",
      "source": [
        "#Q31 : Write a code that takes a list of words as input and returns a dictionary where the keys are unique words and the values are the frequencies of those words in the input list."
      ],
      "metadata": {
        "id": "LR1CgXSxOXdf"
      }
    },
    {
      "cell_type": "code",
      "source": [
        "#ans :\n",
        "def word_frequencies(word_list):\n",
        "    # Initialize an empty dictionary to store the word frequencies\n",
        "    freq_dict = {}\n",
        "\n",
        "    # Iterate over each word in the input list\n",
        "    for word in word_list:\n",
        "        # Convert the word to lowercase to ignore case differences\n",
        "        word = word.lower()\n",
        "\n",
        "        # If the word is already in the dictionary, increment its frequency\n",
        "        if word in freq_dict:\n",
        "            freq_dict[word] += 1\n",
        "        # Otherwise, add the word to the dictionary with a frequency of 1\n",
        "        else:\n",
        "            freq_dict[word] = 1\n",
        "\n",
        "    # Return the dictionary of word frequencies\n",
        "    return freq_dict\n",
        "\n",
        "# Test the function\n",
        "word_list = [\"apple\", \"banana\", \"apple\", \"cherry\", \"banana\", \"banana\"]\n",
        "print(\"Word list:\", word_list)\n",
        "print(\"Word frequencies:\", word_frequencies(word_list))"
      ],
      "metadata": {
        "colab": {
          "base_uri": "https://localhost:8080/"
        },
        "id": "PRa7gOAqOn1S",
        "outputId": "04324308-8dc5-4fd1-fac9-9691ae76f05e"
      },
      "execution_count": 9,
      "outputs": [
        {
          "output_type": "stream",
          "name": "stdout",
          "text": [
            "Word list: ['apple', 'banana', 'apple', 'cherry', 'banana', 'banana']\n",
            "Word frequencies: {'apple': 2, 'banana': 3, 'cherry': 1}\n"
          ]
        }
      ]
    },
    {
      "cell_type": "markdown",
      "source": [
        "#Q32 : Write a code that takes two dictionaries as input and merges them into a single dictionary. If there are common keys, the values should be added together."
      ],
      "metadata": {
        "id": "aSKpWoZzO_IT"
      }
    },
    {
      "cell_type": "code",
      "source": [
        "#ans :\n",
        "def merge_dictionaries(dict1, dict2):\n",
        "    # Initialize an empty dictionary to store the merged result\n",
        "    merged_dict = {}\n",
        "\n",
        "    # Copy the key-value pairs from the first dictionary to the merged dictionary\n",
        "    for key, value in dict1.items():\n",
        "        merged_dict[key] = value\n",
        "\n",
        "    # Iterate over the key-value pairs in the second dictionary\n",
        "    for key, value in dict2.items():\n",
        "        # If the key is already in the merged dictionary, add the values together\n",
        "        if key in merged_dict:\n",
        "            merged_dict[key] += value\n",
        "        # Otherwise, add the key-value pair to the merged dictionary\n",
        "        else:\n",
        "            merged_dict[key] = value\n",
        "\n",
        "    # Return the merged dictionary\n",
        "    return merged_dict\n",
        "\n",
        "# Test the function\n",
        "dict1 = {\"a\": 10, \"b\": 20, \"c\": 30}\n",
        "dict2 = {\"b\": 5, \"c\": 15, \"d\": 25}\n",
        "print(\"Dictionary 1:\", dict1)\n",
        "print(\"Dictionary 2:\", dict2)\n",
        "print(\"Merged dictionary:\", merge_dictionaries(dict1, dict2))\n"
      ],
      "metadata": {
        "colab": {
          "base_uri": "https://localhost:8080/"
        },
        "id": "2CiNc7oSPHkG",
        "outputId": "4d08e1eb-70e2-42f4-870f-0aa800c4d714"
      },
      "execution_count": 10,
      "outputs": [
        {
          "output_type": "stream",
          "name": "stdout",
          "text": [
            "Dictionary 1: {'a': 10, 'b': 20, 'c': 30}\n",
            "Dictionary 2: {'b': 5, 'c': 15, 'd': 25}\n",
            "Merged dictionary: {'a': 10, 'b': 25, 'c': 45, 'd': 25}\n"
          ]
        }
      ]
    },
    {
      "cell_type": "markdown",
      "source": [
        "#Q33 : Write a code to access a value in a nested dictionary. The function should take the dictionary and a list of keys as input, and return the corresponding value. If any of the keys do not exist in the dictionary, the unction should return None.\n"
      ],
      "metadata": {
        "id": "KRR1xOeIPbrp"
      }
    },
    {
      "cell_type": "code",
      "source": [
        "#ans :\n",
        "def access_nested_dict(nested_dict, keys):\n",
        "    # Initialize a variable to store the current dictionary\n",
        "    current_dict = nested_dict\n",
        "\n",
        "    # Iterate over each key in the list of keys\n",
        "    for key in keys:\n",
        "        # Check if the key exists in the current dictionary\n",
        "        if key in current_dict:\n",
        "            # If the key exists, update the current dictionary to be the value associated with the key\n",
        "            current_dict = current_dict[key]\n",
        "        else:\n",
        "            # If the key does not exist, return None\n",
        "            return None\n",
        "\n",
        "    # If all keys exist, return the final value\n",
        "    return current_dict\n",
        "\n",
        "# Test the function\n",
        "nested_dict = {\n",
        "    \"person\": {\n",
        "        \"name\": \"John\",\n",
        "        \"age\": 30,\n",
        "        \"address\": {\n",
        "            \"street\": \"123 Main St\",\n",
        "            \"city\": \"Anytown\",\n",
        "            \"state\": \"CA\",\n",
        "            \"zip\": \"12345\"\n",
        "        }\n",
        "    }\n",
        "}\n",
        "keys = [\"person\", \"address\", \"city\"]\n",
        "print(\"Nested dictionary:\", nested_dict)\n",
        "print(\"Keys:\", keys)\n",
        "print(\"Value:\", access_nested_dict(nested_dict, keys))"
      ],
      "metadata": {
        "colab": {
          "base_uri": "https://localhost:8080/"
        },
        "id": "43tkoPSGPk5w",
        "outputId": "acc0c5eb-3d3c-49ad-a19d-99610e8bdfdd"
      },
      "execution_count": 11,
      "outputs": [
        {
          "output_type": "stream",
          "name": "stdout",
          "text": [
            "Nested dictionary: {'person': {'name': 'John', 'age': 30, 'address': {'street': '123 Main St', 'city': 'Anytown', 'state': 'CA', 'zip': '12345'}}}\n",
            "Keys: ['person', 'address', 'city']\n",
            "Value: Anytown\n"
          ]
        }
      ]
    },
    {
      "cell_type": "markdown",
      "source": [
        "#Q34 : Write a code that takes a dictionary as input and returns a sorted version of it based on the values. You can choose whether to sort in ascending or descending order."
      ],
      "metadata": {
        "id": "_xFwayFxP5f7"
      }
    },
    {
      "cell_type": "code",
      "source": [
        "#ans :\n",
        "def sort_dict_by_values(input_dict):\n",
        "    # Use the sorted function to sort the dictionary items by value\n",
        "    sorted_items = sorted(input_dict.items(), key=lambda x: x[1])\n",
        "\n",
        "    # Convert the sorted items back into a dictionary\n",
        "    sorted_dict = dict(sorted_items)\n",
        "\n",
        "    # Return the sorted dictionary\n",
        "    return sorted_dict\n",
        "\n",
        "# Test the function\n",
        "input_dict = {\"apple\": 10, \"banana\": 5, \"cherry\": 20, \"date\": 15}\n",
        "print(\"Input dictionary:\", input_dict)\n",
        "print(\"Sorted dictionary:\", sort_dict_by_values(input_dict))\n"
      ],
      "metadata": {
        "colab": {
          "base_uri": "https://localhost:8080/"
        },
        "id": "tYt_DGC6QCsv",
        "outputId": "8e6f310b-8808-49ef-9ad2-b45b4fbca0ce"
      },
      "execution_count": 12,
      "outputs": [
        {
          "output_type": "stream",
          "name": "stdout",
          "text": [
            "Input dictionary: {'apple': 10, 'banana': 5, 'cherry': 20, 'date': 15}\n",
            "Sorted dictionary: {'banana': 5, 'apple': 10, 'date': 15, 'cherry': 20}\n"
          ]
        }
      ]
    },
    {
      "cell_type": "markdown",
      "source": [
        "#Q35 : Write a code that inverts a dictionary, swapping keys and values. Ensure that the inverted dictionary correctly handles cases where multiple keys have the same value by storing the keys as a list in the inverted dictionary."
      ],
      "metadata": {
        "id": "e2F-zK6uQQj7"
      }
    },
    {
      "cell_type": "code",
      "source": [
        "#ans :\n",
        "def invert_dict(input_dict):\n",
        "    # Initialize an empty dictionary to store the inverted result\n",
        "    inverted_dict = {}\n",
        "\n",
        "    # Iterate over each key-value pair in the input dictionary\n",
        "    for key, value in input_dict.items():\n",
        "        # If the value is not already a key in the inverted dictionary, add it with the key as a list\n",
        "        if value not in inverted_dict:\n",
        "            inverted_dict[value] = [key]\n",
        "        # If the value is already a key in the inverted dictionary, append the key to the list of keys\n",
        "        else:\n",
        "            inverted_dict[value].append(key)\n",
        "\n",
        "    # Return the inverted dictionary\n",
        "    return inverted_dict\n",
        "\n",
        "# Test the function\n",
        "input_dict = {\"a\": 1, \"b\": 2, \"c\": 1, \"d\": 3, \"e\": 2}\n",
        "print(\"Input dictionary:\", input_dict)\n",
        "print(\"Inverted dictionary:\", invert_dict(input_dict))"
      ],
      "metadata": {
        "colab": {
          "base_uri": "https://localhost:8080/"
        },
        "id": "oJ0c4Sz-Qamz",
        "outputId": "58e43a79-1a6d-4956-da6a-306714c7feb8"
      },
      "execution_count": 13,
      "outputs": [
        {
          "output_type": "stream",
          "name": "stdout",
          "text": [
            "Input dictionary: {'a': 1, 'b': 2, 'c': 1, 'd': 3, 'e': 2}\n",
            "Inverted dictionary: {1: ['a', 'c'], 2: ['b', 'e'], 3: ['d']}\n"
          ]
        }
      ]
    }
  ]
}