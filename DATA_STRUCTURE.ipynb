{
  "nbformat": 4,
  "nbformat_minor": 0,
  "metadata": {
    "colab": {
      "provenance": [],
      "authorship_tag": "ABX9TyOyPRUY8gwJ1KdO9z6UprPk",
      "include_colab_link": true
    },
    "kernelspec": {
      "name": "python3",
      "display_name": "Python 3"
    },
    "language_info": {
      "name": "python"
    }
  },
  "cells": [
    {
      "cell_type": "markdown",
      "metadata": {
        "id": "view-in-github",
        "colab_type": "text"
      },
      "source": [
        "<a href=\"https://colab.research.google.com/github/pushpitab18/PW_Python_assignment/blob/main/DATA_STRUCTURE.ipynb\" target=\"_parent\"><img src=\"https://colab.research.google.com/assets/colab-badge.svg\" alt=\"Open In Colab\"/></a>"
      ]
    },
    {
      "cell_type": "markdown",
      "source": [
        "#**PYTHON_DATA STRUCTURE :**"
      ],
      "metadata": {
        "id": "zcQZmeHa7DOF"
      }
    },
    {
      "cell_type": "markdown",
      "source": [
        "#Q1 : Discuss string slicing and provide examples.\n",
        "\n",
        "\n",
        "#ans :   String slicing is a fundamental operation in programming that allows you to extract a subset of characters from a string.\n",
        "\n",
        "\n",
        "***Common Use Cases:***\n",
        "\n",
        "1. Extracting substrings\n",
        "2. Removing characters\n",
        "3. Reversing strings\n",
        "4. Creating subsets of lists\n",
        "\n",
        "\n"
      ],
      "metadata": {
        "id": "ma_xqj3C6_WT"
      }
    },
    {
      "cell_type": "code",
      "source": [
        "\n",
        "# Examples:\n",
        "\n",
        "# 1. Basic Slicing\n",
        "\n",
        "my_string = \"Hello, World!\"\n",
        "\n",
        "print(my_string[0:5])  # \"Hello\"\n",
        "print(my_string[7:12]) # \"World\"\n",
        "\n",
        "# 2. Omitting Start or End Index\n",
        "\n",
        "print(my_string[:5])  # \"Hello\" (start from beginning)\n",
        "print(my_string[7:])  # \"World!\" (go until end)\n",
        "\n",
        "# 3. Negative Indices\n",
        "\n",
        "print(my_string[-1])  # \"!\" (last character)\n",
        "print(my_string[-5:]) # \"World!\" (last 5 characters)\n",
        "\n",
        "# 4. Step Size\n",
        "\n",
        "print(my_string[::2])  # \"Hlo ol!\" (every other character)\n",
        "print(my_string[::-1]) # \"!dlroW ,olleH\" (reverse the string)\n",
        "\n",
        "# 5. Slice Assignment\n",
        "\n",
        "my_list = [\"a\", \"b\", \"c\", \"d\", \"e\"]\n",
        "\n",
        "my_list[1:3] = [\"x\", \"y\"]\n",
        "print(my_list) # my_list becomes [\"a\", \"x\", \"y\", \"d\", \"e\"]\n",
        "\n",
        "# 6. Slice Deletion\n",
        "\n",
        "my_list = [\"a\", \"b\", \"c\", \"d\", \"e\"]\n",
        "\n",
        "del my_list[1:3]\n",
        "print(my_list) # my_list becomes [\"a\", \"d\", \"e\"]\n",
        "my_string = \"Hello, World!\""
      ],
      "metadata": {
        "colab": {
          "base_uri": "https://localhost:8080/"
        },
        "id": "RX-H4018nOML",
        "outputId": "f937aca3-0333-4edf-fb18-64173340e1f0"
      },
      "execution_count": 3,
      "outputs": [
        {
          "output_type": "stream",
          "name": "stdout",
          "text": [
            "Hello\n",
            "World\n",
            "Hello\n",
            "World!\n",
            "!\n",
            "orld!\n",
            "Hlo ol!\n",
            "!dlroW ,olleH\n",
            "['a', 'x', 'y', 'd', 'e']\n",
            "['a', 'd', 'e']\n"
          ]
        }
      ]
    },
    {
      "cell_type": "markdown",
      "source": [
        "#Q2 :  Explain the key features of lists in Python.\n",
        "\n",
        "\n",
        "ans : Here are the key features of lists in Python:\n",
        "\n",
        "***Key Features:***\n",
        "\n",
        "1. Ordered Collection: Lists maintain the order of elements.\n",
        "2. Mutable: Lists can be modified after creation.\n",
        "3. Dynamic Size: Lists can grow or shrink dynamically.\n",
        "4. Indexed: Elements are accessed using zero-based indexing.\n",
        "5. Nested: Lists can contain other lists (nested lists).\n",
        "6. Heterogeneous: Lists can store mixed data types.\n",
        "\n",
        "***List Operations:***\n",
        "\n",
        "1. Indexing: Accessing elements using square brackets [].\n",
        "2. Slicing: Extracting subsets of elements using start:stop:step.\n",
        "3. Append: Adding elements using append() or extend().\n",
        "4. Insert: Inserting elements at specific positions using insert().\n",
        "5. Remove: Removing elements using remove() or pop().\n",
        "6. Sort: Sorting elements using sort().\n",
        "\n",
        "***List Methods:***\n",
        "\n",
        "1. append(element): Adds an element to the end.\n",
        "2. extend(iterable): Adds multiple elements.\n",
        "3. insert(index, element): Inserts an element at a specific position.\n",
        "4. remove(element): Removes the first occurrence.\n",
        "5. pop(index): Removes and returns an element.\n",
        "6. index(element): Returns the index of the first occurrence.\n",
        "7. count(element): Returns the number of occurrences.\n",
        "8. sort(): Sorts the list in-place.\n",
        "9. reverse(): Reverses the list in-place."
      ],
      "metadata": {
        "id": "18AjFSpf7Vc_"
      }
    },
    {
      "cell_type": "code",
      "source": [
        "#Here's an example demonstrating some key features:\n",
        "\n",
        "# Create a list\n",
        "my_list = [1, 2, 3, 4, 5]\n",
        "\n",
        "# Indexing and slicing\n",
        "print(my_list[0])  # 1\n",
        "print(my_list[1:3])  # [2, 3]\n",
        "\n",
        "# Append and insert\n",
        "my_list.append(6)\n",
        "my_list.insert(2, 10)\n",
        "print(my_list)  # [1, 2, 10, 3, 4, 5, 6]\n",
        "\n",
        "# Remove and pop\n",
        "my_list.remove(10)\n",
        "print(my_list.pop(2))  # 3\n",
        "print(my_list)  # [1, 2, 4, 5, 6]"
      ],
      "metadata": {
        "colab": {
          "base_uri": "https://localhost:8080/"
        },
        "id": "4QvH-GCYrzQc",
        "outputId": "a5017080-fb63-4cf3-9ef5-d83651917428"
      },
      "execution_count": 4,
      "outputs": [
        {
          "output_type": "stream",
          "name": "stdout",
          "text": [
            "1\n",
            "[2, 3]\n",
            "[1, 2, 10, 3, 4, 5, 6]\n",
            "3\n",
            "[1, 2, 4, 5, 6]\n"
          ]
        }
      ]
    },
    {
      "cell_type": "markdown",
      "source": [],
      "metadata": {
        "id": "bi5OrwqSr-8Z"
      }
    },
    {
      "cell_type": "markdown",
      "source": [
        "#Q3 : Describe how to access, modify, and delete elements in a list with examples.\n",
        "\n",
        "\n",
        "ans :  Here’s an explanation of how to access, modify, and delete elements in a Python list, along with examples:\n",
        "\n",
        "\n",
        "***1. Accessing Elements***\n",
        "\n",
        "You can access elements in a list using their index. Python uses zero-based indexing, so the first element has an index of 0."
      ],
      "metadata": {
        "id": "A7zVRbgBsmkt"
      }
    },
    {
      "cell_type": "code",
      "source": [
        "#Example:\n",
        "\n",
        "# List definition\n",
        "fruits = [\"apple\", \"banana\", \"cherry\", \"date\"]\n",
        "\n",
        "# Accessing elements\n",
        "print(fruits[0])  # Output: apple\n",
        "print(fruits[2])  # Output: cherry\n",
        "\n",
        "# Accessing the last element\n",
        "print(fruits[-1])  # Output: date"
      ],
      "metadata": {
        "colab": {
          "base_uri": "https://localhost:8080/"
        },
        "id": "TMPB7sp_xjFC",
        "outputId": "a3f1b899-4f53-4ec7-942b-219e4cbfe039"
      },
      "execution_count": 5,
      "outputs": [
        {
          "output_type": "stream",
          "name": "stdout",
          "text": [
            "apple\n",
            "cherry\n",
            "date\n"
          ]
        }
      ]
    },
    {
      "cell_type": "markdown",
      "source": [
        "***2. Modifying Elements***\n",
        "\n",
        "You can modify an element by directly assigning a new value to a specific index."
      ],
      "metadata": {
        "id": "e1tZlN1wxt9r"
      }
    },
    {
      "cell_type": "code",
      "source": [
        "#Example:\n",
        "\n",
        "# List definition\n",
        "fruits = [\"apple\", \"banana\", \"cherry\", \"date\"]\n",
        "\n",
        "# Modifying elements\n",
        "fruits[1] = \"blueberry\"  # Change \"banana\" to \"blueberry\"\n",
        "print(fruits)  # Output: ['apple', 'blueberry', 'cherry', 'date']\n",
        "\n",
        "# Modifying a range of elements\n",
        "fruits[1:3] = [\"blackberry\", \"cranberry\"]  # Replace slice\n",
        "print(fruits)  # Output: ['apple', 'blackberry', 'cranberry', 'date']"
      ],
      "metadata": {
        "colab": {
          "base_uri": "https://localhost:8080/"
        },
        "id": "CsgJdhOhx-s8",
        "outputId": "97a9a4b6-22c1-462b-8ce6-d1a809616f34"
      },
      "execution_count": 6,
      "outputs": [
        {
          "output_type": "stream",
          "name": "stdout",
          "text": [
            "['apple', 'blueberry', 'cherry', 'date']\n",
            "['apple', 'blackberry', 'cranberry', 'date']\n"
          ]
        }
      ]
    },
    {
      "cell_type": "markdown",
      "source": [
        "***3. Deleting Elements***\n",
        "\n",
        "You can delete elements using:\n",
        "\n",
        "del statement: Removes an element by index.\n",
        "\n",
        "remove() method: Removes the first occurrence of a specific value.\n",
        "\n",
        "pop() method: Removes and returns an element by index.\n",
        "\n",
        "Slice deletion: Deletes multiple elements."
      ],
      "metadata": {
        "id": "3R7DdDz1yHK9"
      }
    },
    {
      "cell_type": "code",
      "source": [
        "#Example:\n",
        "\n",
        "# List definition\n",
        "fruits = [\"apple\", \"banana\", \"cherry\", \"date\"]\n",
        "\n",
        "# Deleting with del\n",
        "del fruits[2]  # Remove \"cherry\"\n",
        "print(fruits)  # Output: ['apple', 'banana', 'date']\n",
        "\n",
        "# Deleting with remove()\n",
        "fruits.remove(\"banana\")  # Remove \"banana\"\n",
        "print(fruits)  # Output: ['apple', 'date']\n",
        "\n",
        "# Deleting with pop()\n",
        "popped_item = fruits.pop(0)  # Remove \"apple\" and return it\n",
        "print(popped_item)  # Output: apple\n",
        "print(fruits)  # Output: ['date']\n",
        "\n",
        "# Deleting a slice\n",
        "fruits = [\"apple\", \"banana\", \"cherry\", \"date\"]\n",
        "del fruits[1:3]  # Remove \"banana\" and \"cherry\"\n",
        "print(fruits)  # Output: ['apple', 'date']\n",
        "\n",
        "# Clearing the list\n",
        "fruits.clear()  # Remove all elements\n",
        "print(fruits)  # Output: []"
      ],
      "metadata": {
        "colab": {
          "base_uri": "https://localhost:8080/"
        },
        "id": "6D9ALUxryQFs",
        "outputId": "16ede115-2547-453a-f7bb-4bf0948a21f7"
      },
      "execution_count": 7,
      "outputs": [
        {
          "output_type": "stream",
          "name": "stdout",
          "text": [
            "['apple', 'banana', 'date']\n",
            "['apple', 'date']\n",
            "apple\n",
            "['date']\n",
            "['apple', 'date']\n",
            "[]\n"
          ]
        }
      ]
    },
    {
      "cell_type": "markdown",
      "source": [
        "#Q4 : Compare and contrast tuples and lists with examples.\n",
        "\n",
        "\n",
        "ans :   Comparison Table:\n",
        "\n",
        "| Feature | Tuple | List |\n",
        "| --- | --- | --- |\n",
        "| Immutability | Immutable | Mutable |\n",
        "| Syntax | () | [] |\n",
        "| Performance | Faster | Slower |\n",
        "| Memory Usage | Less | More |\n",
        "| Use Cases | Small, fixed-size | Dynamic |\n",
        "| Indexing | Supported | Supported |\n",
        "| Slicing | Supported | Supported |\n",
        "| Iteration | Supported | Supported |"
      ],
      "metadata": {
        "id": "HZABCb33ydW7"
      }
    },
    {
      "cell_type": "code",
      "source": [
        "#Example Code:\n",
        "\n",
        "# Tuple\n",
        "my_tuple = (1, 2, 3)\n",
        "print(my_tuple[0])  # 1\n",
        "\n",
        "# List\n",
        "my_list = [1, 2, 3]\n",
        "my_list[0] = 10\n",
        "print(my_list)  # [10, 2, 3]"
      ],
      "metadata": {
        "colab": {
          "base_uri": "https://localhost:8080/"
        },
        "id": "d0evgBRY1NAQ",
        "outputId": "75a3081c-bfad-4f8a-a8e2-c7c2bfd6ef6e"
      },
      "execution_count": 8,
      "outputs": [
        {
          "output_type": "stream",
          "name": "stdout",
          "text": [
            "1\n",
            "[10, 2, 3]\n"
          ]
        }
      ]
    },
    {
      "cell_type": "markdown",
      "source": [
        "#Q5 : Describe the key features of sets and provide examples of their use.\n",
        "\n",
        "\n",
        "ans : Here are the key features of sets in Python, along with examples:\n",
        "\n",
        "***Key Features:***\n",
        "\n",
        "1. Unordered collection\n",
        "2. Unique elements (no duplicates)\n",
        "3. Fast membership testing\n",
        "4. Mutable (can be modified)\n",
        "5. Supports set operations (union, intersection, difference)\n"
      ],
      "metadata": {
        "id": "pdubrPfw1Wr2"
      }
    },
    {
      "cell_type": "code",
      "source": [
        "#Examples:\n",
        "\n",
        "# Create a set\n",
        "my_set = {1, 2, 3, 4, 5}\n",
        "print(my_set)  # {1, 2, 3, 4, 5}\n",
        "\n",
        "# Add an element\n",
        "my_set.add(6)\n",
        "print(my_set)  # {1, 2, 3, 4, 5, 6}\n",
        "\n",
        "# Remove an element\n",
        "my_set.remove(4)\n",
        "print(my_set)  # {1, 2, 3, 5, 6}\n",
        "\n",
        "# Union\n",
        "set1 = {1, 2, 3}\n",
        "set2 = {3, 4, 5}\n",
        "print(set1 | set2)  # {1, 2, 3, 4, 5}\n",
        "\n",
        "# Intersection\n",
        "print(set1 & set2)  # {3}"
      ],
      "metadata": {
        "colab": {
          "base_uri": "https://localhost:8080/"
        },
        "id": "YkxBJgyp2o5f",
        "outputId": "e85e90b3-1937-465e-9d84-2be27d590e72"
      },
      "execution_count": 9,
      "outputs": [
        {
          "output_type": "stream",
          "name": "stdout",
          "text": [
            "{1, 2, 3, 4, 5}\n",
            "{1, 2, 3, 4, 5, 6}\n",
            "{1, 2, 3, 5, 6}\n",
            "{1, 2, 3, 4, 5}\n",
            "{3}\n"
          ]
        }
      ]
    },
    {
      "cell_type": "markdown",
      "source": [
        "#Q6 : Discuss the use cases of tuples and sets in Python programming.\n",
        "\n",
        "\n",
        "ans : Here are the use cases of tuples and sets in Python programming:\n",
        "\n",
        "***Tuples:***\n",
        "\n",
        "1. Data Records: Store multiple values as a single unit.\n",
        "2. Function Arguments: Pass multiple arguments to a function.\n",
        "3. Return Multiple Values: Return multiple values from a function.\n",
        "4. Database Rows: Represent database rows with multiple columns.\n",
        "5. Configuration Settings: Store configuration settings.\n",
        "6. Geometry and Graphics: Represent points, vectors, and colors.\n",
        "7. Data Validation: Validate data input.\n",
        "\n",
        "***Sets:***\n",
        "\n",
        "1. Data Deduplication: Remove duplicates from a dataset.\n",
        "2. Membership Testing: Quickly check if an element belongs.\n",
        "3. Set-Based Data Analysis: Perform operations on sets.\n",
        "4. Database Query Optimization: Optimize database queries.\n",
        "5. Text Processing: Remove stop words or duplicates.\n",
        "6. Network Analysis: Identify unique connections.\n",
        "7. Data Validation: Validate data input.\n",
        "\n",
        "***Common Use Cases:***\n",
        "\n",
        "1. Data Storage and Manipulation\n",
        "2. Data Analysis and Processing\n",
        "3. Validation and Verification\n",
        "4. Optimization and Performance"
      ],
      "metadata": {
        "id": "_ovgXKu93Lzs"
      }
    },
    {
      "cell_type": "markdown",
      "source": [
        "#Q7 : Describe how to add, modify, and delete items in a dictionary with examples.\n",
        "\n",
        "\n",
        "ans :   A dictionary in Python is a collection of key-value pairs. You can easily add, modify, or delete items in a dictionary. Here's how:\n",
        "\n",
        "\n",
        "***1. Adding Items***\n",
        "\n",
        "You can add a new key-value pair to a dictionary by assigning a value to a new key.\n"
      ],
      "metadata": {
        "id": "dE9YO_i-4Qzm"
      }
    },
    {
      "cell_type": "code",
      "source": [
        "# Example of adding items to a dictionary\n",
        "student = {\"name\": \"Alice\", \"age\": 22}\n",
        "student[\"grade\"] = \"A\"  # Adding a new key-value pair\n",
        "print(student)\n",
        "# Output: {'name': 'Alice', 'age': 22, 'grade': 'A'}"
      ],
      "metadata": {
        "colab": {
          "base_uri": "https://localhost:8080/"
        },
        "id": "3D3om_LI7-SC",
        "outputId": "cfa73b6b-720e-40ed-e510-c6be9ba3a931"
      },
      "execution_count": 10,
      "outputs": [
        {
          "output_type": "stream",
          "name": "stdout",
          "text": [
            "{'name': 'Alice', 'age': 22, 'grade': 'A'}\n"
          ]
        }
      ]
    },
    {
      "cell_type": "markdown",
      "source": [
        "***2. Modifying Items***\n",
        "\n",
        "To modify an item, assign a new value to an existing key."
      ],
      "metadata": {
        "id": "1tKAYR7y8Z0W"
      }
    },
    {
      "cell_type": "code",
      "source": [
        "# Example of modifying items in a dictionary\n",
        "student = {\"name\": \"Alice\", \"age\": 22}\n",
        "student[\"age\"] = 23  # Modifying the value of an existing key\n",
        "print(student)\n",
        "# Output: {'name': 'Alice', 'age': 23}"
      ],
      "metadata": {
        "colab": {
          "base_uri": "https://localhost:8080/"
        },
        "id": "eb73Q4GN8ivS",
        "outputId": "07c3aaa8-19f6-4734-9fa9-e24ba6c2d38e"
      },
      "execution_count": 11,
      "outputs": [
        {
          "output_type": "stream",
          "name": "stdout",
          "text": [
            "{'name': 'Alice', 'age': 23}\n"
          ]
        }
      ]
    },
    {
      "cell_type": "markdown",
      "source": [
        "***3. Deleting Items***\n",
        "\n",
        "You can remove items using the del statement or the pop() method."
      ],
      "metadata": {
        "id": "sXjPMgyf8ny2"
      }
    },
    {
      "cell_type": "code",
      "source": [
        "#Using del:\n",
        "\n",
        "# Example of deleting an item using del\n",
        "student = {\"name\": \"Alice\", \"age\": 22, \"grade\": \"A\"}\n",
        "del student[\"grade\"]  # Removing the key \"grade\"\n",
        "print(student)\n",
        "# Output: {'name': 'Alice', 'age': 22}\n",
        "\n",
        "#Using pop():\n",
        "\n",
        "# Example of deleting an item using pop\n",
        "student = {\"name\": \"Alice\", \"age\": 22, \"grade\": \"A\"}\n",
        "removed_item = student.pop(\"grade\")  # Removing the key \"grade\" and getting its value\n",
        "print(student)\n",
        "print(\"Removed item:\", removed_item)\n",
        "# Output: {'name': 'Alice', 'age': 22}\n",
        "# Removed item: A"
      ],
      "metadata": {
        "colab": {
          "base_uri": "https://localhost:8080/"
        },
        "id": "dgNuiu5U8uzr",
        "outputId": "156716b4-4f1f-4d1b-d2d0-608aa927573e"
      },
      "execution_count": 12,
      "outputs": [
        {
          "output_type": "stream",
          "name": "stdout",
          "text": [
            "{'name': 'Alice', 'age': 22}\n",
            "{'name': 'Alice', 'age': 22}\n",
            "Removed item: A\n"
          ]
        }
      ]
    },
    {
      "cell_type": "code",
      "source": [
        "#Additional Notes\n",
        "\n",
        "#Checking if a Key Exists: Before modifying or deleting, you might want to check if the key exists using the in operator:\n",
        "\n",
        "if \"name\" in student:\n",
        "    student[\"name\"] = \"Bob\"\n",
        "\n",
        "#Clearing All Items: Use the clear() method to empty the dictionary:\n",
        "\n",
        "student.clear()\n",
        "print(student)  # Output: {}"
      ],
      "metadata": {
        "colab": {
          "base_uri": "https://localhost:8080/"
        },
        "id": "-CtsxGVo9Kma",
        "outputId": "e0fa337c-6c70-44d7-94f2-93b196cff006"
      },
      "execution_count": 13,
      "outputs": [
        {
          "output_type": "stream",
          "name": "stdout",
          "text": [
            "{}\n"
          ]
        }
      ]
    },
    {
      "cell_type": "markdown",
      "source": [
        "#Q8 :  Discuss the importance of dictionary keys being immutable and provide examples.\n",
        "\n",
        "\n",
        "ans : In Python, dictionary keys must be immutable, meaning they cannot be changed after they are created. This is crucial for ensuring the stability and efficiency of dictionary operations. Here’s why:\n",
        "\n",
        "\n",
        "**Importance of Immutable Keys**\n",
        "\n",
        "\n",
        "\n",
        "***1. Efficient Hashing:***\n",
        "\n",
        "Dictionaries use a hash table to store and retrieve data quickly. A key's hash value is calculated to determine where its associated value is stored.\n",
        "\n",
        "Immutable keys ensure the hash value remains constant. If keys were mutable, their hash values could change, disrupting the structure of the hash table and making retrieval unreliable.\n",
        "\n",
        "\n",
        "\n",
        "***2. Preventing Key Collisions:***\n",
        "\n",
        "If keys were mutable, two keys with the same value could point to different hash table locations, leading to inconsistent behavior.\n",
        "\n",
        "\n",
        "\n",
        "***3. Data Integrity:***\n",
        "\n",
        "Immutable keys protect data integrity by ensuring the key-value relationship remains stable. If a key could change, finding or updating its associated value would be problematic."
      ],
      "metadata": {
        "id": "CXic9sEC9RA3"
      }
    },
    {
      "cell_type": "code",
      "source": [
        "#Examples of Immutable vs Mutable Keys\n",
        "\n",
        "#Valid Immutable Keys:\n",
        "\n",
        "# Immutable data types as dictionary keys\n",
        "my_dict = {\n",
        "    1: \"integer key\",            # Integer\n",
        "    \"name\": \"string key\",        # String\n",
        "    (1, 2): \"tuple key\"          # Tuple\n",
        "}\n",
        "print(my_dict)\n",
        "# Output: {1: 'integer key', 'name': 'string key', (1, 2): 'tuple key'}\n",
        "\n",
        "#Invalid Mutable Keys:\n",
        "\n",
        "# Attempting to use mutable keys\n",
        "my_dict = {}\n",
        "try:\n",
        "    my_dict[[1, 2, 3]] = \"list key\"  # Lists are mutable\n",
        "except TypeError as e:\n",
        "    print(\"Error:\", e)\n",
        "# Output: Error: unhashable type: 'list'"
      ],
      "metadata": {
        "colab": {
          "base_uri": "https://localhost:8080/"
        },
        "id": "1CbiMP1G_ZIe",
        "outputId": "685855ac-045e-452f-c350-cb72731cf36e"
      },
      "execution_count": 14,
      "outputs": [
        {
          "output_type": "stream",
          "name": "stdout",
          "text": [
            "{1: 'integer key', 'name': 'string key', (1, 2): 'tuple key'}\n",
            "Error: unhashable type: 'list'\n"
          ]
        }
      ]
    }
  ]
}