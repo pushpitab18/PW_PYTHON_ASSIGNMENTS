{
  "nbformat": 4,
  "nbformat_minor": 0,
  "metadata": {
    "colab": {
      "provenance": [],
      "authorship_tag": "ABX9TyOsmFXv4fIYG4FMMV0oIFS1",
      "include_colab_link": true
    },
    "kernelspec": {
      "name": "python3",
      "display_name": "Python 3"
    },
    "language_info": {
      "name": "python"
    }
  },
  "cells": [
    {
      "cell_type": "markdown",
      "metadata": {
        "id": "view-in-github",
        "colab_type": "text"
      },
      "source": [
        "<a href=\"https://colab.research.google.com/github/pushpitab18/PW_Python_assignment/blob/main/Python__Assignment.ipynb\" target=\"_parent\"><img src=\"https://colab.research.google.com/assets/colab-badge.svg\" alt=\"Open In Colab\"/></a>"
      ]
    },
    {
      "cell_type": "markdown",
      "source": [
        "# **PYTHON_ASSIGNMENT :**\n",
        "\n",
        "\n",
        "\n",
        "\n",
        "\n"
      ],
      "metadata": {
        "id": "MsVYB5I1hemC"
      }
    },
    {
      "cell_type": "markdown",
      "source": [
        "#Q1.Explain the key features of Python that make it a popular choice for programming.\n",
        "\n",
        "ANS : Python’s popularity as a programming language can be attributed to several key features:\n",
        "\n",
        "1. Easy to Read and Write: Python’s syntax is straightforward and resembles English, making it easy to learn and write. This simplicity reduces the learning curve for beginners and increases productivity for experienced programmers.\n",
        "\n",
        "\n",
        "2. Interpreted Language: Python is an interpreted language, meaning code can be run line-by-line without the need for compilation. This facilitates rapid development and testing, especially useful in scripting and automation tasks.\n",
        "\n",
        "\n",
        "3. Dynamic Typing: Python allows dynamic typing, meaning that variable types are checked at runtime, not in advance. This flexibility can speed up development as types do not need to be declared explicitly.\n",
        "\n",
        "\n",
        "4. Versatile and General-Purpose: Python is general-purpose and can be used across various domains like web development, data analysis, artificial intelligence, scientific computing, and more.\n",
        "\n",
        "\n",
        "5. Extensive Standard Library and Third-Party Modules: Python’s standard library has a wide range of modules and functions, reducing the need for external dependencies. In addition, there is a vast ecosystem of third-party libraries (like NumPy, Pandas, and Django) that extend Python’s capabilities, making it adaptable for various applications.\n",
        "\n",
        "\n",
        "6. Strong Community Support: Python has a large, active community that contributes to its libraries, documentation, and learning resources. This support helps developers troubleshoot issues quickly and stay up-to-date with the latest advancements.\n",
        "\n",
        "\n",
        "7. Object-Oriented and Functional Programming Support: Python supports multiple programming paradigms, including object-oriented, procedural, and functional programming, making it flexible for different programming styles and project requirements.\n",
        "\n",
        "\n",
        "8. Portability: Python is platform-independent, so code written on one system can be executed on another with little to no modification, as long as the interpreter is installed.\n",
        "\n",
        "\n",
        "9. Integrated with Data Science and AI Tools: Python has become the dominant language in data science and artificial intelligence, with specialized libraries like TensorFlow, scikit-learn, and PyTorch. These libraries make complex processes like machine learning accessible to developers and data scientists.\n",
        "\n",
        "\n",
        "10. Robust Frameworks for Web Development: Frameworks like Django, Flask, and FastAPI simplify web development by handling many complex aspects like routing, templating, and security, enabling developers to build web applications efficiently.\n",
        "\n",
        "\n",
        "\n",
        "Overall, Python’s readability, versatility, and rich ecosystem make it a popular choice for programmers across skill levels and industries."
      ],
      "metadata": {
        "id": "OYOotgcTh0Op"
      }
    },
    {
      "cell_type": "markdown",
      "source": [
        "#Q2:  Describe the role of predefined keywords in Python and provide examples of how they are used in a program.\n",
        "\n",
        "\n",
        "ANS : In Python, predefined keywords (or reserved words) have specific meanings and purposes in the language's syntax. They cannot be used as variable names, function names, or identifiers, as they are essential for defining the structure and behavior of Python code.\n",
        "\n",
        "These keywords help Python understand the nature of operations being performed. They control the flow, define data types, handle exceptions, and much more."
      ],
      "metadata": {
        "id": "xYnSxyLhjsWR"
      }
    },
    {
      "cell_type": "code",
      "source": [
        "#if, elif, else: Used for conditional branching.\n",
        "\n",
        "#Example:\n",
        "\n",
        "x = 10\n",
        "if x > 5:\n",
        "    print(\"x is greater than 5\")\n",
        "elif x == 5:\n",
        "    print(\"x is equal to 5\")\n",
        "else:\n",
        "    print(\"x is less than 5\")"
      ],
      "metadata": {
        "colab": {
          "base_uri": "https://localhost:8080/"
        },
        "id": "ZhvKCsJtm4ex",
        "outputId": "b6b4be09-2294-48d6-90ae-a8bc63818191"
      },
      "execution_count": null,
      "outputs": [
        {
          "output_type": "stream",
          "name": "stdout",
          "text": [
            "x is greater than 5\n"
          ]
        }
      ]
    },
    {
      "cell_type": "markdown",
      "source": [
        "#Q3 : Compare and contrast mutable and immutable objects in Python with examples.\n",
        "\n",
        "\n",
        "ANS : In Python, objects can be classified into two categories: mutable and immutable.\n",
        "\n",
        "## Immutable Objects:\n",
        "\n",
        "Immutable objects cannot be modified once created. Their state remains constant throughout their lifetime.\n",
        "\n",
        "## Examples:\n",
        "\n",
        "- Integers (int)\n",
        "- Floats (float)\n",
        "- Strings (str)\n",
        "- Tuples (tuple)\n",
        "- Boolean values (bool)\n",
        "- NoneType (None)\n",
        "\n",
        "## Mutable Objects:\n",
        "\n",
        "Mutable objects can be modified after creation. Their state can change.\n",
        "\n",
        "## Examples:\n",
        "\n",
        "- Lists (list)\n",
        "- Dictionaries (dict)\n",
        "- Sets (set)\n",
        "- User-defined classes (unless specifically designed to be immutable)\n",
        "\n",
        "Comparison of Mutable and Immutable Objects:\n",
        "\n",
        "|  | Immutable | Mutable |\n",
        "| --- | --- | --- |\n",
        "| Modifiable | No | Yes |\n",
        "| Creation | Values cannot be changed after creation | Values can be added, removed, or modified |\n",
        "| Memory Allocation | Fixed memory allocation | Dynamic memory allocation |\n",
        "\n",
        "\n",
        "\n",
        "Examples of immutable objects :\n",
        "    \n",
        "     #int : 3,-8,0\n",
        "     #float : 7.349,-9.0"
      ],
      "metadata": {
        "id": "tW8eVsRipFj1"
      }
    },
    {
      "cell_type": "code",
      "source": [
        "#Example of mutable objects :\n",
        "#list :\n",
        "\n",
        "list1 = [8,2.3,[-4],[\"pushpita\"]]\n",
        "print(list1)"
      ],
      "metadata": {
        "colab": {
          "base_uri": "https://localhost:8080/"
        },
        "id": "CY2EudC2wSna",
        "outputId": "df1b9339-bde9-4a92-dac4-07cfde7e8f5f"
      },
      "execution_count": null,
      "outputs": [
        {
          "output_type": "stream",
          "name": "stdout",
          "text": [
            "[8, 2.3, [-4], ['pushpita']]\n"
          ]
        }
      ]
    },
    {
      "cell_type": "markdown",
      "source": [
        "#Q4 :  Discuss the different types of operators in Python and provide examples of how they are used.\n",
        "\n",
        "\n",
        "ANS :  Python language supports various types of operators, which are: 1. Arithmetic Operators 2. Comparison (Relational) Operators 3. Assignment Operators 4. Logical Operators 5. Bitwise Operators 6. Membership Operators 7. Identity Operators"
      ],
      "metadata": {
        "id": "Shn6AYtm1rNP"
      }
    },
    {
      "cell_type": "code",
      "source": [
        "#Example of Python Arithmetic Operators\n",
        "a = 21\n",
        "b = 10\n",
        "# Addition\n",
        "print (\"a + b : \", a + b)\n",
        "# Subtraction\n",
        "print (\"a - b : \", a - b)\n",
        "# Multiplication\n",
        "print (\"a * b : \", a * b)\n",
        "# Division\n",
        "print (\"a / b : \", a / b)\n",
        "# Modulus\n",
        "print (\"a % b : \", a % b)\n",
        "# Exponent\n",
        "print (\"a ** b : \", a ** b)\n",
        "# Floor Division\n",
        "print (\"a // b : \", a // b)\n"
      ],
      "metadata": {
        "colab": {
          "base_uri": "https://localhost:8080/"
        },
        "id": "hQrpInhc-0vz",
        "outputId": "51da2ee2-d406-45cc-df86-4bdb349a4333"
      },
      "execution_count": null,
      "outputs": [
        {
          "output_type": "stream",
          "name": "stdout",
          "text": [
            "a + b :  31\n",
            "a - b :  11\n",
            "a * b :  210\n",
            "a / b :  2.1\n",
            "a % b :  1\n",
            "a ** b :  16679880978201\n",
            "a // b :  2\n"
          ]
        }
      ]
    },
    {
      "cell_type": "code",
      "source": [
        "# Python Comparison Operators\n",
        "a = 4\n",
        "b = 5\n",
        "# Equal\n",
        "print (\"a == b : \", a == b)\n",
        "# Not Equal\n",
        "print (\"a != b : \", a != b)\n",
        "# Greater Than\n",
        "print (\"a > b : \", a > b)\n",
        "# Less Than\n",
        "print (\"a < b : \", a < b)\n",
        "# Greater Than or Equal to\n",
        "print (\"a >= b : \", a >= b)\n",
        "# Less Than or Equal to\n",
        "print (\"a <= b : \", a <= b)\n"
      ],
      "metadata": {
        "colab": {
          "base_uri": "https://localhost:8080/"
        },
        "id": "G7Vb3EVH-9OP",
        "outputId": "7d285a35-5ba8-4234-93a6-43ed2a6ba8e5"
      },
      "execution_count": null,
      "outputs": [
        {
          "output_type": "stream",
          "name": "stdout",
          "text": [
            "a == b :  False\n",
            "a != b :  True\n",
            "a > b :  False\n",
            "a < b :  True\n",
            "a >= b :  False\n",
            "a <= b :  True\n"
          ]
        }
      ]
    },
    {
      "cell_type": "code",
      "source": [
        "#Python Assignment Operators\n",
        "# Assignment Operator\n",
        "a = 10\n",
        "# Addition Assignment\n",
        "a += 5\n",
        "print (\"a += 5 : \", a)\n",
        "# Subtraction Assignment\n",
        "a -= 5\n",
        "print (\"a -= 5 : \", a)\n",
        "# Multiplication Assignment\n",
        "a *= 5\n",
        "print (\"a *= 5 : \", a)\n",
        "# Division Assignment\n",
        "a /= 5\n",
        "print (\"a /= 5 : \",a)\n",
        "# Remainder Assignment\n",
        "a %= 3\n",
        "print (\"a %= 3 : \", a)\n",
        "# Exponent Assignment\n",
        "a **= 2\n",
        "print (\"a **= 2 : \", a)\n",
        "# Floor Division Assignment\n",
        "a //= 3\n",
        "print (\"a //= 3 : \", a)\n"
      ],
      "metadata": {
        "colab": {
          "base_uri": "https://localhost:8080/"
        },
        "id": "4fpoNFAT_N5x",
        "outputId": "7a6db3ca-b4e5-431b-d5e0-990a9acc9c7d"
      },
      "execution_count": null,
      "outputs": [
        {
          "output_type": "stream",
          "name": "stdout",
          "text": [
            "a += 5 :  15\n",
            "a -= 5 :  10\n",
            "a *= 5 :  50\n",
            "a /= 5 :  10.0\n",
            "a %= 3 :  1.0\n",
            "a **= 2 :  1.0\n",
            "a //= 3 :  0.0\n"
          ]
        }
      ]
    },
    {
      "cell_type": "markdown",
      "source": [],
      "metadata": {
        "id": "wwcT29GPgmWy"
      }
    },
    {
      "cell_type": "code",
      "source": [
        "#Python Bitwise Operators\n",
        "a = 60 # 60 = 0011 1100\n",
        "b = 13 # 13 = 0000 1101\n",
        "# Binary AND\n",
        "c = a & b # 12 = 0000 1100\n",
        "print (\"a & b : \", c)\n",
        "# Binary OR\n",
        "c = a | b # 61 = 0011 1101\n",
        "print (\"a | b : \", c)\n",
        "# Binary XOR\n",
        "c = a ^ b # 49 = 0011 0001\n",
        "print (\"a ^ b : \", c)\n",
        "# Binary Ones Complement\n",
        "c = ~a; # -61 = 1100 0011\n",
        "print (\"~a : \", c)\n",
        "# Binary Left Shift\n",
        "c = a << 2; # 240 = 1111 0000\n",
        "print (\"a << 2 : \", c)\n",
        "# Binary Right Shift\n",
        "c = a >> 2; # 15 = 0000 1111\n",
        "print (\"a >> 2 : \", c)\n",
        "\n"
      ],
      "metadata": {
        "colab": {
          "base_uri": "https://localhost:8080/"
        },
        "id": "LTEf1Bf0_kMx",
        "outputId": "14fa24f0-dff9-4f64-e744-b6b6906927e2"
      },
      "execution_count": null,
      "outputs": [
        {
          "output_type": "stream",
          "name": "stdout",
          "text": [
            "a & b :  12\n",
            "a | b :  61\n",
            "a ^ b :  49\n",
            "~a :  -61\n",
            "a << 2 :  240\n",
            "a >> 2 :  15\n"
          ]
        }
      ]
    },
    {
      "cell_type": "code",
      "source": [
        "# Python Logical Operators\n",
        "x = 5\n",
        "y = 10\n",
        "if x > 3 and y < 15:\n",
        "  print(\"Both x and y are within the specified range\")"
      ],
      "metadata": {
        "colab": {
          "base_uri": "https://localhost:8080/"
        },
        "id": "eTapz5xA_ok-",
        "outputId": "97856178-7b62-4122-f04f-6fe7144a8cf4"
      },
      "execution_count": null,
      "outputs": [
        {
          "output_type": "stream",
          "name": "stdout",
          "text": [
            "Both x and y are within the specified range\n"
          ]
        }
      ]
    },
    {
      "cell_type": "code",
      "source": [
        "#Python Membership Operators\n",
        "fruits = [\"apple\", \"banana\", \"cherry\"]\n",
        "if \"banana\" in fruits:\n",
        "    print(\"Yes, banana is a fruit!\")\n",
        "else:\n",
        "    print(\"No, banana is not a fruit!\")"
      ],
      "metadata": {
        "colab": {
          "base_uri": "https://localhost:8080/"
        },
        "id": "11kvt1LJ_6Fw",
        "outputId": "232c98b4-46a0-4a12-e303-905eedf8832c"
      },
      "execution_count": null,
      "outputs": [
        {
          "output_type": "stream",
          "name": "stdout",
          "text": [
            "Yes, banana is a fruit!\n"
          ]
        }
      ]
    },
    {
      "cell_type": "code",
      "source": [
        "# Python Identity Operators\n",
        "x = 10\n",
        "y = 5\n",
        "if x is y:\n",
        "    print(\"x and y are the same object\")\n",
        "else:\n",
        "    print(\"x and y are not the same object\")\n"
      ],
      "metadata": {
        "colab": {
          "base_uri": "https://localhost:8080/"
        },
        "id": "tKi6Ma99AGBR",
        "outputId": "5ab59fca-f8e4-4ae4-ac3c-9cb0d0331d31"
      },
      "execution_count": null,
      "outputs": [
        {
          "output_type": "stream",
          "name": "stdout",
          "text": [
            "x and y are not the same object\n"
          ]
        }
      ]
    },
    {
      "cell_type": "markdown",
      "source": [
        "#Q5.  Explain the concept of type casting in Python with example.\n",
        "\n",
        "\n",
        "ANS : Type Casting is the method to convert the Python variable datatype into a certain data type in order to perform the required operation by users.\n",
        "In Python, type casting (or type conversion) is the process of changing the data type of a variable or expression. Python provides two types of type casting:\n",
        "\n",
        "## 1. Implicit Type Casting :\n",
        "\n",
        "Python automatically converts data types in certain situations.\n",
        "\n",
        "## 2. Explicit Type Casting :\n",
        "\n",
        "Programmers use built-in functions to manually convert data types."
      ],
      "metadata": {
        "id": "5M4I06WnAU8X"
      }
    },
    {
      "cell_type": "code",
      "source": [
        "# Python program to demonstrate\n",
        "# implicit type Casting\n",
        "\n",
        "# Python automatically converts\n",
        "# a to int\n",
        "a = 7\n",
        "print(type(a))\n",
        "\n",
        "# Python automatically converts\n",
        "# b to float\n",
        "b = 3.0\n",
        "print(type(b))\n",
        "\n",
        "# Python automatically converts\n",
        "# c to float as it is a float addition\n",
        "c = a + b\n",
        "print(c)\n",
        "print(type(c))\n",
        "\n",
        "# Python automatically converts\n",
        "# d to float as it is a float multiplication\n",
        "d = a * b\n",
        "print(d)\n",
        "print(type(d))"
      ],
      "metadata": {
        "colab": {
          "base_uri": "https://localhost:8080/"
        },
        "id": "zzXtlZsgGU8J",
        "outputId": "4ed413ff-9ad6-4468-affe-887bc6e3f7e8"
      },
      "execution_count": null,
      "outputs": [
        {
          "output_type": "stream",
          "name": "stdout",
          "text": [
            "<class 'int'>\n",
            "<class 'float'>\n",
            "10.0\n",
            "<class 'float'>\n",
            "21.0\n",
            "<class 'float'>\n"
          ]
        }
      ]
    },
    {
      "cell_type": "markdown",
      "source": [
        "#Q6.  How do conditional statements work in Python? Illustrate with examples.\n",
        "\n",
        "\n",
        "ANS : Conditional statements in Python are used to control the flow of a program based on conditions or decisions. They allow your code to execute specific blocks of code if certain conditions are met.\n",
        "\n",
        "## Types of Conditional Statements:\n",
        "\n",
        "1. If Statement\n",
        "2. If-Else Statement\n",
        "3. If-Elif-Else Statement\n",
        "4. Nested If Statements\n",
        "     "
      ],
      "metadata": {
        "id": "IDivDxbMHJTR"
      }
    },
    {
      "cell_type": "code",
      "source": [
        "# If Statement\n",
        "\n",
        "#Syntax: if condition:\n",
        "x = 5\n",
        "if x > 10:\n",
        "    print(\"x is greater than 10\")"
      ],
      "metadata": {
        "id": "Lbd-fbcVJzCj"
      },
      "execution_count": null,
      "outputs": []
    },
    {
      "cell_type": "code",
      "source": [
        "#If-Else Statement\n",
        "\n",
        "#Syntax: if condition: else:\n",
        "x = 5\n",
        "if x > 10:\n",
        "    print(\"x is greater than 10\")\n",
        "else:\n",
        "    print(\"x is less than or equal to 10\")"
      ],
      "metadata": {
        "colab": {
          "base_uri": "https://localhost:8080/"
        },
        "id": "d_MDOjZ3KOEQ",
        "outputId": "fac1881e-113b-40fa-b74f-59a3225c9e94"
      },
      "execution_count": null,
      "outputs": [
        {
          "output_type": "stream",
          "name": "stdout",
          "text": [
            "x is less than or equal to 10\n"
          ]
        }
      ]
    },
    {
      "cell_type": "code",
      "source": [
        "#If-Elif-Else Statement\n",
        "\n",
        "#Syntax: if condition: elif another_condition: else:\n",
        "x = 5\n",
        "if x > 10:\n",
        "    print(\"x is greater than 10\")\n",
        "elif x == 5:\n",
        "    print(\"x is equal to 5\")\n",
        "else:\n",
        "    print(\"x is less than 5\")"
      ],
      "metadata": {
        "colab": {
          "base_uri": "https://localhost:8080/"
        },
        "id": "4I3aslkwKcEO",
        "outputId": "9720f4ed-8f11-4c03-8ad5-cd1855d1514b"
      },
      "execution_count": null,
      "outputs": [
        {
          "output_type": "stream",
          "name": "stdout",
          "text": [
            "x is equal to 5\n"
          ]
        }
      ]
    },
    {
      "cell_type": "code",
      "source": [
        "#Nested If Statements\n",
        "\n",
        "#Syntax: if condition: if another_condition:\n",
        "x = 5\n",
        "y = 3\n",
        "if x > 10:\n",
        "    if y > 2:\n",
        "        print(\"x is greater than 10 and y is greater than 2\")"
      ],
      "metadata": {
        "id": "Znyj0wW6K-SP"
      },
      "execution_count": null,
      "outputs": []
    },
    {
      "cell_type": "code",
      "source": [
        "#Examples with Multiple Conditions:\n",
        "\n",
        "#AND Operator (and):\n",
        "x = 5\n",
        "y = 3\n",
        "if x > 2 and y > 2:\n",
        "    print(\"Both conditions are true\")"
      ],
      "metadata": {
        "colab": {
          "base_uri": "https://localhost:8080/"
        },
        "id": "TKEUcEChLzdp",
        "outputId": "4a7fc18d-f15d-404e-bade-ae20eefe37f1"
      },
      "execution_count": null,
      "outputs": [
        {
          "output_type": "stream",
          "name": "stdout",
          "text": [
            "Both conditions are true\n"
          ]
        }
      ]
    },
    {
      "cell_type": "code",
      "source": [
        "#OR Operator (or):\n",
        "\n",
        "x = 5\n",
        "y = 3\n",
        "if x > 2 or y < 2:\n",
        "    print(\"At least one condition is true\")\n"
      ],
      "metadata": {
        "colab": {
          "base_uri": "https://localhost:8080/"
        },
        "id": "Y7-LhPTvMZ08",
        "outputId": "2364ba86-7442-45fc-eb02-33a38484a222"
      },
      "execution_count": null,
      "outputs": [
        {
          "output_type": "stream",
          "name": "stdout",
          "text": [
            "At least one condition is true\n"
          ]
        }
      ]
    },
    {
      "cell_type": "code",
      "source": [
        "#NOT Operator (not):\n",
        "\n",
        "x = 5\n",
        "if not x < 10:\n",
        "    print(\"x is not less than 10\")"
      ],
      "metadata": {
        "id": "pae9w826MiuV"
      },
      "execution_count": null,
      "outputs": []
    },
    {
      "cell_type": "markdown",
      "source": [
        "#Q7.  Describe the different types of loops in Python and their use cases with examples.\n",
        "     \n",
        "\n",
        "\n",
        "ANS : A loop is a control flow statement in Python that allows you to execute a piece of code repeatedly until a specific condition is met. Loops are necessary for operations that require repetitive execution, such as iterating through a Python list of items or doing calculations many times.\n",
        "Python has two primary types of loops: For Loops and While Loops.\n",
        "\n",
        "## For Loops :\n",
        "\n",
        "For loops iterate over a sequence (such as a list, tuple, dictionary, or string) and execute a block of code for each item."
      ],
      "metadata": {
        "id": "FmiuBVBAMuWO"
      }
    },
    {
      "cell_type": "code",
      "source": [
        "#Syntax: for variable in iterable:\n",
        "fruits = ['apple', 'banana', 'cherry']\n",
        "for fruit in fruits:\n",
        "    print(fruit)"
      ],
      "metadata": {
        "colab": {
          "base_uri": "https://localhost:8080/"
        },
        "id": "1aR2LzdLPNsj",
        "outputId": "2312d494-bebe-49e5-9bd4-843b97577077"
      },
      "execution_count": null,
      "outputs": [
        {
          "output_type": "stream",
          "name": "stdout",
          "text": [
            "apple\n",
            "banana\n",
            "cherry\n"
          ]
        }
      ]
    },
    {
      "cell_type": "markdown",
      "source": [
        "## Use cases:\n",
        "\n",
        "1. Iterating over collections (lists, tuples, dictionaries).\n",
        "2. Processing data from files or databases.\n",
        "3. Generating reports or summaries.\n",
        "\n",
        "\n",
        "## While Loops :\n",
        "\n",
        "While loops continue to execute a block of code as long as a condition is true."
      ],
      "metadata": {
        "id": "6CDZVMIzPXFX"
      }
    },
    {
      "cell_type": "code",
      "source": [
        "#Syntax: while condition:\n",
        "i = 0\n",
        "while i < 5:\n",
        "    print(i)\n",
        "    i += 1"
      ],
      "metadata": {
        "colab": {
          "base_uri": "https://localhost:8080/"
        },
        "id": "vQWgau_QPyc8",
        "outputId": "cf208c40-0734-45a0-fb00-61b971de2d07"
      },
      "execution_count": null,
      "outputs": [
        {
          "output_type": "stream",
          "name": "stdout",
          "text": [
            "0\n",
            "1\n",
            "2\n",
            "3\n",
            "4\n"
          ]
        }
      ]
    },
    {
      "cell_type": "markdown",
      "source": [
        "## Use cases:\n",
        "\n",
        "1. Repeating tasks until a condition is met.\n",
        "2. Handling user input or interactions.\n",
        "3. Implementing algorithms with uncertain iterations.\n",
        "\n",
        "\n",
        "##Nested Loops :\n",
        "\n",
        "Nested loops combine two or more loops to iterate over multiple sequences."
      ],
      "metadata": {
        "id": "k7mIkH8yP7hF"
      }
    },
    {
      "cell_type": "code",
      "source": [
        "colors = ['red', 'green', 'blue']\n",
        "shapes = ['circle', 'square', 'triangle']\n",
        "for color in colors:\n",
        "    for shape in shapes:\n",
        "        print(f\"{color} {shape}\")"
      ],
      "metadata": {
        "colab": {
          "base_uri": "https://localhost:8080/"
        },
        "id": "9EpN4plvQKO2",
        "outputId": "a8a85bbc-502d-45d7-e276-7587c8110ee4"
      },
      "execution_count": null,
      "outputs": [
        {
          "output_type": "stream",
          "name": "stdout",
          "text": [
            "red circle\n",
            "red square\n",
            "red triangle\n",
            "green circle\n",
            "green square\n",
            "green triangle\n",
            "blue circle\n",
            "blue square\n",
            "blue triangle\n"
          ]
        }
      ]
    },
    {
      "cell_type": "markdown",
      "source": [
        "## Use cases:\n",
        "\n",
        "1. Generating combinations or permutations.\n",
        "2. Processing multidimensional data.\n",
        "3. Creating game boards or grids."
      ],
      "metadata": {
        "id": "xfr16oSFQTbk"
      }
    }
  ]
}