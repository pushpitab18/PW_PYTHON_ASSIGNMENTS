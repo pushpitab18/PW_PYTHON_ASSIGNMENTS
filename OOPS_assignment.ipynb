{
  "nbformat": 4,
  "nbformat_minor": 0,
  "metadata": {
    "colab": {
      "provenance": [],
      "authorship_tag": "ABX9TyO1r+K46C7iD1R64ez+yvXL",
      "include_colab_link": true
    },
    "kernelspec": {
      "name": "python3",
      "display_name": "Python 3"
    },
    "language_info": {
      "name": "python"
    }
  },
  "cells": [
    {
      "cell_type": "markdown",
      "metadata": {
        "id": "view-in-github",
        "colab_type": "text"
      },
      "source": [
        "<a href=\"https://colab.research.google.com/github/pushpitab18/PW_Python_assignment/blob/main/OOPS_assignment.ipynb\" target=\"_parent\"><img src=\"https://colab.research.google.com/assets/colab-badge.svg\" alt=\"Open In Colab\"/></a>"
      ]
    },
    {
      "cell_type": "markdown",
      "source": [
        "#\"**OOPS_ASSIGNMENT**\""
      ],
      "metadata": {
        "id": "pX7ZGnxNaLHl"
      }
    },
    {
      "cell_type": "markdown",
      "source": [
        "Q1. What are the five key concepts of Object-Oriented Programming (OOP)?\n",
        "\n",
        "\n",
        "ans :  Here are the 5 key concepts of Object-Oriented Programming (OOP):\n",
        "\n",
        "#### *1. Encapsulation* -\n",
        "Encapsulation is the concept of bundling data and methods that operate on that data into a single unit, called a class. This helps to hide the implementation details of the class from the outside world and provides a way to control access to the data.\n",
        "\n",
        "#### *2. Abstraction* -\n",
        "Abstraction is the concept of showing only the necessary details of an object or system to the outside world, while hiding the internal implementation details. This helps to reduce complexity and improve modularity.\n",
        "\n",
        "#### *3. Inheritance* -\n",
        "Inheritance is the concept of creating a new class based on an existing class. The new class inherits the properties and methods of the existing class and can also add new properties and methods or override the ones inherited from the parent class.\n",
        "\n",
        "#### *4. Polymorphism* -\n",
        "Polymorphism is the concept of an object or method taking on multiple forms, depending on the context in which it is used. This can be achieved through method overloading or method overriding.\n",
        "\n",
        "#### *5. Composition* -\n",
        "Composition is the concept of creating objects from other objects or collections of objects. This helps to create complex objects from simpler ones and promotes code reusability.\n",
        "\n",
        "These 5 key concepts of OOP provide a foundation for designing and developing robust, scalable, and maintainable software systems."
      ],
      "metadata": {
        "id": "sUHiiiMrY9W4"
      }
    },
    {
      "cell_type": "markdown",
      "source": [
        "Q2. Write a Python class for a `Car` with attributes for `make`, `model`, and `year`. Include a method to display\n",
        "the car's information.\n",
        "\n",
        "\n",
        "ans : Here's a Python class for a Car with attributes for make, model, and year, along with a method to display the car's information:\n",
        "\n"
      ],
      "metadata": {
        "id": "zRjtGuYdZZr2"
      }
    },
    {
      "cell_type": "code",
      "source": [
        "class Car:\n",
        "    \"\"\"\n",
        "    A class to represent a Car.\n",
        "\n",
        "    Attributes:\n",
        "        make (str): The make of the car.\n",
        "        model (str): The model of the car.\n",
        "        year (int): The year of the car.\n",
        "    \"\"\"\n",
        "\n",
        "    def __init__(self, make, model, year):\n",
        "        \"\"\"\n",
        "        Initializes a Car object.\n",
        "\n",
        "        Args:\n",
        "            make (str): The make of the car.\n",
        "            model (str): The model of the car.\n",
        "            year (int): The year of the car.\n",
        "        \"\"\"\n",
        "        self.make = make\n",
        "        self.model = model\n",
        "        self.year = year\n",
        "\n",
        "    def display_info(self):\n",
        "        \"\"\"\n",
        "        Displays the car's information.\n",
        "        \"\"\"\n",
        "        print(f\"Make: {self.make}\")\n",
        "        print(f\"Model: {self.model}\")\n",
        "        print(f\"Year: {self.year}\")\n",
        "\n"
      ],
      "metadata": {
        "id": "8pVrNOjIdlN6"
      },
      "execution_count": 1,
      "outputs": []
    },
    {
      "cell_type": "code",
      "source": [
        "car = Car(\"Toyota\", \"Camry\", 2024)\n",
        "car.display_info()"
      ],
      "metadata": {
        "colab": {
          "base_uri": "https://localhost:8080/"
        },
        "id": "I0bBz1JJdsqh",
        "outputId": "3dfc1cd0-4abd-4f08-d39d-e6eecff7dfbb"
      },
      "execution_count": 3,
      "outputs": [
        {
          "output_type": "stream",
          "name": "stdout",
          "text": [
            "Make: Toyota\n",
            "Model: Camry\n",
            "Year: 2024\n"
          ]
        }
      ]
    },
    {
      "cell_type": "markdown",
      "source": [
        "####*Explanation* :\n",
        "\n",
        "- The Car class has three attributes: make, model, and year.\n",
        "- The __init__ method initializes a Car object with the given make, model, and year.\n",
        "- The display_info method displays the car's information.\n",
        "- In the example usage, we create a Car object with the make \"Toyota\", model \"Camry\", and year 2020, and then call the display_info method to display the car's information."
      ],
      "metadata": {
        "id": "NaRdmyEcegJF"
      }
    },
    {
      "cell_type": "markdown",
      "source": [
        "Q3. Explain the difference between instance methods and class methods. Provide an example of each.\n",
        "\n",
        "\n",
        "ans : Here's an explanation of the difference between instance methods and class methods, along with examples of each:\n",
        "\n",
        "\n",
        "####- *Instance Methods*\n",
        "\n",
        "Instance methods are methods that belong to an instance of a class. They have access to the instance's attributes and can modify them. Instance methods are used to perform actions that are specific to an instance of a class.\n",
        "\n"
      ],
      "metadata": {
        "id": "Ej7TuU8qfBEx"
      }
    },
    {
      "cell_type": "code",
      "source": [
        "#Example of an Instance Method\n",
        "\n",
        "\n",
        "class Dog:\n",
        "    def __init__(self, name, age):\n",
        "        self.name = name\n",
        "        self.age = age\n",
        "\n",
        "    def bark(self):\n",
        "        print(f\"{self.name} says Woof!\")\n",
        "\n",
        "my_dog = Dog(\"Fido\", 3)\n",
        "my_dog.bark()"
      ],
      "metadata": {
        "colab": {
          "base_uri": "https://localhost:8080/"
        },
        "id": "ZnahL7oZg4zD",
        "outputId": "59c8a0ab-6e72-4a9f-fd1f-40c93b6bad91"
      },
      "execution_count": 4,
      "outputs": [
        {
          "output_type": "stream",
          "name": "stdout",
          "text": [
            "Fido says Woof!\n"
          ]
        }
      ]
    },
    {
      "cell_type": "markdown",
      "source": [
        "- In this example, the bark method is an instance method because it belongs to an instance of the Dog class (my_dog). The method has access to the instance's attributes (name and age) and can use them to perform an action (printing a message).\n",
        "\n"
      ],
      "metadata": {
        "id": "4ehOnI8ZhB_t"
      }
    },
    {
      "cell_type": "markdown",
      "source": [
        "####- *Class Methods*\n",
        "\n",
        "Class methods are methods that belong to a class itself, rather than to an instance of the class. They have access to the class's attributes and can modify them. Class methods are used to perform actions that are related to the class as a whole.\n",
        "\n"
      ],
      "metadata": {
        "id": "RxWePBDPhVj3"
      }
    },
    {
      "cell_type": "code",
      "source": [
        "#Example of a Class Method\n",
        "\n",
        "\n",
        "class Dog:\n",
        "    num_dogs = 0\n",
        "\n",
        "    def __init__(self, name, age):\n",
        "        self.name = name\n",
        "        self.age = age\n",
        "        Dog.num_dogs += 1\n",
        "\n",
        "    @classmethod\n",
        "    def get_num_dogs(cls):\n",
        "        return cls.num_dogs\n",
        "\n",
        "my_dog = Dog(\"Fido\", 3)\n",
        "print(Dog.get_num_dogs())"
      ],
      "metadata": {
        "colab": {
          "base_uri": "https://localhost:8080/"
        },
        "id": "G9MboZIbhkkQ",
        "outputId": "a07cee3f-f47f-4a93-bf16-4fbeb0af1e23"
      },
      "execution_count": 5,
      "outputs": [
        {
          "output_type": "stream",
          "name": "stdout",
          "text": [
            "1\n"
          ]
        }
      ]
    },
    {
      "cell_type": "markdown",
      "source": [
        "- In this example, the get_num_dogs method is a class method because it belongs to the Dog class itself, rather than to an instance of the class. The method has access to the class's attributes (num_dogs) and can use them to perform an action (returning the number of dogs). The @classmethod decorator is used to indicate that the method is a class method."
      ],
      "metadata": {
        "id": "_0xAEk99hrXR"
      }
    },
    {
      "cell_type": "markdown",
      "source": [
        "Q4. How does Python implement method overloading? Give an example.\n",
        "\n",
        "\n",
        "\n",
        "ans :  Python does not support method overloading in the classical sense, unlike languages such as Java or C++. In Python, method overloading is achieved through optional arguments and default values.\n",
        "\n",
        "However, Python 3.5 and later versions provide the @singledispatch decorator from the functools module, which allows you to implement a form of method overloading based on the type of the first argument.\n",
        "\n",
        "Here's an example of how you can use the @singledispatch decorator to implement method overloading:\n"
      ],
      "metadata": {
        "id": "9RAOeyUfhzzj"
      }
    },
    {
      "cell_type": "code",
      "source": [
        "from functools import singledispatch\n",
        "\n",
        "@singledispatch\n",
        "def greet(arg):\n",
        "    print(\"Hello!\")\n",
        "\n",
        "@greet.register\n",
        "def _(name: str):\n",
        "    print(f\"Hello, {name}!\")\n",
        "\n",
        "@greet.register\n",
        "def _(age: int):\n",
        "    print(f\"You are {age} years old!\")"
      ],
      "metadata": {
        "id": "tIMGBT3eip6B"
      },
      "execution_count": 9,
      "outputs": []
    },
    {
      "cell_type": "code",
      "source": [
        "# Example :\n",
        "greet(\"John\")\n",
        "greet(30)\n",
        "greet(None)"
      ],
      "metadata": {
        "colab": {
          "base_uri": "https://localhost:8080/"
        },
        "id": "Kkl3neCBi5S1",
        "outputId": "1cd88bf0-e4df-44c8-89dc-d963aee774fe"
      },
      "execution_count": 10,
      "outputs": [
        {
          "output_type": "stream",
          "name": "stdout",
          "text": [
            "Hello, John!\n",
            "You are 30 years old!\n",
            "Hello!\n"
          ]
        }
      ]
    },
    {
      "cell_type": "markdown",
      "source": [
        "In this example, the greet function is decorated with @singledispatch, which allows you to register additional functions to handle different types of arguments. The @greet.register decorator is used to register these additional functions.\n",
        "\n",
        "When you call the greet function, Python will automatically dispatch to the correct registered function based on the type of the first argument. If no matching function is found, the original greet function will be called.\n",
        "\n",
        "This approach provides a form of method overloading in Python, allowing you to write more flexible and expressive code."
      ],
      "metadata": {
        "id": "ksn4VnOPjJcQ"
      }
    },
    {
      "cell_type": "markdown",
      "source": [
        "Q5. What are the three types of access modifiers in Python? How are they denoted?\n",
        "\n",
        "\n",
        "\n",
        "ans :  Python does not have strict access modifiers like some other languages (e.g., Java, C++). However, Python does have some conventions and mechanisms to control access to attributes and methods:\n",
        "\n",
        "####*1. Public Access* -\n",
        "\n",
        "Public access is the default access level in Python. Attributes and methods are public if they do not start with any special prefix.\n",
        "\n",
        "####*2. Private Access (Name Mangling)* -\n",
        "\n",
        "Private access is achieved through a mechanism called name mangling. Attributes and methods are private if they start with a double underscore (__). Python internally changes the name of these attributes and methods to make them harder to access directly.\n",
        "\n",
        "####*3. Protected Access (Single Underscore)* -\n",
        "\n",
        "Protected access is a convention in Python, where attributes and methods start with a single underscore (_). This indicates that these attributes and methods are intended to be used internally within the class or module, but are not strictly enforced as private.\n"
      ],
      "metadata": {
        "id": "py7omKfGjNxD"
      }
    },
    {
      "cell_type": "code",
      "source": [
        "#Here's an example demonstrating these access modifiers:\n",
        "\n",
        "\n",
        "class MyClass:\n",
        "    def __init__(self):\n",
        "        self.public_var = \"Public variable\"\n",
        "        self._protected_var = \"Protected variable\"\n",
        "        self.__private_var = \"Private variable\"\n",
        "\n",
        "    def public_method(self):\n",
        "        return \"Public method\"\n",
        "\n",
        "    def _protected_method(self):\n",
        "        return \"Protected method\"\n",
        "\n",
        "    def __private_method(self):\n",
        "        return \"Private method\"\n",
        "\n",
        "obj = MyClass()\n"
      ],
      "metadata": {
        "id": "qlFFOlFIkVhT"
      },
      "execution_count": 11,
      "outputs": []
    },
    {
      "cell_type": "code",
      "source": [
        "# Public access\n",
        "print(obj.public_var)\n",
        "print(obj.public_method())"
      ],
      "metadata": {
        "colab": {
          "base_uri": "https://localhost:8080/"
        },
        "id": "Zj0alXHdkkbU",
        "outputId": "ccd759d4-1aa4-4da5-db2d-f052daac0c8b"
      },
      "execution_count": 12,
      "outputs": [
        {
          "output_type": "stream",
          "name": "stdout",
          "text": [
            "Public variable\n",
            "Public method\n"
          ]
        }
      ]
    },
    {
      "cell_type": "code",
      "source": [
        "# Protected access (convention)\n",
        "print(obj._protected_var)\n",
        "print(obj._protected_method())"
      ],
      "metadata": {
        "colab": {
          "base_uri": "https://localhost:8080/"
        },
        "id": "skFrZoNakr1K",
        "outputId": "d9b18644-557d-4d1c-d99c-125f082879ea"
      },
      "execution_count": 13,
      "outputs": [
        {
          "output_type": "stream",
          "name": "stdout",
          "text": [
            "Protected variable\n",
            "Protected method\n"
          ]
        }
      ]
    },
    {
      "cell_type": "code",
      "source": [
        "# Private access (name mangling)\n",
        "# Direct access will raise an AttributeError\n",
        "# print(obj.__private_var)  # Raises AttributeError\n",
        "# print(obj.__private_method())  # Raises AttributeError\n"
      ],
      "metadata": {
        "id": "9AeS2Ap6lBZT"
      },
      "execution_count": 14,
      "outputs": []
    },
    {
      "cell_type": "code",
      "source": [
        "# Accessing private attributes and methods using name mangling\n",
        "print(obj._MyClass__private_var)\n",
        "print(obj._MyClass__private_method())"
      ],
      "metadata": {
        "colab": {
          "base_uri": "https://localhost:8080/"
        },
        "id": "blwBlgKwlDyZ",
        "outputId": "6c20ec50-6c21-4e43-baea-92519e261849"
      },
      "execution_count": 15,
      "outputs": [
        {
          "output_type": "stream",
          "name": "stdout",
          "text": [
            "Private variable\n",
            "Private method\n"
          ]
        }
      ]
    },
    {
      "cell_type": "markdown",
      "source": [
        "Q6. Describe the five types of inheritance in Python. Provide a simple example of multiple inheritance.\n",
        "\n",
        "\n",
        "\n",
        "\n",
        "ans  : Here are the five types of inheritance in Python:\n",
        "\n",
        "*1. Single Inheritance* : A child class inherits from a single parent class.\n",
        "\n",
        "*2. Multiple Inheritance* : A child class inherits from multiple parent classes.\n",
        "\n",
        "*3. Multilevel Inheritance* : A child class inherits from a parent class, which in turn inherits from another parent class.\n",
        "\n",
        "*4. Hierarchical Inheritance* : Multiple child classes inherit from a single parent class.\n",
        "\n",
        "*5. Hybrid Inheritance* : A combination of multiple inheritance and multilevel inheritance.\n"
      ],
      "metadata": {
        "id": "N37DbX41lOCr"
      }
    },
    {
      "cell_type": "code",
      "source": [
        "#Here's a simple example of multiple inheritance:\n",
        "\n",
        "\n",
        "class Animal:\n",
        "    def __init__(self, name):\n",
        "        self.name = name\n",
        "\n",
        "    def eat(self):\n",
        "        print(f\"{self.name} is eating.\")\n",
        "\n",
        "class Mammal:\n",
        "    def __init__(self, hair_color):\n",
        "        self.hair_color = hair_color\n",
        "\n",
        "    def walk(self):\n",
        "        print(\"Walking...\")\n",
        "\n",
        "class Dog(Animal, Mammal):\n",
        "    def __init__(self, name, hair_color):\n",
        "        Animal.__init__(self, name)\n",
        "        Mammal.__init__(self, hair_color)\n",
        "\n",
        "    def bark(self):\n",
        "        print(\"Woof!\")\n",
        "\n"
      ],
      "metadata": {
        "id": "MyM8N_oKmvYN"
      },
      "execution_count": 16,
      "outputs": []
    },
    {
      "cell_type": "code",
      "source": [
        "my_dog = Dog(\"Fido\", \"Brown\")\n",
        "my_dog.eat()\n",
        "my_dog.walk()\n",
        "my_dog.bark()\n",
        "\n",
        "#In this example, the Dog class inherits from both the Animal and Mammal classes, demonstrating multiple inheritance."
      ],
      "metadata": {
        "colab": {
          "base_uri": "https://localhost:8080/"
        },
        "id": "IlDCEVIBm5ca",
        "outputId": "da15aec8-4a19-4d11-f674-d1746f627c5a"
      },
      "execution_count": 17,
      "outputs": [
        {
          "output_type": "stream",
          "name": "stdout",
          "text": [
            "Fido is eating.\n",
            "Walking...\n",
            "Woof!\n"
          ]
        }
      ]
    },
    {
      "cell_type": "markdown",
      "source": [
        "Q7. What is the Method Resolution Order (MRO) in Python? How can you retrieve it programmatically?\n",
        "\n",
        "\n",
        "\n",
        "ans : The Method Resolution Order (MRO) in Python is the order in which Python searches for methods and attributes in a class hierarchy. When a method or attribute is accessed on an object, Python searches for it in the following order:\n",
        "\n",
        "1. The object's own attributes and methods.\n",
        "2. The attributes and methods of the object's class.\n",
        "3. The attributes and methods of the object's parent classes, in the order they are listed in the class definition.\n",
        "\n",
        "The MRO is used to resolve conflicts when multiple classes define the same method or attribute.You can retrieve the MRO programmatically using the mro() method, which is available on all classes."
      ],
      "metadata": {
        "id": "KdzidJDhnGjf"
      }
    },
    {
      "cell_type": "code",
      "source": [
        "#Here's an example:\n",
        "\n",
        "\n",
        "class Animal:\n",
        "    pass\n",
        "\n",
        "class Mammal(Animal):\n",
        "    pass\n",
        "\n",
        "class Dog(Mammal):\n",
        "    pass\n",
        "\n",
        "print(Dog.mro())"
      ],
      "metadata": {
        "colab": {
          "base_uri": "https://localhost:8080/"
        },
        "id": "eUs3qQI8nn3m",
        "outputId": "f03a2b44-e2b3-4682-d6f8-7ab6e24f280f"
      },
      "execution_count": 18,
      "outputs": [
        {
          "output_type": "stream",
          "name": "stdout",
          "text": [
            "[<class '__main__.Dog'>, <class '__main__.Mammal'>, <class '__main__.Animal'>, <class 'object'>]\n"
          ]
        }
      ]
    },
    {
      "cell_type": "markdown",
      "source": [
        "- This output shows the MRO for the Dog class. Python will search for methods and attributes in this order when resolving conflicts.\n",
        "\n",
        "- The mro() method returns a tuple of classes, which represents the MRO. The tuple includes the class itself, its parent classes, and ultimately the object class, which is the base class of all classes in Python."
      ],
      "metadata": {
        "id": "Hl5YqyDRnvst"
      }
    },
    {
      "cell_type": "markdown",
      "source": [
        "Q8. Create an abstract base class `Shape` with an abstract method `area()`. Then create two subclasses\n",
        "`Circle` and `Rectangle` that implement the `area()` method.\n",
        "\n",
        "\n",
        "ans :  Here's how you can create an abstract base class Shape with an abstract method area(), and then create two subclasses Circle and Rectangle that implement the area() method:\n",
        "\n"
      ],
      "metadata": {
        "id": "7JpdJUrxoBQj"
      }
    },
    {
      "cell_type": "code",
      "source": [
        "from abc import ABC, abstractmethod\n",
        "import math\n",
        "\n",
        "# Abstract base class Shape\n",
        "class Shape(ABC):\n",
        "    @abstractmethod\n",
        "    def area(self):\n",
        "        pass\n",
        "\n",
        "# Subclass Circle\n",
        "class Circle(Shape):\n",
        "    def __init__(self, radius):\n",
        "        self.radius = radius\n",
        "\n",
        "    def area(self):\n",
        "        return math.pi * (self.radius ** 2)\n",
        "\n",
        "# Subclass Rectangle\n",
        "class Rectangle(Shape):\n",
        "    def __init__(self, width, height):\n",
        "        self.width = width\n",
        "        self.height = height\n",
        "\n",
        "    def area(self):\n",
        "        return self.width * self.height\n"
      ],
      "metadata": {
        "id": "zn_sTh5ZoVJa"
      },
      "execution_count": 19,
      "outputs": []
    },
    {
      "cell_type": "code",
      "source": [
        "# Example :\n",
        "circle = Circle(5)\n",
        "print(f\"Circle area: {circle.area():.2f}\")\n",
        "\n",
        "rectangle = Rectangle(4, 6)\n",
        "print(f\"Rectangle area: {rectangle.area()}\")\n",
        "\n"
      ],
      "metadata": {
        "colab": {
          "base_uri": "https://localhost:8080/"
        },
        "id": "tq3nr6DUob5p",
        "outputId": "6a2c8fa0-a17e-4876-f177-a789a03088f2"
      },
      "execution_count": 20,
      "outputs": [
        {
          "output_type": "stream",
          "name": "stdout",
          "text": [
            "Circle area: 78.54\n",
            "Rectangle area: 24\n"
          ]
        }
      ]
    },
    {
      "cell_type": "markdown",
      "source": [
        "*Explanation* :\n",
        "\n",
        "- We define the abstract base class Shape using the ABC class from the abc module. The Shape class has an abstract method area() decorated with the @abstractmethod decorator.\n",
        "- We create two subclasses Circle and Rectangle that inherit from the Shape class. Both subclasses implement the area() method according to their respective geometric formulas.\n",
        "- In the example usage, we create instances of the Circle and Rectangle classes and call their area() methods to calculate and print their areas."
      ],
      "metadata": {
        "id": "SxBdJAx1oj_q"
      }
    },
    {
      "cell_type": "markdown",
      "source": [
        "Q9. Demonstrate polymorphism by creating a function that can work with different shape objects to calculate and print their areas.\n",
        "\n",
        "\n",
        "ans : Here's an example of polymorphism in Python, where we create a function calculate_area that can work with different shape objects to calculate and print their areas:\n",
        "\n"
      ],
      "metadata": {
        "id": "X4SFwcPhotp2"
      }
    },
    {
      "cell_type": "code",
      "source": [
        "from abc import ABC, abstractmethod\n",
        "import math\n",
        "\n",
        "# Abstract base class Shape\n",
        "class Shape(ABC):\n",
        "    @abstractmethod\n",
        "    def area(self):\n",
        "        pass\n",
        "\n",
        "# Subclass Circle\n",
        "class Circle(Shape):\n",
        "    def __init__(self, radius):\n",
        "        self.radius = radius\n",
        "\n",
        "    def area(self):\n",
        "        return math.pi * (self.radius ** 2)\n",
        "\n",
        "# Subclass Rectangle\n",
        "class Rectangle(Shape):\n",
        "    def __init__(self, width, height):\n",
        "        self.width = width\n",
        "        self.height = height\n",
        "\n",
        "    def area(self):\n",
        "        return self.width * self.height\n",
        "\n",
        "# Function to calculate and print the area of a shape\n",
        "def calculate_area(shape: Shape):\n",
        "    print(f\"Area of {type(shape).__name__}: {shape.area():.2f}\")"
      ],
      "metadata": {
        "id": "QRqIqpmWpFnk"
      },
      "execution_count": 21,
      "outputs": []
    },
    {
      "cell_type": "code",
      "source": [
        "# Example :\n",
        "circle = Circle(5)\n",
        "rectangle = Rectangle(4, 6)\n",
        "\n",
        "calculate_area(circle)\n",
        "calculate_area(rectangle)"
      ],
      "metadata": {
        "colab": {
          "base_uri": "https://localhost:8080/"
        },
        "id": "1WLd4AN6pdl5",
        "outputId": "a4a911eb-6594-4dcd-8e75-41a4dad4c687"
      },
      "execution_count": 22,
      "outputs": [
        {
          "output_type": "stream",
          "name": "stdout",
          "text": [
            "Area of Circle: 78.54\n",
            "Area of Rectangle: 24.00\n"
          ]
        }
      ]
    },
    {
      "cell_type": "markdown",
      "source": [
        "*Explanation* :\n",
        "\n",
        "- We define the Shape abstract base class with an abstract area method.\n",
        "- We create Circle and Rectangle subclasses that implement the area method.\n",
        "- We define the calculate_area function, which takes a Shape object as input and calls its area method to calculate and print the area.\n",
        "- In the example usage, we create Circle and Rectangle objects and pass them to the calculate_area function. The function works polymorphically with both shapes, demonstrating polymorphism."
      ],
      "metadata": {
        "id": "MnvRK8afpmId"
      }
    },
    {
      "cell_type": "markdown",
      "source": [
        "Q10. Implement encapsulation in a `BankAccount` class with private attributes for `balance` and `account_number`. Include methods for deposit, withdrawal, and balance inquiry.\n",
        "\n",
        "\n",
        "ans : Here's an implementation of encapsulation in a BankAccount class with private attributes for balance and account_number, along with methods for deposit, withdrawal, and balance inquiry:\n"
      ],
      "metadata": {
        "id": "luKbjOzCpxsW"
      }
    },
    {
      "cell_type": "code",
      "source": [
        "class BankAccount:\n",
        "    def __init__(self, account_number, initial_balance):\n",
        "        self.__account_number = account_number\n",
        "        self.__balance = initial_balance\n",
        "\n",
        "    def deposit(self, amount):\n",
        "        if amount > 0:\n",
        "            self.__balance += amount\n",
        "            print(f\"Deposited ${amount:.2f}. New balance: ${self.__balance:.2f}\")\n",
        "        else:\n",
        "            print(\"Invalid deposit amount.\")\n",
        "\n",
        "    def withdraw(self, amount):\n",
        "        if 0 < amount <= self.__balance:\n",
        "            self.__balance -= amount\n",
        "            print(f\"Withdrew ${amount:.2f}. New balance: ${self.__balance:.2f}\")\n",
        "        elif amount <= 0:\n",
        "            print(\"Invalid withdrawal amount.\")\n",
        "        else:\n",
        "            print(\"Insufficient funds.\")\n",
        "\n",
        "    def get_balance(self):\n",
        "        return self.__balance\n",
        "\n",
        "    def get_account_number(self):\n",
        "        return self.__account_number"
      ],
      "metadata": {
        "id": "0wRh3Sq4qIrC"
      },
      "execution_count": 23,
      "outputs": []
    },
    {
      "cell_type": "code",
      "source": [
        "# Example :\n",
        "account = BankAccount(\"1234567890\", 1000.0)\n",
        "print(f\"Account Number: {account.get_account_number()}\")\n",
        "print(f\"Initial Balance: ${account.get_balance():.2f}\")\n",
        "\n",
        "account.deposit(500.0)\n",
        "account.withdraw(200.0)\n",
        "account.withdraw(1500.0)  # Insufficient funds"
      ],
      "metadata": {
        "colab": {
          "base_uri": "https://localhost:8080/"
        },
        "id": "QWhbwX9bqRsf",
        "outputId": "24f323d4-292b-40d7-9d42-c05b06fd9ee4"
      },
      "execution_count": 24,
      "outputs": [
        {
          "output_type": "stream",
          "name": "stdout",
          "text": [
            "Account Number: 1234567890\n",
            "Initial Balance: $1000.00\n",
            "Deposited $500.00. New balance: $1500.00\n",
            "Withdrew $200.00. New balance: $1300.00\n",
            "Insufficient funds.\n"
          ]
        }
      ]
    },
    {
      "cell_type": "markdown",
      "source": [
        "*Explanation* :\n",
        "\n",
        "- We define the BankAccount class with private attributes __account_number and __balance, which are prefixed with double underscores to indicate they are intended to be private.\n",
        "- The class includes methods for deposit (deposit), withdrawal (withdraw), and balance inquiry (get_balance and get_account_number).\n",
        "- In the example usage, we create a BankAccount object and demonstrate deposit, withdrawal, and balance inquiry operations."
      ],
      "metadata": {
        "id": "4bqmOkydqblR"
      }
    },
    {
      "cell_type": "markdown",
      "source": [
        "Q11. Write a class that overrides the `__str__` and `__add__` magic methods. What will these methods allow you to do?\n",
        "\n",
        "\n",
        "ans :  Here's an example of a class that overrides the __str__ and __add__ magic methods:\n"
      ],
      "metadata": {
        "id": "CE9xM9yqqi9t"
      }
    },
    {
      "cell_type": "code",
      "source": [
        "class Vector:\n",
        "    def __init__(self, x, y):\n",
        "        self.x = x\n",
        "        self.y = y\n",
        "\n",
        "    def __str__(self):\n",
        "        return f\"Vector({self.x}, {self.y})\"\n",
        "\n",
        "    def __add__(self, other):\n",
        "        if isinstance(other, Vector):\n",
        "            return Vector(self.x + other.x, self.y + other.y)\n",
        "        else:\n",
        "            raise TypeError(\"Unsupported operand type for +\")\n"
      ],
      "metadata": {
        "id": "gFSxwFw7q1J4"
      },
      "execution_count": 25,
      "outputs": []
    },
    {
      "cell_type": "code",
      "source": [
        "# Example :\n",
        "v1 = Vector(2, 3)\n",
        "v2 = Vector(4, 5)\n",
        "\n",
        "print(v1)\n",
        "print(v2)\n",
        "\n",
        "v3 = v1 + v2\n",
        "print(v3)"
      ],
      "metadata": {
        "colab": {
          "base_uri": "https://localhost:8080/"
        },
        "id": "DFvtMbLCq9j2",
        "outputId": "8c436c99-5e50-4d79-e1e3-8d251e9393f0"
      },
      "execution_count": 26,
      "outputs": [
        {
          "output_type": "stream",
          "name": "stdout",
          "text": [
            "Vector(2, 3)\n",
            "Vector(4, 5)\n",
            "Vector(6, 8)\n"
          ]
        }
      ]
    },
    {
      "cell_type": "markdown",
      "source": [
        "*Explanation* :\n",
        "\n",
        "- The Vector class represents a 2D vector with x and y coordinates.\n",
        "- The __str__ method is overridden to provide a string representation of the vector. This allows you to print the vector in a human-readable format.\n",
        "- The __add__ method is overridden to support vector addition. This allows you to add two vectors together using the + operator. The result is a new vector that represents the sum of the two input vectors.\n",
        "- In the example usage, we create two vectors v1 and v2, print their string representations, and add them together to create a new vector v3."
      ],
      "metadata": {
        "id": "CoHEVLQtrIVb"
      }
    },
    {
      "cell_type": "markdown",
      "source": [
        "Q12. Create a decorator that measures and prints the execution time of a function.\n",
        "\n",
        "\n",
        "\n",
        "ans : Here's an example of a decorator that measures and prints the execution time of a function:\n"
      ],
      "metadata": {
        "id": "kJg6RQoKrPU7"
      }
    },
    {
      "cell_type": "code",
      "source": [
        "import time\n",
        "from functools import wraps\n",
        "\n",
        "def timer_decorator(func):\n",
        "    @wraps(func)\n",
        "    def wrapper(*args, **kwargs):\n",
        "        start_time = time.time()\n",
        "        result = func(*args, **kwargs)\n",
        "        end_time = time.time()\n",
        "        execution_time = end_time - start_time\n",
        "        print(f\"Function '{func.__name__}' executed in {execution_time:.4f} seconds.\")\n",
        "        return result\n",
        "    return wrapper"
      ],
      "metadata": {
        "id": "MLO_jS71rv_T"
      },
      "execution_count": 27,
      "outputs": []
    },
    {
      "cell_type": "code",
      "source": [
        "# Example :\n",
        "@timer_decorator\n",
        "def example_function():\n",
        "    time.sleep(1)  # Simulate some work\n",
        "    print(\"Example function executed.\")\n",
        "\n",
        "example_function()"
      ],
      "metadata": {
        "colab": {
          "base_uri": "https://localhost:8080/"
        },
        "id": "qTeZHV1hr4IS",
        "outputId": "4949b7f8-23e6-41a9-c6b2-b041c88ffb5f"
      },
      "execution_count": 28,
      "outputs": [
        {
          "output_type": "stream",
          "name": "stdout",
          "text": [
            "Example function executed.\n",
            "Function 'example_function' executed in 1.0017 seconds.\n"
          ]
        }
      ]
    },
    {
      "cell_type": "markdown",
      "source": [
        "*Explanation* :\n",
        "\n",
        "- We define the timer_decorator function, which takes another function func as an argument.\n",
        "- Inside timer_decorator, we define the wrapper function, which wraps the original function func.\n",
        "- The wrapper function measures the execution time of func by recording the start and end times using time.time().\n",
        "- After executing func, the wrapper function prints the execution time and returns the result of func.\n",
        "- We use the @wraps decorator from the functools module to preserve the original function's metadata (e.g., name, docstring).\n",
        "- In the example usage, we apply the timer_decorator to the example_function using the @ syntax.\n",
        "- When we call example_function(), it executes the original function and prints the execution time."
      ],
      "metadata": {
        "id": "2BJXRq0vsBXy"
      }
    },
    {
      "cell_type": "markdown",
      "source": [
        "Q13. Explain the concept of the Diamond Problem in multiple inheritance. How does Python resolve it?\n",
        "\n",
        "\n",
        "ans : The Diamond Problem is a classic issue that arises in multiple inheritance, where a class inherits from two or more classes that have a common base class. This creates a diamond-shaped inheritance graph, where the base class is at the top, and the two intermediate classes are on either side, with the derived class at the bottom.\n"
      ],
      "metadata": {
        "id": "qLREeqqMsT7p"
      }
    },
    {
      "cell_type": "code",
      "source": [
        "#Here's an example of the Diamond Problem in Python:\n",
        "\n",
        "\n",
        "class A:\n",
        "    def method(self):\n",
        "        print(\"A's method\")\n",
        "\n",
        "class B(A):\n",
        "    def method(self):\n",
        "        print(\"B's method\")\n",
        "\n",
        "class C(A):\n",
        "    def method(self):\n",
        "        print(\"C's method\")\n",
        "\n",
        "class D(B, C):\n",
        "    pass"
      ],
      "metadata": {
        "id": "IEp9RQfis4r4"
      },
      "execution_count": 29,
      "outputs": []
    },
    {
      "cell_type": "markdown",
      "source": [
        "In this example, class D inherits from both B and C, which in turn inherit from A. This creates a diamond-shaped inheritance graph:\n",
        "\n",
        "    A\n",
        "   / \\\n",
        "  B   C\n",
        "   \\ /\n",
        "    D\n",
        "\n",
        "Now, when we create an instance of D and call the method() function, which implementation should be used? This is the Diamond Problem.\n",
        "\n",
        "Python resolves the Diamond Problem using a technique called Method Resolution Order (MRO) or C3 Linearization. Here's how it works:\n",
        "\n",
        "1. Python creates a list of classes to search for the method, starting from the current class (D) and moving up the inheritance graph.\n",
        "2. When Python encounters a class that has multiple parents (like D), it uses the following rules to resolve the order:\n",
        "\n",
        "    - List the current class first.\n",
        "    - List the parents of the current class in the order they are defined.\n",
        "    - If a parent class is already listed, skip it.\n",
        "3. Python continues this process until it reaches the top of the inheritance graph (in this case, A).\n",
        "4. Once the MRO list is created, Python searches for the method in each class in the list, from left to right.\n",
        "\n",
        "In our example, the MRO list for class D would be:\n",
        "\n",
        "[D, B, C, A, object]\n",
        "\n",
        "So, when we call method() on an instance of D, Python will search for the method in the following order:\n",
        "\n",
        "1. D\n",
        "2. B\n",
        "3. C\n",
        "4. A\n",
        "5. object\n",
        "\n",
        "Since B defines a method(), that's the one that gets called.\n",
        "\n",
        "\n",
        "\n"
      ],
      "metadata": {
        "id": "CV1kEzFTtHCX"
      }
    },
    {
      "cell_type": "code",
      "source": [
        "#Here's the complete code with the MRO list printed:\n",
        "\n",
        "\n",
        "class A:\n",
        "    def method(self):\n",
        "        print(\"A's method\")\n",
        "\n",
        "class B(A):\n",
        "    def method(self):\n",
        "        print(\"B's method\")\n",
        "\n",
        "class C(A):\n",
        "    def method(self):\n",
        "        print(\"C's method\")\n",
        "\n",
        "class D(B, C):\n",
        "    pass\n",
        "\n",
        "print(D.mro())\n",
        "\n",
        "d = D()\n",
        "d.method()\n"
      ],
      "metadata": {
        "colab": {
          "base_uri": "https://localhost:8080/"
        },
        "id": "PjVlePNXthoD",
        "outputId": "b2c1c0d6-9284-4676-9404-9833d5ddd2e3"
      },
      "execution_count": 30,
      "outputs": [
        {
          "output_type": "stream",
          "name": "stdout",
          "text": [
            "[<class '__main__.D'>, <class '__main__.B'>, <class '__main__.C'>, <class '__main__.A'>, <class 'object'>]\n",
            "B's method\n"
          ]
        }
      ]
    },
    {
      "cell_type": "markdown",
      "source": [
        "Q14. Write a class method that keeps track of the number of instances created from a class.\n",
        "\n",
        "\n",
        "\n",
        "ans : Here's an example of a class that keeps track of the number of instances created from it:\n"
      ],
      "metadata": {
        "id": "ona823K9tv73"
      }
    },
    {
      "cell_type": "code",
      "source": [
        "class InstanceTracker:\n",
        "    num_instances = 0\n",
        "\n",
        "    def __init__(self):\n",
        "        InstanceTracker.num_instances += 1\n",
        "\n",
        "    @classmethod\n",
        "    def get_num_instances(cls):\n",
        "        return cls.num_instances"
      ],
      "metadata": {
        "id": "h9v_yW75uOCJ"
      },
      "execution_count": 31,
      "outputs": []
    },
    {
      "cell_type": "code",
      "source": [
        "# Example :\n",
        "print(InstanceTracker.get_num_instances())"
      ],
      "metadata": {
        "colab": {
          "base_uri": "https://localhost:8080/"
        },
        "id": "zmRiO9JuuUNn",
        "outputId": "459e48bd-5c1f-4ae6-e3ca-4466bd7cddca"
      },
      "execution_count": 32,
      "outputs": [
        {
          "output_type": "stream",
          "name": "stdout",
          "text": [
            "0\n"
          ]
        }
      ]
    },
    {
      "cell_type": "code",
      "source": [
        "tracker1 = InstanceTracker()\n",
        "print(InstanceTracker.get_num_instances())"
      ],
      "metadata": {
        "colab": {
          "base_uri": "https://localhost:8080/"
        },
        "id": "T5guVBmEua3g",
        "outputId": "a0317a41-5b54-4d27-a79e-a86d1eb6e972"
      },
      "execution_count": 33,
      "outputs": [
        {
          "output_type": "stream",
          "name": "stdout",
          "text": [
            "1\n"
          ]
        }
      ]
    },
    {
      "cell_type": "code",
      "source": [
        "tracker2 = InstanceTracker()\n",
        "print(InstanceTracker.get_num_instances())"
      ],
      "metadata": {
        "colab": {
          "base_uri": "https://localhost:8080/"
        },
        "id": "RoVW4zKHuiqj",
        "outputId": "14a6da7b-b547-4b01-8741-52aaa13d8993"
      },
      "execution_count": 34,
      "outputs": [
        {
          "output_type": "stream",
          "name": "stdout",
          "text": [
            "2\n"
          ]
        }
      ]
    },
    {
      "cell_type": "code",
      "source": [
        "tracker3 = InstanceTracker()\n",
        "print(InstanceTracker.get_num_instances())"
      ],
      "metadata": {
        "colab": {
          "base_uri": "https://localhost:8080/"
        },
        "id": "XpUWVT7EunSF",
        "outputId": "56d65308-ebaf-4c21-8fa2-2518ab489644"
      },
      "execution_count": 35,
      "outputs": [
        {
          "output_type": "stream",
          "name": "stdout",
          "text": [
            "3\n"
          ]
        }
      ]
    },
    {
      "cell_type": "markdown",
      "source": [
        "*Explanation* :\n",
        "- We define the InstanceTracker class with a class attribute num_instances initialized to 0.\n",
        "- In the __init__ method, we increment the num_instances attribute by 1 each time a new instance is created.\n",
        "- We define a class method get_num_instances that returns the current value of num_instances.\n",
        "- In the example usage, we create multiple instances of InstanceTracker and print the number of instances created using the get_num_instances method."
      ],
      "metadata": {
        "id": "WmaFcPjVusZn"
      }
    },
    {
      "cell_type": "markdown",
      "source": [
        "Q15. Implement a static method in a class that checks if a given year is a leap year.\n",
        "\n",
        "\n",
        "\n",
        "ans :  Here's an example of a class with a static method that checks if a given year is a leap year:\n",
        "\n"
      ],
      "metadata": {
        "id": "y1Tibj0Qu5xR"
      }
    },
    {
      "cell_type": "code",
      "source": [
        "class LeapYearChecker:\n",
        "    @staticmethod\n",
        "    def is_leap_year(year):\n",
        "        return year % 4 == 0 and (year % 100 != 0 or year % 400 == 0)"
      ],
      "metadata": {
        "id": "sG4cSGJ-vUQq"
      },
      "execution_count": 36,
      "outputs": []
    },
    {
      "cell_type": "code",
      "source": [
        "# Example :\n",
        "print(LeapYearChecker.is_leap_year(2020))"
      ],
      "metadata": {
        "colab": {
          "base_uri": "https://localhost:8080/"
        },
        "id": "MC3Xce1mvaxN",
        "outputId": "a3746c67-8c5c-4a72-f273-c1d5fb1892ad"
      },
      "execution_count": 37,
      "outputs": [
        {
          "output_type": "stream",
          "name": "stdout",
          "text": [
            "True\n"
          ]
        }
      ]
    },
    {
      "cell_type": "code",
      "source": [
        "print(LeapYearChecker.is_leap_year(2019))"
      ],
      "metadata": {
        "colab": {
          "base_uri": "https://localhost:8080/"
        },
        "id": "xCRHHDUTvryA",
        "outputId": "fa00d1b0-77d3-4cdf-c1be-b69110a0a737"
      },
      "execution_count": 38,
      "outputs": [
        {
          "output_type": "stream",
          "name": "stdout",
          "text": [
            "False\n"
          ]
        }
      ]
    },
    {
      "cell_type": "code",
      "source": [
        "print(LeapYearChecker.is_leap_year(2000))"
      ],
      "metadata": {
        "colab": {
          "base_uri": "https://localhost:8080/"
        },
        "id": "ixAhhrd_vwf0",
        "outputId": "86cb84d8-0b32-4d08-dc9d-1afa98fdca8a"
      },
      "execution_count": 39,
      "outputs": [
        {
          "output_type": "stream",
          "name": "stdout",
          "text": [
            "True\n"
          ]
        }
      ]
    },
    {
      "cell_type": "code",
      "source": [
        "print(LeapYearChecker.is_leap_year(1900))"
      ],
      "metadata": {
        "colab": {
          "base_uri": "https://localhost:8080/"
        },
        "id": "dXX0dE8Rv2EL",
        "outputId": "e16a70ae-d24a-4b05-82af-93afbe534ca3"
      },
      "execution_count": 40,
      "outputs": [
        {
          "output_type": "stream",
          "name": "stdout",
          "text": [
            "False\n"
          ]
        }
      ]
    },
    {
      "cell_type": "markdown",
      "source": [
        "*Explanation* :\n",
        "\n",
        "- We define the LeapYearChecker class with a static method is_leap_year.\n",
        "- The is_leap_year method takes a year as input and returns True if it's a leap year and False otherwise.\n",
        "- A year is a leap year if it's divisible by 4, but not by 100, unless it's also divisible by 400.\n",
        "- In the example usage, we call the is_leap_year method with different years and print the results.\n"
      ],
      "metadata": {
        "id": "409jn6GWv_F-"
      }
    }
  ]
}