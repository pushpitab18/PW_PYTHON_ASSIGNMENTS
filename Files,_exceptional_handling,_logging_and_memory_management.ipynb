{
  "nbformat": 4,
  "nbformat_minor": 0,
  "metadata": {
    "colab": {
      "provenance": [],
      "authorship_tag": "ABX9TyP2AUYLz1uVxKHkbP+b0x12",
      "include_colab_link": true
    },
    "kernelspec": {
      "name": "python3",
      "display_name": "Python 3"
    },
    "language_info": {
      "name": "python"
    }
  },
  "cells": [
    {
      "cell_type": "markdown",
      "metadata": {
        "id": "view-in-github",
        "colab_type": "text"
      },
      "source": [
        "<a href=\"https://colab.research.google.com/github/pushpitab18/PW_PYTHON_ASSIGNMENTS/blob/main/Files%2C_exceptional_handling%2C_logging_and_memory_management.ipynb\" target=\"_parent\"><img src=\"https://colab.research.google.com/assets/colab-badge.svg\" alt=\"Open In Colab\"/></a>"
      ]
    },
    {
      "cell_type": "markdown",
      "source": [
        "# \"Files, exceptional handling,logging and memory management assignment  : \""
      ],
      "metadata": {
        "id": "-9ewr6BBaqO3"
      }
    },
    {
      "cell_type": "markdown",
      "source": [
        "#Q1 :  What is the difference between interpreted and compiled languages?\n",
        "\n",
        "\n",
        "\n",
        "ans :  Here's a detailed explanation of the differences between interpreted and compiled languages:\n",
        "\n",
        "## *Interpreted Languages*\n",
        "\n",
        "Interpreted languages are programming languages that do not need to be compiled before execution. Instead, the code is interpreted line by line by an interpreter at runtime.\n",
        "\n",
        "*Characteristics of Interpreted Languages*\n",
        "\n",
        "- No compilation step: The code is not compiled into machine code before execution.\n",
        "- Interpretation at runtime: The interpreter translates the code into machine code line by line during execution.\n",
        "- Slower execution: Interpreted languages are generally slower than compiled languages because the interpretation process occurs at runtime.\n",
        "- Easier development: Interpreted languages often have a faster development cycle because changes can be made and tested quickly without the need for compilation.\n",
        "\n",
        "*Examples of Interpreted Languages*\n",
        "\n",
        "- Python\n",
        "- JavaScript (in web browsers)\n",
        "- Ruby\n",
        "- PHP\n",
        "\n",
        "##*Compiled Languages*\n",
        "\n",
        "Compiled languages are programming languages that need to be compiled into machine code before execution. The compilation process translates the entire code into machine code, which can then be executed directly by the computer.\n",
        "\n",
        "*Characteristics of Compiled Languages*\n",
        "\n",
        "- Compilation step: The code is compiled into machine code before execution.\n",
        "- Faster execution: Compiled languages are generally faster than interpreted languages because the machine code can be executed directly by the computer.\n",
        "- More difficult development: Compiled languages often have a slower development cycle because changes require recompilation before testing.\n",
        "- Better performance: Compiled languages can optimize the machine code for better performance.\n",
        "\n",
        "*Examples of Compiled Languages*\n",
        "\n",
        "- C\n",
        "- C++\n",
        "- Java (compiled to bytecode, which is then executed by the JVM)\n",
        "- Fortran\n"
      ],
      "metadata": {
        "id": "FpUiFN0Ba_PB"
      }
    },
    {
      "cell_type": "markdown",
      "source": [
        "#Q2 : What is exception handling in Python?\n",
        "\n",
        "\n",
        "ans :  Exception handling in Python is a mechanism that allows you to handle runtime errors or exceptions that occur during the execution of program. It provides a way to catch and manage exceptions, preventing program from crashing or producing unexpected behavior.\n",
        "\n",
        "Here's a basic overview of exception handling in Python:\n",
        "\n",
        "###*Try-Except Block*\n",
        "\n",
        "The try-except block is the core of exception handling in Python. It consists of two parts:\n",
        "\n",
        "- try: This block contains the code that might raise an exception.\n",
        "- except: This block contains the code that will be executed if an exception is raised in the try block.\n"
      ],
      "metadata": {
        "id": "RwFJjUTM0i1b"
      }
    },
    {
      "cell_type": "code",
      "source": [
        "try:\n",
        "    # Code that might raise an exception\n",
        "    x = 1 / 0\n",
        "except ZeroDivisionError:\n",
        "    # Code that will be executed if an exception is raised\n",
        "    print(\"Cannot divide by zero!\")\n",
        "\n"
      ],
      "metadata": {
        "colab": {
          "base_uri": "https://localhost:8080/"
        },
        "id": "oiENk6K10-Tm",
        "outputId": "7f18d968-3813-4404-c12e-d64c1b9c7e8d"
      },
      "execution_count": null,
      "outputs": [
        {
          "output_type": "stream",
          "name": "stdout",
          "text": [
            "Cannot divide by zero!\n"
          ]
        }
      ]
    },
    {
      "cell_type": "markdown",
      "source": [
        "###*Types of Exceptions* :\n",
        "\n",
        "Python has a built-in hierarchy of exceptions. Here are some common types of exceptions:\n",
        "\n",
        "- Exception: The base class for all exceptions.\n",
        "- TypeError: Raised when a value is not of the expected type.\n",
        "- ValueError: Raised when a value is incorrect or out of range.\n",
        "- ZeroDivisionError: Raised when attempting to divide by zero.\n",
        "- IOError: Raised when an I/O operation fails.\n",
        "- RuntimeError: Raised when an error occurs during execution.\n",
        "\n",
        "Raising Exceptions\n",
        "\n",
        "we can raise exceptions using the raise keyword. This is useful for creating custom exceptions or re-raising exceptions.\n"
      ],
      "metadata": {
        "id": "AqY7tu2T1EZq"
      }
    },
    {
      "cell_type": "code",
      "source": [
        "def divide(x, y):\n",
        "    if y == 0:\n",
        "        raise ValueError(\"Cannot divide by zero!\")\n",
        "    return x / y\n",
        "\n"
      ],
      "metadata": {
        "id": "DyS7DeTS1rCz"
      },
      "execution_count": null,
      "outputs": []
    },
    {
      "cell_type": "markdown",
      "source": [
        "#Q3 : What is the purpose of the finally block in exception handling?\n",
        "\n",
        "\n",
        "ans :  The finally block in exception handling is used to execute a block of code regardless of whether an exception was thrown or not. The purpose of the finally block is to:\n",
        "\n",
        "1. Release resources: Close files, database connections, network sockets, or other resources that were opened in the try block.\n",
        "2. Clean up: Perform any necessary cleanup operations, such as deleting temporary files or resetting variables.\n",
        "3. Ensure consistency: Ensure that the program remains in a consistent state, even if an exception occurs.\n",
        "\n",
        "The finally block is executed after the try and except blocks, regardless of whether an exception was thrown or not. This ensures that the code in the finally block is always executed, even if an exception occurs.\n",
        "\n",
        "###Here's an example of using a finally block to close a file:\n"
      ],
      "metadata": {
        "id": "CPweEKR52UsM"
      }
    },
    {
      "cell_type": "code",
      "source": [
        "try:\n",
        "    file = open(\"example.txt\", \"r\")\n",
        "    data = file.read()\n",
        "except FileNotFoundError:\n",
        "    print(\"File not found!\")\n",
        "finally:\n",
        "    if file:\n",
        "        file.close()\n",
        "\n",
        "#In this example, the finally block ensures that the file is closed, regardless of whether an exception occurs or not.\n"
      ],
      "metadata": {
        "id": "gsAOGbnF3vey"
      },
      "execution_count": null,
      "outputs": []
    },
    {
      "cell_type": "markdown",
      "source": [
        "#Q4 : What is logging in Python?\n",
        "\n",
        "\n",
        "ans :  Logging in Python is a mechanism that allows you to record events that occur during the execution of your program. Logging provides a way to track what's happening in your program, which can be useful for:\n",
        "\n",
        "1. Debugging: Logging can help you identify and diagnose issues in your code.\n",
        "2. Auditing: Logging can provide a record of important events, such as user actions or system changes.\n",
        "3. Monitoring: Logging can help you monitor the performance and health of your program.\n",
        "\n",
        "Python's built-in logging module provides a flexible and customizable logging system. Here are the key components of Python's logging system:\n",
        "\n",
        "1. Loggers: Loggers are objects that emit log messages. You can create multiple loggers with different names and configurations.\n",
        "2. Handlers: Handlers are objects that determine what happens to log messages. Common handlers include file handlers, console handlers, and network handlers.\n",
        "3. Formatters: Formatters are objects that control the format of log messages.\n",
        "4. Levels: Levels are used to categorize log messages by their severity. The standard levels are:\n",
        "    - DEBUG: Detailed information, typically of interest only when diagnosing problems.\n",
        "    - INFO: Confirmation that things are working as expected.\n",
        "    - WARNING: An indication that something unexpected happened, or indicative of some problem in the near future.\n",
        "    - ERROR: Due to a more serious problem, the software has not been able to perform some function.\n",
        "    - CRITICAL: A serious error, indicating that the program itself may be unable to continue running.\n",
        "\n",
        "###Here's a simple example of using Python's logging module:\n"
      ],
      "metadata": {
        "id": "b-8WCDoA30gC"
      }
    },
    {
      "cell_type": "code",
      "source": [
        "import logging\n",
        "\n",
        "# Create a logger\n",
        "logger = logging.getLogger(__name__)\n",
        "\n",
        "# Set the logging level\n",
        "logger.setLevel(logging.INFO)\n",
        "\n",
        "# Create a file handler\n",
        "handler = logging.FileHandler('example.log')\n",
        "handler.setLevel(logging.INFO)\n",
        "\n",
        "# Create a formatter and set it for the handler\n",
        "formatter = logging.Formatter('%(asctime)s - %(name)s - %(levelname)s - %(message)s')\n",
        "handler.setFormatter(formatter)\n",
        "\n",
        "# Add the handler to the logger\n",
        "logger.addHandler(handler)\n",
        "\n",
        "# Log some messages\n",
        "logger.info('This is an info message')\n",
        "logger.warning('This is a warning message')\n",
        "logger.error('This is an error message')\n",
        "\n",
        "#This example creates a logger, sets its logging level, and adds a file handler to log messages to a file. It then logs some messages at different levels."
      ],
      "metadata": {
        "colab": {
          "base_uri": "https://localhost:8080/"
        },
        "id": "zWKkES5u4Q8-",
        "outputId": "b29e9e9d-c425-4393-b901-fa1ddc8364c3"
      },
      "execution_count": null,
      "outputs": [
        {
          "output_type": "stream",
          "name": "stderr",
          "text": [
            "INFO:__main__:This is an info message\n",
            "WARNING:__main__:This is a warning message\n",
            "ERROR:__main__:This is an error message\n"
          ]
        }
      ]
    },
    {
      "cell_type": "markdown",
      "source": [
        "#Q5 : What is the significance of the __del__ method in Python?\n",
        "\n",
        "\n",
        "ans :  The __del__ method in Python is a special method that is automatically called when an object is about to be destroyed. This method is also known as a destructor.\n",
        "\n",
        "The significance of the __del__ method is to provide a way to clean up resources, release memory, and perform other necessary tasks before an object is destroyed.\n",
        "\n",
        "Here are some key points about the __del__ method:\n",
        "\n",
        "1. Automatic calling: The __del__ method is automatically called by Python when an object is about to be destroyed.\n",
        "2. Cleanup and resource release: The __del__ method is typically used to clean up resources, release memory, and perform other necessary tasks before an object is destroyed.\n",
        "3. Not guaranteed to be called: The __del__ method is not guaranteed to be called in all situations. For example, if a program crashes or is terminated abruptly, the __del__ method may not be called.\n",
        "4. Should be used sparingly: The __del__ method should be used sparingly, as it can introduce performance overhead and make code harder to understand.\n",
        "\n",
        "###Here's an example of using the __del__ method to clean up resources:\n",
        "\n"
      ],
      "metadata": {
        "id": "1g08tbiD4Z_T"
      }
    },
    {
      "cell_type": "code",
      "source": [
        "class MyClass:\n",
        "    def __init__(self):\n",
        "        self.file = open(\"example.txt\", \"w\")\n",
        "\n",
        "    def __del__(self):\n",
        "        self.file.close()\n",
        "\n",
        "obj = MyClass()\n",
        "# ... use obj ...\n",
        "del obj  # __del__ method will be called automatically\n",
        "\n",
        "#In this example, the __del__ method is used to close the file when the object is destroyed.\n",
        "\n"
      ],
      "metadata": {
        "id": "-yDC29Jm402l"
      },
      "execution_count": null,
      "outputs": []
    },
    {
      "cell_type": "markdown",
      "source": [
        "#Q6 : What is the difference between import and from ... import in Python?\n",
        "\n",
        "ans :  In Python, import and from ... import are two different ways to import modules or packages. Here's the difference between them:\n",
        "\n",
        "###*Key differences:*\n",
        "\n",
        "- Importing: import imports the entire module, while from ... import imports only the specified items.\n",
        "- Namespace: import brings the entire module into your current namespace, while from ... import brings only the specified items into your current namespace.\n",
        "- Access: With import, you need to use the module prefix to access its functions and variables, while with from ... import, you can access the imported items directly.\n",
        "\n",
        "\n",
        "\n",
        "###*Import*\n",
        "\n",
        "- Imports the entire module.\n",
        "- Brings the entire module into your current namespace.\n",
        "- Requires using the module prefix to access its functions and variables.\n",
        "\n",
        "\n",
        "\n",
        "\n"
      ],
      "metadata": {
        "id": "X9TtzbVu5AUi"
      }
    },
    {
      "cell_type": "code",
      "source": [
        "#Example:\n",
        "\n",
        "import math\n",
        "print(math.pi)\n"
      ],
      "metadata": {
        "colab": {
          "base_uri": "https://localhost:8080/"
        },
        "id": "3-hdc2GY6XuB",
        "outputId": "e2b96ddd-b756-43fe-81dd-17bf05bef421"
      },
      "execution_count": null,
      "outputs": [
        {
          "output_type": "stream",
          "name": "stdout",
          "text": [
            "3.141592653589793\n"
          ]
        }
      ]
    },
    {
      "cell_type": "markdown",
      "source": [
        "###*From ... Import*\n",
        "\n",
        "- Imports specific functions, variables, or classes from a module.\n",
        "- Brings only the specified items into your current namespace.\n",
        "- Allows direct access to the imported items without the module prefix.\n",
        "\n"
      ],
      "metadata": {
        "id": "1kXkoiKZ6ogm"
      }
    },
    {
      "cell_type": "code",
      "source": [
        "#Example:\n",
        "\n",
        "from math import pi\n",
        "print(pi)\n"
      ],
      "metadata": {
        "colab": {
          "base_uri": "https://localhost:8080/"
        },
        "id": "rJhGco3I6wGz",
        "outputId": "7868365a-8ab9-4816-8930-118e968c2df4"
      },
      "execution_count": null,
      "outputs": [
        {
          "output_type": "stream",
          "name": "stdout",
          "text": [
            "3.141592653589793\n"
          ]
        }
      ]
    },
    {
      "cell_type": "markdown",
      "source": [
        "#Q7 : How can you handle multiple exceptions in Python?\n",
        "\n",
        "\n",
        "\n",
        "ans : In Python, we can handle multiple exceptions using the following methods:\n",
        "\n",
        "- Method 1: Using Multiple Except Blocks\n",
        "\n",
        "we can use multiple except blocks to catch different exceptions.\n",
        "\n"
      ],
      "metadata": {
        "id": "HIyMl2VR62bF"
      }
    },
    {
      "cell_type": "code",
      "source": [
        "try:\n",
        "    # Code that might raise an exception\n",
        "    x = 1 / 0\n",
        "except ZeroDivisionError:\n",
        "    print(\"Cannot divide by zero!\")\n",
        "except TypeError:\n",
        "    print(\"Invalid type!\")\n",
        "except Exception as e:\n",
        "    print(f\"An unexpected error occurred: {e}\")\n"
      ],
      "metadata": {
        "colab": {
          "base_uri": "https://localhost:8080/"
        },
        "id": "PKYWgaSR7ipj",
        "outputId": "422f7cac-6cb7-48f8-a429-1988711356b5"
      },
      "execution_count": null,
      "outputs": [
        {
          "output_type": "stream",
          "name": "stdout",
          "text": [
            "Cannot divide by zero!\n"
          ]
        }
      ]
    },
    {
      "cell_type": "markdown",
      "source": [
        "- Method 2: Using a Single Except Block with Multiple Exceptions\n",
        "\n",
        "we can use a single except block to catch multiple exceptions by separating them with commas."
      ],
      "metadata": {
        "id": "ulPdaL6l7oou"
      }
    },
    {
      "cell_type": "code",
      "source": [
        "try:\n",
        "    # Code that might raise an exception\n",
        "    x = 1 / 0\n",
        "except (ZeroDivisionError, TypeError) as e:\n",
        "    print(f\"An error occurred: {e}\")\n"
      ],
      "metadata": {
        "colab": {
          "base_uri": "https://localhost:8080/"
        },
        "id": "KZ5GeqF17w_b",
        "outputId": "5655aeb5-d890-4289-9045-7d90514c7996"
      },
      "execution_count": null,
      "outputs": [
        {
          "output_type": "stream",
          "name": "stdout",
          "text": [
            "An error occurred: division by zero\n"
          ]
        }
      ]
    },
    {
      "cell_type": "markdown",
      "source": [
        "- Method 3: Using a Base Exception Class\n",
        "\n",
        "we can use a base exception class, such as Exception, to catch all exceptions.\n",
        "\n"
      ],
      "metadata": {
        "id": "kpuXT9Sw73gx"
      }
    },
    {
      "cell_type": "code",
      "source": [
        "try:\n",
        "    # Code that might raise an exception\n",
        "    x = 1 / 0\n",
        "except Exception as e:\n",
        "    print(f\"An unexpected error occurred: {e}\")\n",
        "\n"
      ],
      "metadata": {
        "colab": {
          "base_uri": "https://localhost:8080/"
        },
        "id": "lol5Z0k17_m8",
        "outputId": "7d6a9c4a-db0e-4078-b4b1-4ebbb71f31ae"
      },
      "execution_count": null,
      "outputs": [
        {
          "output_type": "stream",
          "name": "stdout",
          "text": [
            "An unexpected error occurred: division by zero\n"
          ]
        }
      ]
    },
    {
      "cell_type": "markdown",
      "source": [
        "#Q8 : What is the purpose of the with statement when handling files in Python?\n",
        "\n",
        "ans :  The with statement in Python is used to manage resources, such as files, connections, or locks, that need to be cleaned up after use. When handling files, the with statement serves several purposes:\n",
        "\n",
        "1. Automatic file closure: The with statement ensures that the file is properly closed after it is no longer needed, regardless of whether an exception is thrown or not.\n",
        "\n",
        "2. Error handling: The with statement provides a way to handle exceptions that may occur while working with the file.\n",
        "\n",
        "3. Resource management: The with statement helps manage resources, such as file descriptors, by ensuring they are released when no longer needed.\n",
        "\n",
        "4. Improved readability: The with statement makes the code more readable by clearly defining the scope of the file operation.\n",
        "\n",
        "5. Reduced boilerplate code: The with statement eliminates the need for explicit file closure and error handling code.\n",
        "\n",
        "###Here's an example of using the with statement to handle a file:\n"
      ],
      "metadata": {
        "id": "kpk0IVuv8XQ8"
      }
    },
    {
      "cell_type": "code",
      "source": [
        "with open(\"example.txt\", \"r\") as file:\n",
        "    data = file.read()\n",
        "    print(data)\n",
        "\n"
      ],
      "metadata": {
        "colab": {
          "base_uri": "https://localhost:8080/"
        },
        "id": "jli-NvVo890f",
        "outputId": "16d4d295-7b1e-4cfa-94c0-3a3817f2a057"
      },
      "execution_count": null,
      "outputs": [
        {
          "output_type": "stream",
          "name": "stdout",
          "text": [
            "\n"
          ]
        }
      ]
    },
    {
      "cell_type": "markdown",
      "source": [
        "###*In this example, the with statement:*\n",
        "\n",
        "- Opens the file \"example.txt\" in read mode.\n",
        "- Assigns the file object to the variable file.\n",
        "- Ensures that the file is properly closed after the block of code is executed, regardless of whether an exception is thrown or not.\n",
        "\n",
        "By using the with statement, you can write more concise, readable, and reliable code when working with files in Python."
      ],
      "metadata": {
        "id": "9a7OQDr-9DZ0"
      }
    },
    {
      "cell_type": "markdown",
      "source": [
        "#Q9 : What is the difference between multithreading and multiprocessing?\n",
        "\n",
        "ans : Multithreading and multiprocessing are two different approaches to achieve concurrency in programming. Here's a detailed comparison:\n",
        "\n",
        "\n",
        "Definition Multithreading is a technique where a single process is divided into multiple threads that can run concurrently, sharing the same memory space.\n",
        "\n",
        "###*Characteristics*\n",
        "\n",
        "- Multiple threads share the same memory space.\n",
        "- Threads are lightweight and have a smaller overhead compared to processes.\n",
        "- Thread creation and switching between threads is faster.\n",
        "- Due to the Global Interpreter Lock (GIL) in Python, only one thread can execute Python bytecodes at a time.\n",
        "\n",
        "###*Advantages*\n",
        "\n",
        "- Faster thread creation and switching.\n",
        "- Shared memory allows for efficient communication between threads.\n",
        "- Suitable for I/O-bound tasks, such as networking or disk access.\n",
        "\n",
        "###*Disadvantages*\n",
        "\n",
        "- Due to the GIL, multithreading may not achieve true parallelism in CPU-bound tasks.\n",
        "- Debugging and synchronizing threads can be challenging.\n",
        "\n",
        "###*Multiprocessing*\n",
        "\n",
        "Definition\n",
        "Multiprocessing is a technique where multiple processes are created to run concurrently, each with its own memory space.\n",
        "\n",
        "\n",
        "###*Characteristics*\n",
        "\n",
        "- Multiple processes have their own separate memory spaces.\n",
        "- Processes are heavier and have a larger overhead compared to threads.\n",
        "- Process creation and switching between processes is slower.\n",
        "- True parallelism can be achieved, as each process can execute Python bytecodes independently.\n",
        "\n",
        "###*Advantages*\n",
        "\n",
        "- True parallelism can be achieved, making it suitable for CPU-bound tasks.\n",
        "- Each process has its own memory space, reducing the risk of data corruption.\n",
        "\n",
        "###*Disadvantages*\n",
        "\n",
        "- Slower process creation and switching.\n",
        "- Inter-process communication can be more complex and expensive.\n",
        "\n",
        "\n",
        "\n",
        "\n",
        "\n"
      ],
      "metadata": {
        "id": "EbkbVJmP9QQF"
      }
    },
    {
      "cell_type": "code",
      "source": [
        "#Here's a simple example of multithreading and multiprocessing in Python:\n",
        "\n",
        "#Multithreading Example :\n",
        "\n",
        "\n",
        "import threading\n",
        "import time\n",
        "\n",
        "def print_numbers():\n",
        "    for i in range(10):\n",
        "        time.sleep(1)\n",
        "        print(i)\n",
        "\n",
        "def print_letters():\n",
        "    for letter in 'abcdefghij':\n",
        "        time.sleep(1)\n",
        "        print(letter)\n",
        "\n",
        "# Create threads\n",
        "thread1 = threading.Thread(target=print_numbers)\n",
        "thread2 = threading.Thread(target=print_letters)\n",
        "\n",
        "# Start threads\n",
        "thread1.start()\n",
        "thread2.start()\n",
        "\n",
        "# Wait for both threads to finish\n",
        "thread1.join()\n",
        "thread2.join()\n",
        "\n"
      ],
      "metadata": {
        "colab": {
          "base_uri": "https://localhost:8080/"
        },
        "id": "I4ZB9odo_iao",
        "outputId": "7cbcf039-2ae1-450a-b22d-bae33256097d"
      },
      "execution_count": null,
      "outputs": [
        {
          "output_type": "stream",
          "name": "stdout",
          "text": [
            "0\n",
            "a\n",
            "1\n",
            "b\n",
            "2c\n",
            "\n",
            "d3\n",
            "\n",
            "4e\n",
            "\n",
            "f\n",
            "5\n",
            "g6\n",
            "\n",
            "h7\n",
            "\n",
            "i8\n",
            "\n",
            "j\n",
            "9\n"
          ]
        }
      ]
    },
    {
      "cell_type": "code",
      "source": [
        "#Multiprocessing Example\n",
        "\n",
        "\n",
        "import multiprocessing\n",
        "import time\n",
        "\n",
        "def print_numbers():\n",
        "    for i in range(10):\n",
        "        time.sleep(1)\n",
        "        print(i)\n",
        "\n",
        "def print_letters():\n",
        "    for letter in 'abcdefghij':\n",
        "        time.sleep(1)\n",
        "        print(letter)\n",
        "\n",
        "# Create processes\n",
        "process1 = multiprocessing.Process(target=print_numbers)\n",
        "process2 = multiprocessing.Process(target=print_letters)\n",
        "\n",
        "# Start processes\n",
        "process1.start()\n",
        "process2.start()\n",
        "\n",
        "# Wait for both processes to finish\n",
        "process1.join()\n",
        "process2.join()\n"
      ],
      "metadata": {
        "colab": {
          "base_uri": "https://localhost:8080/"
        },
        "id": "m9MqP3zg_yM6",
        "outputId": "316e1b6c-4548-4257-8249-28ab605b8c78"
      },
      "execution_count": null,
      "outputs": [
        {
          "output_type": "stream",
          "name": "stdout",
          "text": [
            "0\n",
            "a\n",
            "1\n",
            "b\n",
            "2\n",
            "c\n",
            "3\n",
            "d\n",
            "4\n",
            "e\n",
            "5\n",
            "f\n",
            "6\n",
            "g\n",
            "7\n",
            "h\n",
            "8\n",
            "i\n",
            "9\n",
            "j\n"
          ]
        }
      ]
    },
    {
      "cell_type": "markdown",
      "source": [
        "#Q10 : What are the advantages of using logging in a program?\n",
        "\n",
        "\n",
        "ans :  Logging is a crucial aspect of software development that provides numerous benefits. Here are the advantages of using logging in a program:\n",
        "\n",
        "1. Debugging and Troubleshooting\n",
        "Logging helps developers identify and diagnose issues in the program. By analyzing log messages, developers can understand the sequence of events leading up to an error.\n",
        "\n",
        "2. Error Reporting and Notification\n",
        "Logging enables programs to report errors and exceptions to developers, administrators, or users. This facilitates prompt notification and resolution of issues.\n",
        "\n",
        "3. Auditing and Compliance\n",
        "Logging helps organizations meet regulatory requirements and industry standards by providing a record of system activities, user interactions, and data modifications.\n",
        "\n",
        "4. Performance Monitoring and Optimization\n",
        "Logging can help developers monitor program performance, identify bottlenecks, and optimize code for better efficiency.\n",
        "\n",
        "5. Security Monitoring and Incident Response\n",
        "Logging is essential for detecting and responding to security incidents. Log messages can help identify potential security threats, such as unauthorized access attempts or malicious activity.\n",
        "\n",
        "6. Improved Code Quality and Maintainability\n",
        "Logging encourages developers to write cleaner, more modular code. By incorporating logging statements, developers can better understand the program's behavior and make targeted improvements.\n",
        "\n",
        "7. Enhanced User Experience\n",
        "Logging can help developers identify and address issues that impact user experience, such as errors, slow performance, or unexpected behavior.\n",
        "\n",
        "8. Better Decision-Making\n",
        "Logging provides valuable insights into program usage, user behavior, and system performance. This data can inform business decisions, such as resource allocation, feature development, and optimization efforts.\n",
        "\n",
        "9. Compliance with Industry Standards\n",
        "Logging is often required by industry standards, such as PCI-DSS, HIPAA, and GDPR. By incorporating logging into their programs, developers can ensure compliance with these regulations.\n",
        "\n",
        "10. Improved Collaboration and Knowledge Sharing\n",
        "Logging facilitates collaboration among developers, administrators, and other stakeholders by providing a shared understanding of program behavior and issues.\n",
        "\n",
        "By incorporating logging into their programs, developers can reap these benefits and create more robust, maintainable, and efficient software systems."
      ],
      "metadata": {
        "id": "RM5Q3Psi_8Pp"
      }
    },
    {
      "cell_type": "markdown",
      "source": [
        "#Q11 : What is memory management in Python?\n",
        "\n",
        "ans :  Memory management in Python refers to the process of managing the memory used by a Python program. This includes allocating memory for objects, deallocating memory when objects are no longer needed, and handling memory-related errors.\n",
        "\n",
        "###*How Python Manages Memory*\n",
        "\n",
        "Python uses a private heap to manage memory. The private heap is a pool of memory that is allocated by the Python interpreter when it starts up. When a Python program creates an object, Python allocates memory for that object from the private heap.\n",
        "\n",
        "###*Memory Management Techniques Used by Python*\n",
        "\n",
        "Python uses the following memory management techniques:\n",
        "\n",
        "1. Reference Counting: Python uses a reference counting algorithm to manage memory. When an object is created, its reference count is set to 1. When the object is assigned to a variable or passed to a function, its reference count is incremented. When the object is no longer needed, its reference count is decremented. If the reference count reaches 0, the object is deallocated.\n",
        "2. Garbage Collection: Python also uses a garbage collector to manage memory. The garbage collector periodically scans the private heap for objects that are no longer needed and deallocates them.\n",
        "3. Memory Pools: Python uses memory pools to manage memory for small objects, such as integers and strings. Memory pools are pre-allocated blocks of memory that are used to store small objects.\n",
        "Advantages of Python's Memory Management\n",
        "\n",
        "###*Python's memory management has several advantages, including:*\n",
        "\n",
        "1. Automatic Memory Management: Python's memory management is automatic, which means that developers do not need to worry about allocating and deallocating memory manually.\n",
        "2. Memory Safety: Python's memory management ensures that memory is accessed safely, which helps to prevent memory-related bugs and errors.\n",
        "3. Efficient Memory Use: Python's memory management is designed to be efficient, which means that it minimizes memory waste and reduces the risk of memory-related errors.\n",
        "\n",
        "\n"
      ],
      "metadata": {
        "id": "U_a-H_ALAg2D"
      }
    },
    {
      "cell_type": "markdown",
      "source": [
        "#Q12 : What are the basic steps involved in exception handling in Python?\n",
        "\n",
        "ans :  Here are the basic steps involved in exception handling in Python:\n",
        "\n",
        "Step 1: Try Block\n",
        "The try block contains the code that might raise an exception. This is the code that you want to execute, but you're aware that it might fail.\n",
        "\n",
        "Step 2: Except Block\n",
        "The except block contains the code that will be executed if an exception is raised in the try block. You can specify the type of exception you want to catch, or you can use a bare except clause to catch all exceptions.\n",
        "\n",
        "Step 3: Raise Statement (Optional)\n",
        "If you want to raise an exception manually, you can use the raise statement. This can be useful if you want to propagate an exception up the call stack.\n",
        "\n",
        "Step 4: Finally Block (Optional)\n",
        "The finally block contains code that will be executed regardless of whether an exception was raised or not. This is useful for cleaning up resources, closing files, or releasing locks.\n",
        "\n",
        "Step 5: Handle the Exception\n",
        "In the except block, you'll need to handle the exception. This might involve logging the error, displaying an error message to the user, or taking some other corrective action.\n",
        "\n",
        "###*Here's an example of exception handling in Python:*\n"
      ],
      "metadata": {
        "id": "9dERV4YfBOCE"
      }
    },
    {
      "cell_type": "code",
      "source": [
        "def divide_numbers(a, b):\n",
        "    try:\n",
        "        result = a / b\n",
        "        print(f\"The result is {result}\")\n",
        "    except ZeroDivisionError:\n",
        "        print(\"Error: Cannot divide by zero!\")\n",
        "    except TypeError:\n",
        "        print(\"Error: Invalid input type!\")\n",
        "    finally:\n",
        "        print(\"Division operation complete.\")\n",
        "\n",
        "# Test the function\n",
        "divide_numbers(10, 2)\n",
        "divide_numbers(10, 0)\n",
        "divide_numbers(10, \"a\")\n"
      ],
      "metadata": {
        "colab": {
          "base_uri": "https://localhost:8080/"
        },
        "id": "b5A7Hn9-CWb0",
        "outputId": "6d0c813e-f498-48dc-a221-6bc8c904e8e7"
      },
      "execution_count": null,
      "outputs": [
        {
          "output_type": "stream",
          "name": "stdout",
          "text": [
            "The result is 5.0\n",
            "Division operation complete.\n",
            "Error: Cannot divide by zero!\n",
            "Division operation complete.\n",
            "Error: Invalid input type!\n",
            "Division operation complete.\n"
          ]
        }
      ]
    },
    {
      "cell_type": "markdown",
      "source": [
        "- In this example, the divide_numbers function attempts to divide two numbers. If the division operation succeeds, the result is printed. If a ZeroDivisionError or TypeError exception is raised, an error message is printed. Finally, the finally block is executed to print a completion message."
      ],
      "metadata": {
        "id": "CsXGyr2ICcGy"
      }
    },
    {
      "cell_type": "markdown",
      "source": [
        "#Q13 : Why is memory management important in Python?\n",
        "\n",
        "\n",
        "ans :  Memory management is crucial in Python for several reasons:\n",
        "\n",
        "###*Preventing Memory Leaks*\n",
        "\n",
        "Memory leaks occur when a program allocates memory but fails to release it, leading to memory waste. Python's automatic memory management through its garbage collector helps prevent memory leaks.\n",
        "\n",
        "###*Optimizing Performance*\n",
        "\n",
        "Effective memory management ensures that Python programs use memory efficiently, reducing the likelihood of performance issues, such as slow execution or crashes.\n",
        "\n",
        "###*Ensuring Scalability*\n",
        "\n",
        "As programs grow in complexity and size, memory management becomes increasingly important. Proper memory management enables Python programs to scale efficiently, handling large datasets and high traffic without performance degradation.\n",
        "\n",
        "###*Reducing Memory-Related Bugs*\n",
        "\n",
        "Memory-related bugs, such as null pointer exceptions or dangling pointers, can be challenging to identify and fix. Python's memory management features, like automatic memory allocation and garbage collection, minimize the occurrence of these bugs.\n",
        "\n",
        "###*Improving Code Quality*\n",
        "\n",
        "By managing memory effectively, developers can write cleaner, more maintainable code. This leads to improved code quality, reduced technical debt, and easier code refactoring.\n",
        "\n"
      ],
      "metadata": {
        "id": "ZtP2XSoECjBn"
      }
    },
    {
      "cell_type": "markdown",
      "source": [
        "#Q14 : What is the role of try and except in exception handling?\n",
        "\n",
        "ans :  In exception handling, try and except are two fundamental keywords that work together to catch and handle exceptions.\n",
        "\n",
        "###*Try Block:*\n",
        "\n",
        "The try block is used to enclose a section of code that might potentially raise an exception. This code is executed until an exception occurs. If no exception occurs, the code in the try block is executed normally.\n",
        "\n",
        "###*Except Block:*\n",
        "\n",
        "The except block is used to catch and handle exceptions raised in the try block. When an exception occurs in the try block, the execution of the code in the try block is stopped, and the control is transferred to the corresponding except block.\n",
        "\n",
        "###*How Try and Except Work Together:*\n",
        "\n",
        "Here's a step-by-step explanation of how try and except work together:\n",
        "\n",
        "1. Try Block Execution: The code in the try block is executed until an exception occurs.\n",
        "2. Exception Occurs: If an exception occurs in the try block, the execution of the code in the try block is stopped.\n",
        "3. Except Block Execution: The control is transferred to the corresponding except block.\n",
        "4. Exception Handling: The code in the except block is executed to handle the exception.\n",
        "5. Normal Execution Resumes: After the exception is handled, the normal execution of the code resumes.\n"
      ],
      "metadata": {
        "id": "NPXX8M1oDbyL"
      }
    },
    {
      "cell_type": "code",
      "source": [
        "#Example:\n",
        "\n",
        "try:\n",
        "    x = 1 / 0\n",
        "except ZeroDivisionError:\n",
        "    print(\"Error: Cannot divide by zero!\")\n"
      ],
      "metadata": {
        "colab": {
          "base_uri": "https://localhost:8080/"
        },
        "id": "3X4nhoiAEApU",
        "outputId": "193506c2-9d4c-4dd4-bb57-c7976cc6884e"
      },
      "execution_count": null,
      "outputs": [
        {
          "output_type": "stream",
          "name": "stdout",
          "text": [
            "Error: Cannot divide by zero!\n"
          ]
        }
      ]
    },
    {
      "cell_type": "markdown",
      "source": [
        "- In this example, the try block attempts to divide by zero, which raises a ZeroDivisionError exception. The except block catches this exception and handles it by printing an error message."
      ],
      "metadata": {
        "id": "w-Gz4eR2EX8s"
      }
    },
    {
      "cell_type": "markdown",
      "source": [
        "#Q15 :  How does Python's garbage collection system work?\n",
        "\n",
        "\n",
        "ans : Python's garbage collection system is a mechanism that automatically manages memory and eliminates memory leaks by identifying and freeing unused objects. Here's a detailed overview of how it works:\n",
        "\n",
        "###*Generation-Based Garbage Collection*\n",
        "\n",
        "Python's garbage collector uses a generation-based approach, which divides objects into three generations based on their lifespan:\n",
        "\n",
        "1. Generation 0 (Youngest): Newly created objects are assigned to this generation. Most objects in this generation have a short lifespan.\n",
        "2. Generation 1 (Middle-Aged): Objects that survive a garbage collection cycle in Generation 0 are promoted to Generation 1. Objects in this generation have a moderate lifespan.\n",
        "3. Generation 2 (Oldest): Objects that survive multiple garbage collection cycles in Generation 1 are promoted to Generation 2. Objects in this generation have a long lifespan.\n",
        "\n",
        "###*Garbage Collection Process*\n",
        "\n",
        "The garbage collection process involves the following steps:\n",
        "\n",
        "1. Mark Phase: The garbage collector identifies all reachable objects in the heap. It starts from the roots (global variables, stack variables, and registers) and traverses the object graph, marking all reachable objects.\n",
        "2. Sweep Phase: The garbage collector goes through the heap and identifies all unmarked objects. These objects are considered garbage and are scheduled for deallocation.\n",
        "3. Compact Phase: To avoid memory fragmentation, the garbage collector may compact the heap by moving all marked objects together.\n",
        "\n",
        "###*Triggering Garbage Collection*\n",
        "\n",
        "-Garbage collection can be triggered in several ways:\n",
        "\n",
        "1. Manual Triggering: You can manually trigger garbage collection using the gc.collect() function.\n",
        "2. Automatic Triggering: The garbage collector runs periodically based on a heuristic algorithm that takes into account the number of allocations and deallocations.\n",
        "3. Threshold-Based Triggering: When the heap size exceeds a certain threshold, the garbage collector is triggered.\n",
        "\n",
        "\n",
        "\n"
      ],
      "metadata": {
        "id": "AXDjhXMzEhaa"
      }
    },
    {
      "cell_type": "markdown",
      "source": [
        "#Q16 : What is the purpose of the else block in exception handling?\n",
        "\n",
        "\n",
        "ans :  The else block in exception handling is used to specify a block of code that should be executed when no exception is raised in the try block. The else block is optional and can be used in conjunction with the try and except blocks.\n",
        "\n",
        "###*Here's a general syntax:*\n",
        "\n",
        "try:\n",
        "    # Code that might raise an exception\n",
        "except ExceptionType:\n",
        "    # Code to handle the exception\n",
        "else:\n",
        "    # Code to execute when no exception is raised\n",
        "\n",
        "###*The else block serves several purposes:*\n",
        "\n",
        "1. Separate normal execution from exception handling: The else block allows you to separate the normal execution of your code from the exception handling logic. This can make your code more readable and maintainable.\n",
        "2. Provide a fallback or default action: The else block can be used to provide a fallback or default action when no exception is raised. This can be useful when you want to perform some action only when the try block executes successfully.\n",
        "3. Improve code readability: By using an else block, you can make your code more readable by clearly separating the normal execution logic from the exception handling logic.\n"
      ],
      "metadata": {
        "id": "V_afs6YKFbsg"
      }
    },
    {
      "cell_type": "code",
      "source": [
        "#Here's an example that demonstrates the use of an else block:\n",
        "\n",
        "def divide_numbers(a, b):\n",
        "    try:\n",
        "        result = a / b\n",
        "    except ZeroDivisionError:\n",
        "        print(\"Error: Cannot divide by zero!\")\n",
        "    else:\n",
        "        print(f\"The result is {result}\")\n",
        "\n",
        "# Test the function\n",
        "divide_numbers(10, 2)\n",
        "divide_numbers(10, 0)\n",
        "\n",
        "#In this example, the else block is used to print the result of the division only when no exception is raised."
      ],
      "metadata": {
        "colab": {
          "base_uri": "https://localhost:8080/"
        },
        "id": "LR9t2WWJGp18",
        "outputId": "4d09a712-37f0-4c02-e3d3-493adf6c8789"
      },
      "execution_count": null,
      "outputs": [
        {
          "output_type": "stream",
          "name": "stdout",
          "text": [
            "The result is 5.0\n",
            "Error: Cannot divide by zero!\n"
          ]
        }
      ]
    },
    {
      "cell_type": "markdown",
      "source": [
        "#Q17 : What are the common logging levels in Python?\n",
        "\n",
        "\n",
        "ans : In Python, the logging module provides several logging levels that allow you to categorize and filter log messages based on their severity. Here are the common logging levels in Python, listed in order of increasing severity:\n",
        "\n",
        "1. DEBUG: Detailed information, typically of interest only when diagnosing problems.\n",
        "2. INFO: Confirmation that things are working as expected.\n",
        "3. WARNING: An indication that something unexpected happened, or indicative of some problem in the near future (e.g., 'disk space low').\n",
        "4. ERROR: Due to a more serious problem, the software has not been able to perform some function.\n",
        "5. CRITICAL: A serious error, indicating that the program itself may be unable to continue running.\n"
      ],
      "metadata": {
        "id": "GsxaB2FSGyeX"
      }
    },
    {
      "cell_type": "code",
      "source": [
        "#Here's an example of how you can use these logging levels in Python:\n",
        "\n",
        "\n",
        "import logging\n",
        "\n",
        "# Set the logging level\n",
        "logging.basicConfig(level=logging.INFO)\n",
        "\n",
        "# Log messages\n",
        "logging.debug('This is a debug message.')\n",
        "logging.info('This is an info message.')\n",
        "logging.warning('This is a warning message.')\n",
        "logging.error('This is an error message.')\n",
        "logging.critical('This is a critical message.')\n",
        "\n",
        "\n",
        "#In this example, the logging level is set to INFO, which means that only messages with a level of INFO or higher will be displayed."
      ],
      "metadata": {
        "colab": {
          "base_uri": "https://localhost:8080/"
        },
        "id": "RqMRGUD-HzUh",
        "outputId": "7f71fd52-2b29-481c-f398-d488a7b61687"
      },
      "execution_count": null,
      "outputs": [
        {
          "output_type": "stream",
          "name": "stderr",
          "text": [
            "WARNING:root:This is a warning message.\n",
            "ERROR:root:This is an error message.\n",
            "CRITICAL:root:This is a critical message.\n"
          ]
        }
      ]
    },
    {
      "cell_type": "markdown",
      "source": [
        "#Q18 :  What is the difference between os.fork() and multiprocessing in Python?\n",
        "\n",
        "\n",
        "ans :  os.fork() and multiprocessing are two different approaches to creating multiple processes in Python. Here's a comparison of the two:\n",
        "\n",
        "###*os.fork()*\n",
        "\n",
        "- os.fork() is a system call that creates a new process by duplicating an existing one.\n",
        "- The new process (child) is a copy of the parent process, including its memory space.\n",
        "- The child process has its own PID (Process ID) and runs concurrently with the parent process.\n",
        "- os.fork() is a low-level, platform-dependent API that requires manual process management.\n",
        "\n",
        "###*Multiprocessing*\n",
        "\n",
        "- The multiprocessing module is a high-level, cross-platform API for creating multiple processes in Python.\n",
        "- It provides a way to spawn new processes and communicate with them using queues, pipes, or shared memory.\n",
        "- The multiprocessing module handles process creation, synchronization, and communication for you, making it easier to write concurrent code.\n",
        "- It also provides features like process pooling, which allows you to reuse existing processes instead of creating new ones.\n",
        "\n",
        "###*Key differences:*\n",
        "\n",
        "- Process creation: os.fork() creates a new process by duplicating an existing one, while multiprocessing creates a new process from scratch.\n",
        "- Memory sharing: os.fork() shares the same memory space between parent and child processes, while multiprocessing creates separate memory spaces for each process.\n",
        "- Platform dependence: os.fork() is platform-dependent, while multiprocessing is cross-platform.\n",
        "- Ease of use: multiprocessing is generally easier to use than os.fork(), as it provides a higher-level API and handles many details for you.\n"
      ],
      "metadata": {
        "id": "8W-zYlbnH8Hk"
      }
    },
    {
      "cell_type": "code",
      "source": [
        "#Example code:\n",
        "\n",
        "#os.fork() :\n",
        "\n",
        "\n",
        "import os\n",
        "\n",
        "def child_process():\n",
        "    print(\"Child process PID:\", os.getpid())\n",
        "    print(\"Parent process PID:\", os.getppid())\n",
        "\n",
        "def main():\n",
        "    pid = os.fork()\n",
        "    if pid == 0:\n",
        "        child_process()\n",
        "    else:\n",
        "        print(\"Parent process PID:\", os.getpid())\n",
        "        os.waitpid(pid, 0)\n",
        "\n",
        "if __name__ == \"__main__\":\n",
        "    main()\n",
        "\n",
        "\n",
        "#Multiprocessing :\n",
        "\n",
        "\n",
        "import multiprocessing\n",
        "\n",
        "def worker(num):\n",
        "    print(f\"Worker {num} PID:\", multiprocessing.current_process().pid)\n",
        "\n",
        "def main():\n",
        "    processes = []\n",
        "    for i in range(5):\n",
        "        p = multiprocessing.Process(target=worker, args=(i,))\n",
        "        processes.append(p)\n",
        "        p.start()\n",
        "\n",
        "    for p in processes:\n",
        "        p.join()\n",
        "if __name__ == \"__main__\":\n",
        "    main()"
      ],
      "metadata": {
        "id": "fyTErJW0OtCA",
        "colab": {
          "base_uri": "https://localhost:8080/"
        },
        "outputId": "77431880-f4cf-48c1-c47c-6aeeddb9ad0a"
      },
      "execution_count": null,
      "outputs": [
        {
          "output_type": "stream",
          "name": "stdout",
          "text": [
            "Child process PID: 15628\n",
            "Parent process PID: 559\n",
            "Worker 0 PID: 15645\n",
            "Worker 1 PID:Worker 2 PID:  1565015653\n",
            "\n",
            "Worker 3 PID:Worker 4 PID:  1567315668\n",
            "\n"
          ]
        }
      ]
    },
    {
      "cell_type": "markdown",
      "source": [
        "#Q19 : What is the importance of closing a file in Python?\n",
        "\n",
        "\n",
        "ans : Closing a file in Python is important for several reasons:\n",
        "\n",
        "###*Resource Release*\n",
        "\n",
        "When you open a file in Python, the operating system allocates resources such as file descriptors, memory, and disk space. If you don't close the file, these resources remain allocated, which can lead to:\n",
        "\n",
        "- Resource leaks: If you open many files without closing them, you can exhaust the available resources, causing your program to fail or become unresponsive.\n",
        "- File descriptor exhaustion: On Unix-like systems, each process has a limited number of file descriptors available. If you don't close files, you can reach this limit, preventing your program from opening new files.\n",
        "\n",
        "###*Data Integrity*\n",
        "\n",
        "When you write data to a file, the changes might not be immediately written to disk. Instead, they are buffered in memory. If you don't close the file, the buffered data might not be written to disk, leading to:\n",
        "\n",
        "- Data loss: If your program crashes or is terminated abruptly, the buffered data can be lost.\n",
        "- Inconsistent file state: If the file is not properly closed, the file's state might become inconsistent, leading to errors or unexpected behavior when the file is accessed later.\n",
        "\n",
        "###*Security*\n",
        "\n",
        "Failing to close files can also have security implications:\n",
        "\n",
        "- File descriptor leakage: If you don't close files, an attacker might be able to exploit the leaked file descriptors to access sensitive data or execute malicious code.\n",
        "- Resource exhaustion attacks: An attacker can intentionally open many files without closing them, exhausting the available resources and causing your program to become unresponsive or crash.\n",
        "\n"
      ],
      "metadata": {
        "id": "vH4qV0qUPE65"
      }
    },
    {
      "cell_type": "markdown",
      "source": [
        "#Q20 : What is the difference between file.read() and file.readline() in Python?\n",
        "\n",
        "\n",
        "ans :  In Python, file.read() and file.readline() are two methods used to read data from a file. The main difference between them is the way they read and return data:\n",
        "\n",
        "###*file.read()*\n",
        "\n",
        "- Reads the entire contents of the file into a string.\n",
        "- Returns a string containing all the characters in the file.\n",
        "- Can be slow and memory-intensive for large files, as it loads the entire file into memory.\n",
        "\n",
        "Example:\n",
        "\n",
        "with open(\"example.txt\", \"r\") as file:\n",
        "    content = file.read()\n",
        "    print(content)\n",
        "\n",
        "\n",
        "###*file.readline()*\n",
        "\n",
        "- Reads a single line from the file into a string.\n",
        "- Returns a string containing the characters in the line, including the newline character (\\n) at the end.\n",
        "- Can be more efficient than read() for large files, as it only loads one line into memory at a time.\n",
        "\n",
        "Example:\n",
        "\n",
        "with open(\"example.txt\", \"r\") as file:\n",
        "    line = file.readline()\n",
        "    print(line)\n",
        "\n",
        "\n",
        "###*Other differences:*\n",
        "\n",
        "- Buffering: read() reads the entire file into a buffer, while readline() reads one line at a time, buffering only that line.\n",
        "- Memory usage: read() can use a lot of memory for large files, while readline() uses a constant amount of memory.\n",
        "- Performance: read() can be faster than readline() for small files, but slower for large files.\n"
      ],
      "metadata": {
        "id": "3atEVEirQGtb"
      }
    },
    {
      "cell_type": "markdown",
      "source": [
        "#Q21 : What is the logging module in Python used for?\n",
        "\n",
        "\n",
        "ans :  The logging module in Python is a built-in module that allows you to record events happening during the execution of your program. It provides a flexible framework for logging events, errors, and other important information.\n",
        "\n",
        "The logging module is used for several purposes:\n",
        "\n",
        "1. Debugging: Logging helps you debug your code by providing information about what's happening during execution.\n",
        "2. Error tracking: Logging allows you to track and record errors that occur during execution, making it easier to diagnose and fix issues.\n",
        "3. Auditing: Logging can be used to track important events, such as user logins, transactions, or other significant actions.\n",
        "4. Performance monitoring: Logging can help you monitor the performance of your application, tracking metrics such as execution time, memory usage, or other relevant metrics.\n",
        "\n",
        "\n"
      ],
      "metadata": {
        "id": "u9lSQ1hmQzPR"
      }
    },
    {
      "cell_type": "code",
      "source": [
        "#Here's an example of how to use the logging module:\n",
        "\n",
        "import logging\n",
        "\n",
        "# Create a logger\n",
        "logger = logging.getLogger(__name__)\n",
        "\n",
        "# Set the logging level\n",
        "logger.setLevel(logging.DEBUG)\n",
        "\n",
        "# Create a file handler\n",
        "file_handler = logging.FileHandler('example.log')\n",
        "file_handler.setLevel(logging.DEBUG)\n",
        "\n",
        "# Create a console handler\n",
        "console_handler = logging.StreamHandler()\n",
        "console_handler.setLevel(logging.INFO)\n",
        "\n",
        "# Create a formatter\n",
        "formatter = logging.Formatter('%(asctime)s - %(name)s - %(levelname)s - %(message)s')\n",
        "\n",
        "# Add the formatter to the handlers\n",
        "file_handler.setFormatter(formatter)\n",
        "console_handler.setFormatter(formatter)\n",
        "\n",
        "# Add the handlers to the logger\n",
        "logger.addHandler(file_handler)\n",
        "logger.addHandler(console_handler)\n",
        "\n",
        "# Log some messages\n",
        "logger.debug('This is a debug message.')\n",
        "logger.info('This is an info message.')\n",
        "logger.warning('This is a warning message.')\n",
        "logger.error('This is an error message.')\n",
        "logger.critical('This is a critical message.')\n",
        "\n",
        "#This example demonstrates how to create a logger, set the logging level, create handlers for logging to a file and the console, and log messages at different levels.\n"
      ],
      "metadata": {
        "id": "PjMSuQdLSa4C"
      },
      "execution_count": null,
      "outputs": []
    },
    {
      "cell_type": "markdown",
      "source": [
        "#Q22 : What is the os module in Python used for in file handling?\n",
        "\n",
        "\n",
        "ans :  The os module in Python provides a way to interact with the operating system and file system. In the context of file handling, the os module is used for various tasks, including:\n",
        "\n",
        "1. Creating and deleting directories: The os module provides functions like os.mkdir(), os.makedirs(), and os.rmdir() to create and delete directories.\n",
        "2. Changing the current working directory: The os module provides the os.chdir() function to change the current working directory.\n",
        "3. Getting the current working directory: The os module provides the os.getcwd() function to get the current working directory.\n",
        "4. Listing directory contents: The os module provides the os.listdir() function to list the contents of a directory.\n",
        "5. Checking if a file or directory exists: The os module provides the os.path.exists() function to check if a file or directory exists.\n",
        "6. Checking if a path is a file or directory: The os module provides the os.path.isfile() and os.path.isdir() functions to check if a path is a file or directory.\n",
        "7. Renaming and removing files: The os module provides the os.rename() and os.remove() functions to rename and remove files.\n",
        "8. Getting file statistics: The os module provides the os.stat() function to get file statistics, such as file size, modification time, and permissions.\n"
      ],
      "metadata": {
        "id": "aOH2RLycSlA3"
      }
    },
    {
      "cell_type": "code",
      "source": [
        "#Here are some examples of using the os module for file handling:\n",
        "\n",
        "import os\n",
        "\n",
        "# Create a new directory\n",
        "os.mkdir(\"new_directory\")\n",
        "\n",
        "# Change the current working directory\n",
        "os.chdir(\"new_directory\")\n",
        "\n",
        "# Get the current working directory\n",
        "print(os.getcwd())\n",
        "\n",
        "# List the contents of the current directory\n",
        "print(os.listdir())\n",
        "\n",
        "# Check if a file exists\n",
        "if os.path.exists(\"example.txt\"):\n",
        "    print(\"File exists\")\n",
        "else:\n",
        "    print(\"File does not exist\")\n",
        "\n",
        "# Rename a file\n",
        "os.rename(\"example.txt\", \"new_name.txt\")\n",
        "\n",
        "# Remove a file\n",
        "os.remove(\"new_name.txt\")\n"
      ],
      "metadata": {
        "id": "73YCt4AYTlJu"
      },
      "execution_count": null,
      "outputs": []
    },
    {
      "cell_type": "markdown",
      "source": [
        "#Q23 : What are the challenges associated with memory management in Python?\n",
        "\n",
        "\n",
        "ans :  Memory management in Python can be challenging due to the following reasons:\n",
        "\n",
        "1. Memory Leaks: Python's garbage collector can't detect memory leaks caused by circular references or global variables. This can lead to memory consumption increasing over time.\n",
        "\n",
        "2. Reference Counting: Python uses reference counting to manage memory. However, this can lead to issues when dealing with circular references or objects that are not properly cleaned up.\n",
        "\n",
        "3. Garbage Collection Pauses: Python's garbage collector can introduce pauses in the program, especially when dealing with large heaps or complex object graphs.\n",
        "\n",
        "4. Memory Fragmentation: Python's memory allocator can lead to memory fragmentation, making it difficult to allocate large blocks of memory.\n",
        "\n",
        "5. Object Finalization: Python's object finalization mechanism can be tricky to use correctly, leading to issues with object cleanup and memory management.\n",
        "\n",
        "6. Third-Party Library Issues: Some third-party libraries may not properly manage memory, leading to issues with memory leaks or crashes.\n",
        "\n",
        "7. Multithreading and Multiprocessing: Memory management can be more complex in multithreaded or multiprocessed environments, where multiple threads or processes may be accessing shared memory.\n",
        "\n",
        "8. Native Memory Allocation: Python's memory management may not be aware of native memory allocations made by libraries or extensions, leading to issues with memory management.\n",
        "\n",
        "9. Debugging Memory Issues: Debugging memory-related issues in Python can be challenging due to the dynamic nature of the language and the complexity of the memory management system.\n",
        "\n",
        "10. Optimizing Memory Usage: Optimizing memory usage in Python can be challenging due to the overhead of the Python interpreter and the dynamic nature of the language.\n"
      ],
      "metadata": {
        "id": "P7KjTmjcTqNL"
      }
    },
    {
      "cell_type": "markdown",
      "source": [
        "#Q24 :  How do you raise an exception manually in Python?\n",
        "\n",
        "\n",
        "ans :  In Python, you can raise an exception manually using the raise keyword followed by the exception type and an optional error message.\n",
        "\n",
        "Here's the basic syntax:\n",
        "\n",
        "raise ExceptionType(\"Error message\")\n",
        "\n",
        "Here are some examples:\n",
        "\n",
        "1. Raising a generic exception:\n",
        "\n",
        "raise Exception(\"Something went wrong\")\n",
        "\n",
        "2. Raising a specific exception type:\n",
        "\n",
        "raise ValueError(\"Invalid input value\")\n",
        "\n",
        "3. Raising an exception with a custom error message:\n",
        "\n",
        "raise TypeError(\"Expected a string, but got an integer\")\n",
        "\n",
        "4. Raising an exception with a custom error message and additional information:\n",
        "\n",
        "raise RuntimeError(\"Failed to connect to database\", {\"error_code\": 123})\n",
        "\n",
        "\n",
        "we can also raise exceptions using the assert statement, which is useful for debugging purposes:\n",
        "\n",
        "assert condition, \"Error message\"\n",
        "\n",
        "This will raise an AssertionError if the condition is false.\n",
        "\n",
        "\n"
      ],
      "metadata": {
        "id": "zjHyAT1aT_Rl"
      }
    },
    {
      "cell_type": "markdown",
      "source": [
        "#Q25 : Why is it important to use multithreading in certain applications?\n",
        "\n",
        "\n",
        "ans :\n",
        "###*Multithreading is important in certain applications because it allows for:*\n",
        "\n",
        "1. Improved responsiveness: By performing time-consuming tasks in separate threads, the main thread can remain responsive to user input, improving the overall user experience.\n",
        "2. Increased throughput: Multithreading can take advantage of multiple CPU cores, allowing multiple tasks to be executed concurrently, increasing overall system throughput.\n",
        "3. Better resource utilization: Multithreading can help to reduce memory usage and improve resource utilization by allowing multiple tasks to share the same memory space.\n",
        "4. Faster execution: Multithreading can speed up the execution of tasks by executing them concurrently, reducing the overall execution time.\n",
        "5. Improved system scalability: Multithreading can help to improve system scalability by allowing the system to handle a larger number of concurrent tasks.\n",
        "\n",
        "###*Some examples of applications that benefit from multithreading include:*\n",
        "\n",
        "1. Web servers: Multithreading allows web servers to handle multiple requests concurrently, improving responsiveness and throughput.\n",
        "2. Database systems: Multithreading can improve the performance of database systems by allowing multiple queries to be executed concurrently.\n",
        "3. Scientific simulations: Multithreading can speed up the execution of scientific simulations by executing them concurrently on multiple CPU cores.\n",
        "4. Real-time systems: Multithreading is often used in real-time systems, such as audio or video processing, where predictable and fast response times are critical.\n",
        "5. GUI applications: Multithreading can improve the responsiveness of GUI applications by performing time-consuming tasks in separate threads.\n"
      ],
      "metadata": {
        "id": "BJQoUaELUsUq"
      }
    },
    {
      "cell_type": "code",
      "source": [
        "#Here's an example of using the threading module to create a multithreaded application:\n",
        "\n",
        "import threading\n",
        "import time\n",
        "\n",
        "def worker(num):\n",
        "    print(f\"Worker {num} started\")\n",
        "    time.sleep(2)\n",
        "    print(f\"Worker {num} finished\")\n",
        "\n",
        "threads = []\n",
        "for i in range(5):\n",
        "    thread = threading.Thread(target=worker, args=(i,))\n",
        "    threads.append(thread)\n",
        "    thread.start()\n",
        "\n",
        "for thread in threads:\n",
        "    thread.join()\n",
        "\n",
        "#This example creates 5 threads that execute the worker function concurrently. The worker function simulates a time-consuming task by sleeping for 2 seconds."
      ],
      "metadata": {
        "colab": {
          "base_uri": "https://localhost:8080/"
        },
        "id": "tQK-9_FCVusm",
        "outputId": "ad8e4a27-2a59-4378-b154-922412eafc14"
      },
      "execution_count": null,
      "outputs": [
        {
          "output_type": "stream",
          "name": "stdout",
          "text": [
            "Worker 0 started\n",
            "Worker 1 started\n",
            "Worker 2 startedWorker 3 started\n",
            "\n",
            "Worker 4 started\n",
            "Worker 0 finished\n",
            "Worker 1 finished\n",
            "Worker 2 finished\n",
            "Worker 4 finishedWorker 3 finished\n",
            "\n"
          ]
        }
      ]
    },
    {
      "cell_type": "markdown",
      "source": [
        "#\"Practical Questions : \""
      ],
      "metadata": {
        "id": "q9rIe3JCV970"
      }
    },
    {
      "cell_type": "markdown",
      "source": [
        "#Q1 : How can you open a file for writing in Python and write a string to it?\n",
        "\n",
        "\n",
        "ans : Here's a complete example:\n",
        "\n"
      ],
      "metadata": {
        "id": "pIHwW4n5WYO5"
      }
    },
    {
      "cell_type": "code",
      "source": [
        "def write_to_file(filename, content):\n",
        "    with open(filename, 'w') as file:\n",
        "        file.write(content)\n",
        "\n",
        "write_to_file('example.txt', 'Hello, World!')\n"
      ],
      "metadata": {
        "id": "o7Cqu1Q1XnE-"
      },
      "execution_count": 1,
      "outputs": []
    },
    {
      "cell_type": "markdown",
      "source": [
        "#Q2 : Write a Python program to read the contents of a file and print each line.\n",
        "\n",
        "ans : Here is a simple Python program that reads the contents of a file and prints each line:\n",
        "\n"
      ],
      "metadata": {
        "id": "i4uvkfARYNd2"
      }
    },
    {
      "cell_type": "code",
      "source": [
        "def read_file(filename):\n",
        "    try:\n",
        "        with open(filename, 'r') as file:\n",
        "            for line in file:\n",
        "                print(line.strip())\n",
        "    except FileNotFoundError:\n",
        "        print(f\"Sorry, the file {filename} does not exist.\")\n",
        "\n",
        "filename = input(\"Enter the filename: \")\n",
        "read_file(filename)\n"
      ],
      "metadata": {
        "colab": {
          "base_uri": "https://localhost:8080/"
        },
        "id": "oA602nuZYenU",
        "outputId": "00befe31-f077-416d-8d6f-4c48f4eb0e82"
      },
      "execution_count": null,
      "outputs": [
        {
          "output_type": "stream",
          "name": "stdout",
          "text": [
            "Enter the filename: example.txt\n",
            "Hello, World!\n"
          ]
        }
      ]
    },
    {
      "cell_type": "markdown",
      "source": [
        "#Q3 :  How would you handle a case where the file doesn't exist while trying to open it for reading.\n",
        "\n",
        "\n",
        "ans : Here are a few ways to handle the case where the file doesn't exist while trying to open it for reading:\n",
        "\n",
        "Method 1: Using a try-except block\n",
        "\n",
        "we can use a try-except block to catch the FileNotFoundError exception that is raised when we try to open a file that doesn't exist.\n",
        "\n"
      ],
      "metadata": {
        "id": "0wqki44gYplC"
      }
    },
    {
      "cell_type": "code",
      "source": [
        "def read_file(filename):\n",
        "    try:\n",
        "        with open(filename, 'r') as file:\n",
        "            content = file.read()\n",
        "            return content\n",
        "    except FileNotFoundError:\n",
        "        print(f\"Sorry, the file {filename} does not exist.\")\n",
        "        return None\n",
        "\n",
        "filename = input(\"Enter the filename: \")\n",
        "content = read_file(filename)\n",
        "if content:\n",
        "    print(content)\n"
      ],
      "metadata": {
        "colab": {
          "base_uri": "https://localhost:8080/"
        },
        "id": "5nCe5U-OZJd6",
        "outputId": "65ac8ecf-504c-4cce-cda7-88a7835f24ef"
      },
      "execution_count": null,
      "outputs": [
        {
          "output_type": "stream",
          "name": "stdout",
          "text": [
            "Enter the filename: example.txt\n",
            "Hello, World!\n"
          ]
        }
      ]
    },
    {
      "cell_type": "markdown",
      "source": [
        "Method 2: Checking if the file exists before trying to open it\n",
        "\n",
        "we can use the os.path.exists() function to check if the file exists before trying to open it.\n",
        "\n"
      ],
      "metadata": {
        "id": "KdWeTIzSZT7b"
      }
    },
    {
      "cell_type": "code",
      "source": [
        "import os\n",
        "\n",
        "def read_file(filename):\n",
        "    if os.path.exists(filename):\n",
        "        with open(filename, 'r') as file:\n",
        "            content = file.read()\n",
        "            return content\n",
        "    else:\n",
        "        print(f\"Sorry, the file {filename} does not exist.\")\n",
        "        return None\n",
        "\n",
        "filename = input(\"Enter the filename: \")\n",
        "content = read_file(filename)\n",
        "if content:\n",
        "    print(content)\n"
      ],
      "metadata": {
        "colab": {
          "base_uri": "https://localhost:8080/"
        },
        "id": "ffvpU_7FZs7r",
        "outputId": "9ba6f336-421c-4f6b-c372-b194963e0999"
      },
      "execution_count": null,
      "outputs": [
        {
          "output_type": "stream",
          "name": "stdout",
          "text": [
            "Enter the filename: example.txt\n",
            "Hello, World!\n"
          ]
        }
      ]
    },
    {
      "cell_type": "markdown",
      "source": [
        "Method 3: Using the pathlib module\n",
        "\n",
        "we can use the pathlib module to check if the file exists before trying to open it."
      ],
      "metadata": {
        "id": "hduB2JxPZ3QA"
      }
    },
    {
      "cell_type": "code",
      "source": [
        "import pathlib\n",
        "\n",
        "def read_file(filename):\n",
        "    file_path = pathlib.Path(filename)\n",
        "    if file_path.exists():\n",
        "        with open(filename, 'r') as file:\n",
        "            content = file.read()\n",
        "            return content\n",
        "    else:\n",
        "        print(f\"Sorry, the file {filename} does not exist.\")\n",
        "        return None\n",
        "\n",
        "filename = input(\"Enter the filename: \")\n",
        "content = read_file(filename)\n",
        "if content:\n",
        "    print(content)\n"
      ],
      "metadata": {
        "id": "Tx7bcwEqZ2r_"
      },
      "execution_count": null,
      "outputs": []
    },
    {
      "cell_type": "markdown",
      "source": [
        "#Q4 : Write a Python script that reads from one file and writes its content to another file.\n",
        "\n",
        "ans :  Here's a simple Python script that reads from one file and writes its content to another file:\n",
        "\n"
      ],
      "metadata": {
        "id": "8JrOsxr-alM-"
      }
    },
    {
      "cell_type": "code",
      "source": [
        "def copy_file(source_filename, destination_filename):\n",
        "    try:\n",
        "        # Open the source file in read mode\n",
        "        with open(source_filename, 'r') as source_file:\n",
        "            # Read the content of the source file\n",
        "            content = source_file.read()\n",
        "\n",
        "        # Open the destination file in write mode\n",
        "        with open(destination_filename, 'w') as destination_file:\n",
        "            # Write the content to the destination file\n",
        "            destination_file.write(content)\n",
        "\n",
        "        print(f\"File copied successfully from {source_filename} to {destination_filename}\")\n",
        "\n",
        "    except FileNotFoundError:\n",
        "        print(f\"Sorry, the file {source_filename} does not exist.\")\n",
        "    except Exception as e:\n",
        "        print(f\"An error occurred: {e}\")\n",
        "\n",
        "# Specify the source and destination filenames\n",
        "source_filename = input(\"Enter the source filename: \")\n",
        "destination_filename = input(\"Enter the destination filename: \")\n",
        "\n",
        "# Call the function to copy the file\n",
        "copy_file(source_filename, destination_filename)\n",
        "\n",
        "\n"
      ],
      "metadata": {
        "colab": {
          "base_uri": "https://localhost:8080/"
        },
        "id": "Xkpyh0VFa9yQ",
        "outputId": "31427166-f8f7-4937-cf65-7474357e73f8"
      },
      "execution_count": null,
      "outputs": [
        {
          "output_type": "stream",
          "name": "stdout",
          "text": [
            "Enter the source filename: example.log\n",
            "Enter the destination filename: example.txt\n",
            "File copied successfully from example.log to example.txt\n"
          ]
        }
      ]
    },
    {
      "cell_type": "markdown",
      "source": [
        "#Q5 : How would you catch and handle division by zero error in Python?\n",
        "\n",
        "ans : In Python, we can catch and handle division by zero errors using a try-except block. Here's an example:\n"
      ],
      "metadata": {
        "id": "ZQ0wyALcbjb1"
      }
    },
    {
      "cell_type": "code",
      "source": [
        "def divide(x, y):\n",
        "    try:\n",
        "        result = x / y\n",
        "        return result\n",
        "    except ZeroDivisionError:\n",
        "        print(\"Error: Division by zero is not allowed.\")\n",
        "        return None\n",
        "\n",
        "# Test the function\n",
        "print(divide(10, 2))\n",
        "print(divide(10, 0))"
      ],
      "metadata": {
        "colab": {
          "base_uri": "https://localhost:8080/"
        },
        "id": "mYFZA0ywcAgv",
        "outputId": "b43fd3c0-3606-4e56-af8c-d6ca080237d5"
      },
      "execution_count": null,
      "outputs": [
        {
          "output_type": "stream",
          "name": "stdout",
          "text": [
            "5.0\n",
            "Error: Division by zero is not allowed.\n",
            "None\n"
          ]
        }
      ]
    },
    {
      "cell_type": "code",
      "source": [
        "#we can also use the try-except-else block to handle division by zero errors:\n",
        "\n",
        "\n",
        "def divide(x, y):\n",
        "    try:\n",
        "        result = x / y\n",
        "    except ZeroDivisionError:\n",
        "        print(\"Error: Division by zero is not allowed.\")\n",
        "        result = None\n",
        "    else:\n",
        "        print(\"Division successful.\")\n",
        "    return result\n",
        "\n",
        "# Test the function\n",
        "print(divide(10, 2))\n",
        "print(divide(10, 0))"
      ],
      "metadata": {
        "colab": {
          "base_uri": "https://localhost:8080/"
        },
        "id": "_8E_yJbtcazl",
        "outputId": "d2841e4d-cd64-420e-82b1-2b95b610c5f7"
      },
      "execution_count": null,
      "outputs": [
        {
          "output_type": "stream",
          "name": "stdout",
          "text": [
            "Division successful.\n",
            "5.0\n",
            "Error: Division by zero is not allowed.\n",
            "None\n"
          ]
        }
      ]
    },
    {
      "cell_type": "markdown",
      "source": [
        "#Q6 :  Write a Python program that logs an error message to a log file when a division by zero exception occurs.\n",
        "\n",
        "\n",
        "\n",
        "ans : Here's a Python program that logs an error message to a log file when a division by zero exception occurs:\n",
        "\n"
      ],
      "metadata": {
        "id": "1PgkGGdo_iMr"
      }
    },
    {
      "cell_type": "code",
      "source": [
        "import logging\n",
        "\n",
        "# Create a logger\n",
        "logger = logging.getLogger(__name__)\n",
        "\n",
        "# Set the logging level to ERROR\n",
        "logger.setLevel(logging.ERROR)\n",
        "\n",
        "# Create a file handler to log errors to a file\n",
        "file_handler = logging.FileHandler('error.log')\n",
        "\n",
        "# Create a formatter to specify the format of the log messages\n",
        "formatter = logging.Formatter('%(asctime)s - %(name)s - %(levelname)s - %(message)s')\n",
        "\n",
        "# Add the formatter to the file handler\n",
        "file_handler.setFormatter(formatter)\n",
        "\n",
        "# Add the file handler to the logger\n",
        "logger.addHandler(file_handler)\n",
        "\n",
        "def divide(x, y):\n",
        "    try:\n",
        "        result = x / y\n",
        "        return result\n",
        "    except ZeroDivisionError:\n",
        "        logger.error(\"Division by zero error occurred.\")\n",
        "        return None\n",
        "\n",
        "# Test the function\n",
        "print(divide(10, 2))\n",
        "print(divide(10, 0))"
      ],
      "metadata": {
        "colab": {
          "base_uri": "https://localhost:8080/"
        },
        "id": "dwux5kFg_1nq",
        "outputId": "b92745a8-181b-4bc0-f970-5cd5c54dd6bf"
      },
      "execution_count": null,
      "outputs": [
        {
          "output_type": "stream",
          "name": "stderr",
          "text": [
            "ERROR:__main__:Division by zero error occurred.\n"
          ]
        },
        {
          "output_type": "stream",
          "name": "stdout",
          "text": [
            "5.0\n",
            "None\n"
          ]
        }
      ]
    },
    {
      "cell_type": "markdown",
      "source": [
        "#Q7 :  How do you log information at different levels (INFO, ERROR, WARNING) in Python using the logging module?\n",
        "\n",
        "\n",
        "ans :  To log information at different levels (INFO, ERROR, WARNING) in Python using the logging module, we can use the following logging methods:\n",
        "\n",
        "- logger.debug(message): Logs a message at the DEBUG level.\n",
        "- logger.info(message): Logs a message at the INFO level.\n",
        "- logger.warning(message): Logs a message at the WARNING level.\n",
        "- logger.error(message): Logs a message at the ERROR level.\n",
        "- logger.critical(message): Logs a message at the CRITICAL level.\n",
        "\n",
        "Here's an example of how to use these logging methods:\n"
      ],
      "metadata": {
        "id": "wDDiIbfN_--n"
      }
    },
    {
      "cell_type": "code",
      "source": [
        "import logging\n",
        "\n",
        "# Create a logger\n",
        "logger = logging.getLogger(__name__)\n",
        "\n",
        "# Set the logging level to DEBUG\n",
        "logger.setLevel(logging.DEBUG)\n",
        "\n",
        "# Create a file handler to log messages to a file\n",
        "file_handler = logging.FileHandler('log_file.log')\n",
        "\n",
        "# Create a console handler to log messages to the console\n",
        "console_handler = logging.StreamHandler()\n",
        "\n",
        "# Create a formatter to specify the format of the log messages\n",
        "formatter = logging.Formatter('%(asctime)s - %(name)s - %(levelname)s - %(message)s')\n",
        "\n",
        "# Add the formatter to the file handler and console handler\n",
        "file_handler.setFormatter(formatter)\n",
        "console_handler.setFormatter(formatter)\n",
        "\n",
        "# Add the file handler and console handler to the logger\n",
        "logger.addHandler(file_handler)\n",
        "logger.addHandler(console_handler)\n",
        "\n",
        "# Log messages at different levels\n",
        "logger.debug('This is a debug message.')\n",
        "logger.info('This is an info message.')\n",
        "logger.warning('This is a warning message.')\n",
        "logger.error('This is an error message.')\n",
        "logger.critical('This is a critical message.')\n"
      ],
      "metadata": {
        "colab": {
          "base_uri": "https://localhost:8080/"
        },
        "id": "zmJ1-lEvAhqe",
        "outputId": "9e889ebb-62ce-4bb9-a49c-8975164276b0"
      },
      "execution_count": null,
      "outputs": [
        {
          "output_type": "stream",
          "name": "stderr",
          "text": [
            "2024-12-09 10:41:48,548 - __main__ - DEBUG - This is a debug message.\n",
            "DEBUG:__main__:This is a debug message.\n",
            "2024-12-09 10:41:48,555 - __main__ - INFO - This is an info message.\n",
            "INFO:__main__:This is an info message.\n",
            "2024-12-09 10:41:48,562 - __main__ - WARNING - This is a warning message.\n",
            "WARNING:__main__:This is a warning message.\n",
            "2024-12-09 10:41:48,565 - __main__ - ERROR - This is an error message.\n",
            "ERROR:__main__:This is an error message.\n",
            "2024-12-09 10:41:48,567 - __main__ - CRITICAL - This is a critical message.\n",
            "CRITICAL:__main__:This is a critical message.\n"
          ]
        }
      ]
    },
    {
      "cell_type": "markdown",
      "source": [
        "#Q8 : Write a program to handle a file opening error using exception handling.\n",
        "\n",
        "\n",
        "ans : Here is a simple Python program that demonstrates how to handle a file opening error using exception handling:\n",
        "\n"
      ],
      "metadata": {
        "id": "XHd4XKcJAu_d"
      }
    },
    {
      "cell_type": "code",
      "source": [
        "def read_file(filename):\n",
        "    try:\n",
        "        with open(filename, 'r') as file:\n",
        "            content = file.read()\n",
        "            return content\n",
        "    except FileNotFoundError:\n",
        "        print(f\"Sorry, the file {filename} does not exist.\")\n",
        "        return None\n",
        "    except PermissionError:\n",
        "        print(f\"Sorry, you do not have permission to read the file {filename}.\")\n",
        "        return None\n",
        "    except Exception as e:\n",
        "        print(f\"An unexpected error occurred: {e}\")\n",
        "        return None\n",
        "\n",
        "filename = input(\"Enter the filename: \")\n",
        "content = read_file(filename)\n",
        "if content:\n",
        "    print(content)\n"
      ],
      "metadata": {
        "colab": {
          "base_uri": "https://localhost:8080/"
        },
        "id": "eSE4Rab4BBY8",
        "outputId": "6b1d8c59-7113-42ea-ac28-c921f396a749"
      },
      "execution_count": null,
      "outputs": [
        {
          "output_type": "stream",
          "name": "stdout",
          "text": [
            "Enter the filename: example.txt\n",
            "Sorry, the file example.txt does not exist.\n"
          ]
        }
      ]
    },
    {
      "cell_type": "markdown",
      "source": [
        "#Q9 :  How can you read a file line by line and store its content in a list in Python?\n",
        "\n",
        "\n",
        "ans :  Here are a few ways to read a file line by line and store its content in a list in Python:\n"
      ],
      "metadata": {
        "id": "rAzSZtHlBY2N"
      }
    },
    {
      "cell_type": "code",
      "source": [
        "#Here are a few ways to read a file line by line and store its content in a list in Python:\n",
        "\n",
        "#Method 1: Using a list comprehension\n",
        "\n",
        "\n",
        "def read_file_lines(filename):\n",
        "    try:\n",
        "        with open(filename, 'r') as file:\n",
        "            lines = [line.strip() for line in file]\n",
        "            return lines\n",
        "    except FileNotFoundError:\n",
        "        print(f\"Sorry, the file {filename} does not exist.\")\n",
        "        return None\n",
        "\n",
        "filename = input(\"Enter the filename: \")\n",
        "lines = read_file_lines(filename)\n",
        "if lines:\n",
        "    print(lines)\n",
        "\n",
        "\n",
        "#Method 2: Using a for loop\n",
        "\n",
        "\n",
        "def read_file_lines(filename):\n",
        "    try:\n",
        "        with open(filename, 'r') as file:\n",
        "            lines = []\n",
        "            for line in file:\n",
        "                lines.append(line.strip())\n",
        "            return lines\n",
        "    except FileNotFoundError:\n",
        "        print(f\"Sorry, the file {filename} does not exist.\")\n",
        "        return None\n",
        "\n",
        "filename = input(\"Enter the filename: \")\n",
        "lines = read_file_lines(filename)\n",
        "if lines:\n",
        "    print(lines)\n",
        "\n",
        "\n",
        "#Method 3: Using the readlines() method\n",
        "\n",
        "\n",
        "def read_file_lines(filename):\n",
        "    try:\n",
        "        with open(filename, 'r') as file:\n",
        "            lines = [line.strip() for line in file.readlines()]\n",
        "            return lines\n",
        "    except FileNotFoundError:\n",
        "        print(f\"Sorry, the file {filename} does not exist.\")\n",
        "        return None\n",
        "\n",
        "filename = input(\"Enter the filename: \")\n",
        "lines = read_file_lines(filename)\n",
        "if lines:\n",
        "    print(lines)\n",
        "\n",
        "\n",
        "#Method 4: Using the numpy library\n",
        "\n",
        "\n",
        "import numpy as np\n",
        "\n",
        "def read_file_lines(filename):\n",
        "    try:\n",
        "        lines = np.loadtxt(filename, dtype=str)\n",
        "        return lines.tolist()\n",
        "    except FileNotFoundError:\n",
        "        print(f\"Sorry, the file {filename} does not exist.\")\n",
        "        return None\n",
        "\n",
        "filename = input(\"Enter the filename: \")\n",
        "lines = read_file_lines(filename)\n",
        "if lines:\n",
        "    print(lines)\n",
        "\n",
        "\n",
        "#In all of these methods, the file is opened in read mode ('r') and the lines are read one by one. The strip() method is used to remove any leading or trailing whitespace from each line. The lines are then stored in a list, which is returned by the function."
      ],
      "metadata": {
        "id": "VEjMC4ytBrXn"
      },
      "execution_count": null,
      "outputs": []
    },
    {
      "cell_type": "markdown",
      "source": [
        "#Q10 :  How can you append data to an existing file in Python?\n",
        "\n",
        "\n",
        "ans : we can append data to an existing file in Python by opening the file in append mode ('a') instead of write mode ('w'). Here are a few ways to do it:\n"
      ],
      "metadata": {
        "id": "07MvVnbXCj0p"
      }
    },
    {
      "cell_type": "code",
      "source": [
        "#Method 1: Using the open() function\n",
        "\n",
        "\n",
        "def append_to_file(filename, data):\n",
        "    try:\n",
        "        with open(filename, 'a') as file:\n",
        "            file.write(data + '\\n')\n",
        "    except Exception as e:\n",
        "        print(f\"An error occurred: {e}\")\n",
        "\n",
        "filename = input(\"Enter the filename: \")\n",
        "data = input(\"Enter the data to append: \")\n",
        "append_to_file(filename, data)\n",
        "\n",
        "\n",
        "#Method 2: Using the print() function with the file argument\n",
        "\n",
        "\n",
        "def append_to_file(filename, data):\n",
        "    try:\n",
        "        with open(filename, 'a') as file:\n",
        "            print(data, file=file)\n",
        "    except Exception as e:\n",
        "        print(f\"An error occurred: {e}\")\n",
        "\n",
        "filename = input(\"Enter the filename: \")\n",
        "data = input(\"Enter the data to append: \")\n",
        "append_to_file(filename, data)\n",
        "\n"
      ],
      "metadata": {
        "colab": {
          "base_uri": "https://localhost:8080/"
        },
        "id": "dz2hcrisC0uf",
        "outputId": "f253d172-143c-488a-c8c4-2df4e05d1404"
      },
      "execution_count": null,
      "outputs": [
        {
          "name": "stdout",
          "output_type": "stream",
          "text": [
            "Enter the filename: error.log\n",
            "Enter the data to append: hello world\n",
            "Enter the filename: example.txt\n",
            "Enter the data to append: python assignment.\n"
          ]
        }
      ]
    },
    {
      "cell_type": "markdown",
      "source": [
        "#Q11 : Write a Python program that uses a try-except block to handle an error when attempting to access a dictionary key that doesn't exist.\n",
        "\n",
        "\n",
        "ans : Here is a simple Python program that uses a try-except block to handle an error when attempting to access a dictionary key that doesn't exist:\n",
        "\n",
        "\n"
      ],
      "metadata": {
        "id": "1unLA91TDj69"
      }
    },
    {
      "cell_type": "code",
      "source": [
        "def access_dict_key(dictionary, key):\n",
        "    try:\n",
        "        value = dictionary[key]\n",
        "        print(f\"The value of '{key}' is: {value}\")\n",
        "    except KeyError:\n",
        "        print(f\"Error: The key '{key}' does not exist in the dictionary.\")\n",
        "\n",
        "# Create a dictionary\n",
        "person = {\n",
        "    \"name\": \"John Doe\",\n",
        "    \"age\": 30,\n",
        "    \"city\": \"New York\"\n",
        "}\n",
        "\n",
        "# Access existing key\n",
        "access_dict_key(person, \"name\")\n",
        "\n",
        "# Access non-existent key\n",
        "access_dict_key(person, \"country\")\n"
      ],
      "metadata": {
        "colab": {
          "base_uri": "https://localhost:8080/"
        },
        "id": "pNSXV3k5Egz_",
        "outputId": "c2c73d8a-0538-4e91-e6dd-c1bac9eafdc9"
      },
      "execution_count": null,
      "outputs": [
        {
          "output_type": "stream",
          "name": "stdout",
          "text": [
            "The value of 'name' is: John Doe\n",
            "Error: The key 'country' does not exist in the dictionary.\n"
          ]
        }
      ]
    },
    {
      "cell_type": "markdown",
      "source": [
        "#Q12 : Write a program that demonstrates using multiple except blocks to handle different types of exceptions.\n",
        "\n",
        "ans : Here is a Python program that demonstrates using multiple except blocks to handle different types of exceptions:\n",
        "\n"
      ],
      "metadata": {
        "id": "WUOSZhQdEmoB"
      }
    },
    {
      "cell_type": "code",
      "source": [
        "def divide_numbers(num1, num2):\n",
        "    try:\n",
        "        result = num1 / num2\n",
        "        print(f\"The result is: {result}\")\n",
        "    except ZeroDivisionError:\n",
        "        print(\"Error: Division by zero is not allowed.\")\n",
        "    except TypeError:\n",
        "        print(\"Error: Both inputs must be numbers.\")\n",
        "    except Exception as e:\n",
        "        print(f\"An unexpected error occurred: {e}\")\n",
        "\n",
        "# Test the function with valid input\n",
        "divide_numbers(10, 2)\n",
        "\n",
        "# Test the function with division by zero\n",
        "divide_numbers(10, 0)\n",
        "\n",
        "# Test the function with non-numeric input\n",
        "divide_numbers(\"ten\", 2)\n"
      ],
      "metadata": {
        "colab": {
          "base_uri": "https://localhost:8080/"
        },
        "id": "JzfGJQKcFwfu",
        "outputId": "383c434e-6782-4320-d75c-c117f0b2e19f"
      },
      "execution_count": null,
      "outputs": [
        {
          "output_type": "stream",
          "name": "stdout",
          "text": [
            "The result is: 5.0\n",
            "Error: Division by zero is not allowed.\n",
            "Error: Both inputs must be numbers.\n"
          ]
        }
      ]
    },
    {
      "cell_type": "markdown",
      "source": [
        "#Q13 :  How would you check if a file exists before attempting to read it in Python?\n",
        "\n",
        "\n",
        "ans : Here are a few ways to check if a file exists before attempting to read it in Python:\n"
      ],
      "metadata": {
        "id": "ESiLNJczF5FU"
      }
    },
    {
      "cell_type": "code",
      "source": [
        "#Method 1: Using the os.path.exists() function:\n",
        "\n",
        "\n",
        "import os\n",
        "\n",
        "def check_file_exists(filename):\n",
        "    if os.path.exists(filename):\n",
        "        print(f\"The file '{filename}' exists.\")\n",
        "        return True\n",
        "    else:\n",
        "        print(f\"The file '{filename}' does not exist.\")\n",
        "        return False\n",
        "\n",
        "filename = input(\"Enter the filename: \")\n",
        "if check_file_exists(filename):\n",
        "    with open(filename, 'r') as file:\n",
        "        content = file.read()\n",
        "        print(content)\n",
        "\n",
        "\n",
        "#Method 2: Using the pathlib module:\n",
        "\n",
        "\n",
        "import pathlib\n",
        "\n",
        "def check_file_exists(filename):\n",
        "    file_path = pathlib.Path(filename)\n",
        "    if file_path.exists():\n",
        "        print(f\"The file '{filename}' exists.\")\n",
        "        return True\n",
        "    else:\n",
        "        print(f\"The file '{filename}' does not exist.\")\n",
        "        return False\n",
        "\n",
        "filename = input(\"Enter the filename: \")\n",
        "if check_file_exists(filename):\n",
        "    with open(filename, 'r') as file:\n",
        "        content = file.read()\n",
        "        print(content)\n",
        "\n",
        "\n",
        "#Method 3: Using a try-except block:\n",
        "\n",
        "\n",
        "def check_file_exists(filename):\n",
        "    try:\n",
        "        with open(filename, 'r') as file:\n",
        "            content = file.read()\n",
        "            print(content)\n",
        "    except FileNotFoundError:\n",
        "        print(f\"The file '{filename}' does not exist.\")\n",
        "\n",
        "filename = input(\"Enter the filename: \")\n",
        "check_file_exists(filename)\n",
        "\n",
        "\n",
        "#In all of these methods, the program checks if the file exists before attempting to read it. If the file does not exist, the program prints an error message."
      ],
      "metadata": {
        "colab": {
          "base_uri": "https://localhost:8080/"
        },
        "id": "fqZun9gdGJ0y",
        "outputId": "8dda9922-420f-4215-d81d-8ec0dd1eb978"
      },
      "execution_count": null,
      "outputs": [
        {
          "output_type": "stream",
          "name": "stdout",
          "text": [
            "Enter the filename: error.log\n",
            "The file 'error.log' exists.\n",
            "2024-12-09 10:38:34,434 - __main__ - ERROR - Division by zero error occurred.\n",
            "2024-12-09 10:41:48,548 - __main__ - DEBUG - This is a debug message.\n",
            "2024-12-09 10:41:48,555 - __main__ - INFO - This is an info message.\n",
            "2024-12-09 10:41:48,562 - __main__ - WARNING - This is a warning message.\n",
            "2024-12-09 10:41:48,565 - __main__ - ERROR - This is an error message.\n",
            "2024-12-09 10:41:48,567 - __main__ - CRITICAL - This is a critical message.\n",
            "hello world\n",
            "\n",
            "Enter the filename: example.txt\n",
            "The file 'example.txt' exists.\n",
            "python assignment.\n",
            "\n",
            "Enter the filename: log_file.log\n",
            "2024-12-09 10:41:48,548 - __main__ - DEBUG - This is a debug message.\n",
            "2024-12-09 10:41:48,555 - __main__ - INFO - This is an info message.\n",
            "2024-12-09 10:41:48,562 - __main__ - WARNING - This is a warning message.\n",
            "2024-12-09 10:41:48,565 - __main__ - ERROR - This is an error message.\n",
            "2024-12-09 10:41:48,567 - __main__ - CRITICAL - This is a critical message.\n",
            "\n"
          ]
        }
      ]
    },
    {
      "cell_type": "markdown",
      "source": [
        "#Q14 :  Write a program that uses the logging module to log both informational and error messages.\n",
        "\n",
        "\n",
        "ans :  Here's a simple Python program that uses the logging module to log both informational and error messages:\n"
      ],
      "metadata": {
        "id": "1SUXP8gEGouz"
      }
    },
    {
      "cell_type": "code",
      "source": [
        "import logging\n",
        "\n",
        "# Create a logger\n",
        "logger = logging.getLogger(__name__)\n",
        "\n",
        "# Set the logging level to DEBUG\n",
        "logger.setLevel(logging.DEBUG)\n",
        "\n",
        "# Create a file handler to log messages to a file\n",
        "file_handler = logging.FileHandler('log_file.log')\n",
        "\n",
        "# Create a console handler to log messages to the console\n",
        "console_handler = logging.StreamHandler()\n",
        "\n",
        "# Create a formatter to specify the format of the log messages\n",
        "formatter = logging.Formatter('%(asctime)s - %(name)s - %(levelname)s - %(message)s')\n",
        "\n",
        "# Add the formatter to the file handler and console handler\n",
        "file_handler.setFormatter(formatter)\n",
        "console_handler.setFormatter(formatter)\n",
        "\n",
        "# Add the file handler and console handler to the logger\n",
        "logger.addHandler(file_handler)\n",
        "logger.addHandler(console_handler)\n",
        "\n",
        "def divide_numbers(num1, num2):\n",
        "    try:\n",
        "        result = num1 / num2\n",
        "        logger.info(f\"The result of the division is: {result}\")\n",
        "    except ZeroDivisionError:\n",
        "        logger.error(\"Error: Division by zero is not allowed.\")\n",
        "\n",
        "# Test the function with valid input\n",
        "logger.info(\"Testing the function with valid input.\")\n",
        "divide_numbers(10, 2)\n",
        "\n",
        "# Test the function with division by zero\n",
        "logger.info(\"Testing the function with division by zero.\")\n",
        "divide_numbers(10, 0)"
      ],
      "metadata": {
        "colab": {
          "base_uri": "https://localhost:8080/"
        },
        "id": "GbPFGdYLHAiF",
        "outputId": "0baaf6ab-8551-4d63-8172-61e42469dcc7"
      },
      "execution_count": null,
      "outputs": [
        {
          "output_type": "stream",
          "name": "stderr",
          "text": [
            "2024-12-09 11:10:16,069 - __main__ - INFO - Testing the function with valid input.\n",
            "2024-12-09 11:10:16,069 - __main__ - INFO - Testing the function with valid input.\n",
            "INFO:__main__:Testing the function with valid input.\n",
            "2024-12-09 11:10:16,077 - __main__ - INFO - The result of the division is: 5.0\n",
            "2024-12-09 11:10:16,077 - __main__ - INFO - The result of the division is: 5.0\n",
            "INFO:__main__:The result of the division is: 5.0\n",
            "2024-12-09 11:10:16,082 - __main__ - INFO - Testing the function with division by zero.\n",
            "2024-12-09 11:10:16,082 - __main__ - INFO - Testing the function with division by zero.\n",
            "INFO:__main__:Testing the function with division by zero.\n",
            "2024-12-09 11:10:16,087 - __main__ - ERROR - Error: Division by zero is not allowed.\n",
            "2024-12-09 11:10:16,087 - __main__ - ERROR - Error: Division by zero is not allowed.\n",
            "ERROR:__main__:Error: Division by zero is not allowed.\n"
          ]
        }
      ]
    },
    {
      "cell_type": "markdown",
      "source": [
        "#Q15 : Write a Python program that prints the content of a file and handles the case when the file is empty.\n",
        "\n",
        "\n",
        "ans :  Here's a simple Python program that prints the content of a file and handles the case when the file is empty:\n",
        "\n"
      ],
      "metadata": {
        "id": "Rs6MfksrHQQT"
      }
    },
    {
      "cell_type": "code",
      "source": [
        "def print_file_content(filename):\n",
        "    try:\n",
        "        with open(filename, 'r') as file:\n",
        "            content = file.read()\n",
        "            if content:\n",
        "                print(f\"The content of the file '{filename}' is:\")\n",
        "                print(content)\n",
        "            else:\n",
        "                print(f\"The file '{filename}' is empty.\")\n",
        "    except FileNotFoundError:\n",
        "        print(f\"Sorry, the file '{filename}' does not exist.\")\n",
        "\n",
        "filename = input(\"Enter the filename: \")\n",
        "print_file_content(filename)\n"
      ],
      "metadata": {
        "colab": {
          "base_uri": "https://localhost:8080/"
        },
        "id": "hZegmr9IHiMw",
        "outputId": "dc2e2aff-da8b-4766-effa-2631485c222c"
      },
      "execution_count": null,
      "outputs": [
        {
          "output_type": "stream",
          "name": "stdout",
          "text": [
            "Enter the filename: example.txt\n",
            "The content of the file 'example.txt' is:\n",
            "python assignment.\n",
            "\n"
          ]
        }
      ]
    },
    {
      "cell_type": "markdown",
      "source": [
        "#Q16 : Demonstrate how to use memory profiling to check the memory usage of a small program.\n",
        "\n",
        "\n",
        "ans : Here's an example of how to use memory profiling to check the memory usage of a small Python program:\n"
      ],
      "metadata": {
        "id": "onVZsAMjIJLg"
      }
    },
    {
      "cell_type": "code",
      "source": [
        "import psutil\n",
        "import os\n",
        "import tracemalloc\n",
        "\n",
        "def memory_intensive_function():\n",
        "    # Create a large list to consume memory\n",
        "    large_list = [i for i in range(1000000)]\n",
        "    return large_list\n",
        "\n",
        "def main():\n",
        "    # Start tracing memory allocations\n",
        "    tracemalloc.start()\n",
        "\n",
        "    # Get the current process\n",
        "    process = psutil.Process(os.getpid())\n",
        "\n",
        "    # Get the initial memory usage\n",
        "    initial_memory_usage = process.memory_info().rss / (1024 * 1024)  # Convert bytes to MB\n",
        "    print(f\"Initial memory usage: {initial_memory_usage} MB\")\n",
        "\n",
        "    # Call the memory-intensive function\n",
        "    large_list = memory_intensive_function()\n",
        "\n",
        "    # Get the memory usage after calling the function\n",
        "    final_memory_usage = process.memory_info().rss / (1024 * 1024)  # Convert bytes to MB\n",
        "    print(f\"Final memory usage: {final_memory_usage} MB\")\n",
        "\n",
        "    # Get the memory usage difference\n",
        "    memory_usage_difference = final_memory_usage - initial_memory_usage\n",
        "    print(f\"Memory usage difference: {memory_usage_difference} MB\")\n",
        "\n",
        "    # Get the current memory snapshot\n",
        "    snapshot = tracemalloc.take_snapshot()\n",
        "\n",
        "    # Print the top 10 memory-consuming lines of code\n",
        "    for stat in snapshot.statistics('lineno')[:10]:\n",
        "        print(stat)\n",
        "\n",
        "    # Stop tracing memory allocations\n",
        "    tracemalloc.stop()\n",
        "\n",
        "if __name__ == \"__main__\":\n",
        "    main()"
      ],
      "metadata": {
        "colab": {
          "base_uri": "https://localhost:8080/"
        },
        "id": "BdNej2i8IPnG",
        "outputId": "f3c574a8-7e98-4fb5-c59b-900ba9989721"
      },
      "execution_count": null,
      "outputs": [
        {
          "output_type": "stream",
          "name": "stdout",
          "text": [
            "Initial memory usage: 123.89453125 MB\n",
            "Final memory usage: 239.9375 MB\n",
            "Memory usage difference: 116.04296875 MB\n",
            "<ipython-input-11-72cf7dbf1cfb>:7: size=34.8 MiB, count=999745, average=36 B\n",
            "/usr/local/lib/python3.10/dist-packages/google/colab/_variable_inspector.py:28: size=2208 B, count=1, average=2208 B\n",
            "/usr/local/lib/python3.10/dist-packages/debugpy/_vendored/pydevd/_pydevd_bundle/pydevd_comm.py:204: size=1057 B, count=1, average=1057 B\n",
            "/usr/local/lib/python3.10/dist-packages/psutil/_pslinux.py:1653: size=936 B, count=2, average=468 B\n",
            "/usr/local/lib/python3.10/dist-packages/psutil/_common.py:478: size=856 B, count=2, average=428 B\n",
            "/usr/local/lib/python3.10/dist-packages/psutil/__init__.py:356: size=744 B, count=2, average=372 B\n",
            "/usr/local/lib/python3.10/dist-packages/ipykernel/iostream.py:402: size=576 B, count=4, average=144 B\n",
            "<ipython-input-11-72cf7dbf1cfb>:25: size=512 B, count=1, average=512 B\n",
            "/usr/local/lib/python3.10/dist-packages/psutil/_pslinux.py:1888: size=512 B, count=1, average=512 B\n",
            "<ipython-input-11-72cf7dbf1cfb>:15: size=492 B, count=3, average=164 B\n"
          ]
        }
      ]
    },
    {
      "cell_type": "markdown",
      "source": [
        "#Q17 : Write a Python program to create and write a list of numbers to a file, one number per line.\n",
        "\n",
        "ans : Here is a simple Python program that creates a list of numbers and writes each number to a file, one number per line:\n"
      ],
      "metadata": {
        "id": "KIqSdjWKIeyO"
      }
    },
    {
      "cell_type": "code",
      "source": [
        "def write_numbers_to_file(filename, numbers):\n",
        "    try:\n",
        "        with open(filename, 'w') as file:\n",
        "            for number in numbers:\n",
        "                file.write(str(number) + '\\n')\n",
        "        print(f\"Numbers written to {filename} successfully.\")\n",
        "    except Exception as e:\n",
        "        print(f\"An error occurred: {e}\")\n",
        "\n",
        "def main():\n",
        "    # Create a list of numbers\n",
        "    numbers = [i for i in range(1, 11)]\n",
        "\n",
        "    # Specify the filename\n",
        "    filename = 'numbers.txt'\n",
        "\n",
        "    # Write the numbers to the file\n",
        "    write_numbers_to_file(filename, numbers)\n",
        "\n",
        "if __name__ == \"__main__\":\n",
        "    main()\n",
        "\n"
      ],
      "metadata": {
        "colab": {
          "base_uri": "https://localhost:8080/"
        },
        "id": "wyDecACbIvxS",
        "outputId": "efcde086-e62d-4e5a-ee31-6a80445aafc3"
      },
      "execution_count": null,
      "outputs": [
        {
          "output_type": "stream",
          "name": "stdout",
          "text": [
            "Numbers written to numbers.txt successfully.\n"
          ]
        }
      ]
    },
    {
      "cell_type": "markdown",
      "source": [
        "#Q18 : How would you implement a basic logging setup that logs to a file with rotation after 1MB?\n",
        "\n",
        "\n",
        "ans :  Here's an example of how we can implement a basic logging setup that logs to a file with rotation after 1MB using Python's built-in logging module:\n"
      ],
      "metadata": {
        "id": "bBSOJYgtI2kO"
      }
    },
    {
      "cell_type": "code",
      "source": [
        "import logging\n",
        "from logging.handlers import RotatingFileHandler\n",
        "\n",
        "def setup_logging():\n",
        "    # Create a logger\n",
        "    logger = logging.getLogger(__name__)\n",
        "\n",
        "    # Set the logging level to DEBUG\n",
        "    logger.setLevel(logging.DEBUG)\n",
        "\n",
        "    # Create a rotating file handler\n",
        "    file_handler = RotatingFileHandler('log_file.log', maxBytes=1*1024*1024, backupCount=5)\n",
        "\n",
        "    # Create a formatter to specify the format of the log messages\n",
        "    formatter = logging.Formatter('%(asctime)s - %(name)s - %(levelname)s - %(message)s')\n",
        "\n",
        "    # Add the formatter to the file handler\n",
        "    file_handler.setFormatter(formatter)\n",
        "\n",
        "    # Add the file handler to the logger\n",
        "    logger.addHandler(file_handler)\n",
        "\n",
        "    return logger\n",
        "\n",
        "def main():\n",
        "    logger = setup_logging()\n",
        "\n",
        "    # Log some messages\n",
        "    logger.debug('This is a debug message.')\n",
        "    logger.info('This is an info message.')\n",
        "    logger.warning('This is a warning message.')\n",
        "    logger.error('This is an error message.')\n",
        "    logger.critical('This is a critical message.')\n",
        "\n",
        "if __name__ == \"__main__\":\n",
        "    main()"
      ],
      "metadata": {
        "colab": {
          "base_uri": "https://localhost:8080/"
        },
        "id": "SO_1h94BJFbM",
        "outputId": "8ad02bf0-982b-4836-e6d3-657baa934c31"
      },
      "execution_count": null,
      "outputs": [
        {
          "output_type": "stream",
          "name": "stderr",
          "text": [
            "2024-12-09 11:19:43,777 - __main__ - DEBUG - This is a debug message.\n",
            "2024-12-09 11:19:43,777 - __main__ - DEBUG - This is a debug message.\n",
            "DEBUG:__main__:This is a debug message.\n",
            "2024-12-09 11:19:43,787 - __main__ - INFO - This is an info message.\n",
            "2024-12-09 11:19:43,787 - __main__ - INFO - This is an info message.\n",
            "INFO:__main__:This is an info message.\n",
            "2024-12-09 11:19:43,792 - __main__ - WARNING - This is a warning message.\n",
            "2024-12-09 11:19:43,792 - __main__ - WARNING - This is a warning message.\n",
            "WARNING:__main__:This is a warning message.\n",
            "2024-12-09 11:19:43,795 - __main__ - ERROR - This is an error message.\n",
            "2024-12-09 11:19:43,795 - __main__ - ERROR - This is an error message.\n",
            "ERROR:__main__:This is an error message.\n",
            "2024-12-09 11:19:43,800 - __main__ - CRITICAL - This is a critical message.\n",
            "2024-12-09 11:19:43,800 - __main__ - CRITICAL - This is a critical message.\n",
            "CRITICAL:__main__:This is a critical message.\n"
          ]
        }
      ]
    },
    {
      "cell_type": "markdown",
      "source": [
        "#Q19 : Write a program that handles both IndexError and KeyError using a try-except block.\n",
        "\n",
        "\n",
        "ans :  Here's an example of a program that handles both IndexError and KeyError using a try-except block:\n"
      ],
      "metadata": {
        "id": "I8G5wfqbJdyG"
      }
    },
    {
      "cell_type": "code",
      "source": [
        "\n",
        "\n",
        "def access_data(data, index, key):\n",
        "    try:\n",
        "        # Accessing a list with an index\n",
        "        list_value = data[index]\n",
        "\n",
        "        # Accessing a dictionary with a key\n",
        "        dict_value = list_value[key]\n",
        "\n",
        "        print(f\"The value at index {index} and key '{key}' is: {dict_value}\")\n",
        "\n",
        "    except IndexError as e:\n",
        "        print(f\"IndexError: {e}\")\n",
        "\n",
        "    except KeyError as e:\n",
        "        print(f\"KeyError: {e}\")\n",
        "\n",
        "    except Exception as e:\n",
        "        print(f\"An unexpected error occurred: {e}\")\n",
        "\n",
        "# Example usage\n",
        "data = [\n",
        "    {\"name\": \"John\", \"age\": 30},\n",
        "    {\"name\": \"Jane\", \"age\": 25}\n",
        "]\n",
        "\n",
        "access_data(data, 0, \"name\")\n",
        "access_data(data, 2, \"name\")\n",
        "access_data(data, 0, \"city\")"
      ],
      "metadata": {
        "colab": {
          "base_uri": "https://localhost:8080/"
        },
        "id": "x3BjV9clJ8AG",
        "outputId": "aeb44c4e-1294-4b72-a825-5503c18dbd38"
      },
      "execution_count": null,
      "outputs": [
        {
          "output_type": "stream",
          "name": "stdout",
          "text": [
            "The value at index 0 and key 'name' is: John\n",
            "IndexError: list index out of range\n",
            "KeyError: 'city'\n"
          ]
        }
      ]
    },
    {
      "cell_type": "markdown",
      "source": [
        "#Q20 : How would you open a file and read its contents using a context manager in Python?\n",
        "\n",
        "ans : Here's an example of how we can open a file and read its contents using a context manager in Python:\n"
      ],
      "metadata": {
        "id": "2Whecn5xKKNS"
      }
    },
    {
      "cell_type": "code",
      "source": [
        "def read_file_contents(filename):\n",
        "    try:\n",
        "        with open(filename, 'r') as file:\n",
        "            contents = file.read()\n",
        "            print(f\"The contents of the file '{filename}' are:\")\n",
        "            print(contents)\n",
        "    except FileNotFoundError:\n",
        "        print(f\"Sorry, the file '{filename}' does not exist.\")\n",
        "    except Exception as e:\n",
        "        print(f\"An error occurred: {e}\")\n",
        "\n",
        "filename = input(\"Enter the filename: \")\n",
        "read_file_contents(filename)\n"
      ],
      "metadata": {
        "colab": {
          "base_uri": "https://localhost:8080/"
        },
        "id": "ctZgG754KdGy",
        "outputId": "c800ac84-5838-44ce-fea6-f1dc2cc57d2d"
      },
      "execution_count": null,
      "outputs": [
        {
          "output_type": "stream",
          "name": "stdout",
          "text": [
            "Enter the filename: numbers.txt\n",
            "The contents of the file 'numbers.txt' are:\n",
            "1\n",
            "2\n",
            "3\n",
            "4\n",
            "5\n",
            "6\n",
            "7\n",
            "8\n",
            "9\n",
            "10\n",
            "\n"
          ]
        }
      ]
    },
    {
      "cell_type": "markdown",
      "source": [
        "#Q21 : Write a Python program that reads a file and prints the number of occurrences of a specific word.\n",
        "\n",
        "ans :  Here's a Python program that reads a file and prints the number of occurrences of a specific word:\n"
      ],
      "metadata": {
        "id": "IhYv8sXhK71X"
      }
    },
    {
      "cell_type": "code",
      "source": [
        "def count_word_occurrences(filename, word):\n",
        "    try:\n",
        "        with open(filename, 'r') as file:\n",
        "            content = file.read().lower().split()\n",
        "            word_count = content.count(word.lower())\n",
        "            print(f\"The word '{word}' occurs {word_count} times in the file '{filename}'.\")\n",
        "    except FileNotFoundError:\n",
        "        print(f\"Sorry, the file '{filename}' does not exist.\")\n",
        "    except Exception as e:\n",
        "        print(f\"An error occurred: {e}\")\n",
        "\n",
        "filename = input(\"Enter the filename: \")\n",
        "word = input(\"Enter the word to search for: \")\n",
        "count_word_occurrences(filename, word)\n"
      ],
      "metadata": {
        "colab": {
          "base_uri": "https://localhost:8080/"
        },
        "id": "DT4ERhFzLLEC",
        "outputId": "1f3bad8e-2327-449b-a6e6-fb3e9ad50cce"
      },
      "execution_count": null,
      "outputs": [
        {
          "output_type": "stream",
          "name": "stdout",
          "text": [
            "Enter the filename: numbers.txt\n",
            "Enter the word to search for: 7\n",
            "The word '7' occurs 1 times in the file 'numbers.txt'.\n"
          ]
        }
      ]
    },
    {
      "cell_type": "markdown",
      "source": [
        "#Q22 :  How can you check if a file is empty before attempting to read its contents?\n",
        "\n",
        "ans : Here are a few ways to check if a file is empty before attempting to read its contents in Python:\n"
      ],
      "metadata": {
        "id": "pveKYJUOLnsy"
      }
    },
    {
      "cell_type": "code",
      "source": [
        "\n",
        "#Method 1: Using os.path.getsize()\n",
        "\n",
        "\n",
        "import os\n",
        "\n",
        "def is_file_empty(filename):\n",
        "    return os.path.getsize(filename) == 0\n",
        "\n",
        "filename = 'example.txt'\n",
        "if is_file_empty(filename):\n",
        "    print(f\"The file '{filename}' is empty.\")\n",
        "else:\n",
        "    print(f\"The file '{filename}' is not empty.\")\n",
        "\n",
        "\n",
        "#Method 2: Using os.stat()\n",
        "\n",
        "\n",
        "import os\n",
        "\n",
        "def is_file_empty(filename):\n",
        "    return os.stat(filename).st_size == 0\n",
        "\n",
        "filename = 'example.txt'\n",
        "if is_file_empty(filename):\n",
        "    print(f\"The file '{filename}' is empty.\")\n",
        "else:\n",
        "    print(f\"The file '{filename}' is not empty.\")\n",
        "\n",
        "\n",
        "#Method 3: Using a try-except block with open()\n",
        "\n",
        "\n",
        "def is_file_empty(filename):\n",
        "    try:\n",
        "        with open(filename, 'r') as file:\n",
        "            return len(file.read()) == 0\n",
        "    except FileNotFoundError:\n",
        "        print(f\"The file '{filename}' does not exist.\")\n",
        "        return None\n",
        "\n",
        "filename = 'example.txt'\n",
        "if is_file_empty(filename):\n",
        "    print(f\"The file '{filename}' is empty.\")\n",
        "else:\n",
        "    print(f\"The file '{filename}' is not empty.\")\n",
        "\n",
        "\n",
        "#Method 4: Using pathlib module\n",
        "\n",
        "\n",
        "import pathlib\n",
        "\n",
        "def is_file_empty(filename):\n",
        "    file_path = pathlib.Path(filename)\n",
        "    return file_path.stat().st_size == 0\n",
        "\n",
        "filename = 'example.txt'\n",
        "if is_file_empty(filename):\n",
        "    print(f\"The file '{filename}' is empty.\")\n",
        "else:\n",
        "    print(f\"The file '{filename}' is not empty.\")\n",
        "\n",
        "\n",
        "#Each of these methods has its own advantages and disadvantages. The os.path.getsize() method is generally the most efficient way to check if a file is empty."
      ],
      "metadata": {
        "colab": {
          "base_uri": "https://localhost:8080/"
        },
        "id": "eCFBKTU8L3z1",
        "outputId": "b0c2b6c9-55be-45a9-9c0e-c65f74e0f891"
      },
      "execution_count": null,
      "outputs": [
        {
          "output_type": "stream",
          "name": "stdout",
          "text": [
            "The file 'example.txt' is not empty.\n",
            "The file 'example.txt' is not empty.\n",
            "The file 'example.txt' is not empty.\n",
            "The file 'example.txt' is not empty.\n"
          ]
        }
      ]
    },
    {
      "cell_type": "markdown",
      "source": [
        "#Q23 :  Write a Python program that writes to a log file when an error occurs during file handling.\n",
        "\n",
        "\n",
        "ans :  Here's an example of a Python program that writes to a log file when an error occurs during file handling:"
      ],
      "metadata": {
        "id": "Xcm_qkQ9MJFJ"
      }
    },
    {
      "cell_type": "code",
      "source": [
        "import logging\n",
        "\n",
        "# Set up logging configuration\n",
        "logging.basicConfig(filename='error.log', level=logging.ERROR, format='%(asctime)s - %(levelname)s - %(message)s')\n",
        "\n",
        "def read_file(filename):\n",
        "    try:\n",
        "        with open(filename, 'r') as file:\n",
        "            content = file.read()\n",
        "            print(content)\n",
        "    except FileNotFoundError:\n",
        "        logging.error(f\"The file '{filename}' was not found.\")\n",
        "    except PermissionError:\n",
        "        logging.error(f\"Permission denied to access the file '{filename}'.\")\n",
        "    except Exception as e:\n",
        "        logging.error(f\"An error occurred while reading the file '{filename}': {e}\")\n",
        "\n",
        "def write_file(filename, content):\n",
        "    try:\n",
        "        with open(filename, 'w') as file:\n",
        "            file.write(content)\n",
        "    except PermissionError:\n",
        "        logging.error(f\"Permission denied to write to the file '{filename}'.\")\n",
        "    except Exception as e:\n",
        "        logging.error(f\"An error occurred while writing to the file '{filename}': {e}\")\n",
        "\n",
        "def main():\n",
        "    filename = 'example.txt'\n",
        "    content = 'Hello, World!'\n",
        "\n",
        "    read_file(filename)\n",
        "    write_file(filename, content)\n",
        "\n",
        "if __name__ == \"__main__\":\n",
        "    main()"
      ],
      "metadata": {
        "colab": {
          "base_uri": "https://localhost:8080/"
        },
        "id": "PEMi1OZWMYj1",
        "outputId": "c3842b25-a239-4b82-d46e-8f880b004a87"
      },
      "execution_count": null,
      "outputs": [
        {
          "output_type": "stream",
          "name": "stdout",
          "text": [
            "python assignment.\n",
            "\n"
          ]
        }
      ]
    },
    {
      "cell_type": "markdown",
      "source": [
        "*I could't run a few codes because my collab is crashing."
      ],
      "metadata": {
        "id": "DrHq7Qz2Ojlu"
      }
    }
  ]
}